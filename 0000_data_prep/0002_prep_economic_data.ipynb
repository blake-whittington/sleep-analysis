{
 "cells": [
  {
   "cell_type": "markdown",
   "id": "e366c3a3-296f-4e62-b347-7e6cbffb2655",
   "metadata": {},
   "source": [
    "# How Not To Put A Nation To Sleep\n",
    "## Blake Whittington and Gabriele Spiridaviciute\n",
    "***\n",
    "## How Does Economic Health Affect People's Sleep?\n",
    "In this notbook we want to see how inflation, GDP and unemployment affects how Americans sleep."
   ]
  },
  {
   "cell_type": "code",
   "execution_count": 1,
   "id": "c6b4e7d1-ee43-47be-b6d6-de4332a700a2",
   "metadata": {},
   "outputs": [],
   "source": [
    "import pandas as pd\n",
    "import matplotlib.pyplot as plt\n",
    "import datetime"
   ]
  },
  {
   "cell_type": "code",
   "execution_count": 2,
   "id": "fbc7e930-4c3f-4898-89d4-bc79cfd52726",
   "metadata": {},
   "outputs": [],
   "source": [
    "gdp_df = pd.read_html('https://www.macrotrends.net/countries/USA/united-states/gdp-growth-rate')\n",
    "employment_df = pd.read_html('https://www.macrotrends.net/countries/USA/united-states/unemployment-rate')\n",
    "inflation_df = pd.read_html('https://www.macrotrends.net/countries/USA/united-states/inflation-rate-cpi')\n"
   ]
  },
  {
   "cell_type": "code",
   "execution_count": 3,
   "id": "48cbc62c-ee93-4fd7-bc81-7c1546a338ca",
   "metadata": {},
   "outputs": [
    {
     "data": {
      "text/html": [
       "<div>\n",
       "<style scoped>\n",
       "    .dataframe tbody tr th:only-of-type {\n",
       "        vertical-align: middle;\n",
       "    }\n",
       "\n",
       "    .dataframe tbody tr th {\n",
       "        vertical-align: top;\n",
       "    }\n",
       "\n",
       "    .dataframe thead th {\n",
       "        text-align: right;\n",
       "    }\n",
       "</style>\n",
       "<table border=\"1\" class=\"dataframe\">\n",
       "  <thead>\n",
       "    <tr style=\"text-align: right;\">\n",
       "      <th></th>\n",
       "      <th>Year</th>\n",
       "      <th>GDP Growth (%)</th>\n",
       "      <th>Annual Change</th>\n",
       "    </tr>\n",
       "  </thead>\n",
       "  <tbody>\n",
       "    <tr>\n",
       "      <th>0</th>\n",
       "      <td>2020</td>\n",
       "      <td>-3.49%</td>\n",
       "      <td>-5.65%</td>\n",
       "    </tr>\n",
       "    <tr>\n",
       "      <th>1</th>\n",
       "      <td>2019</td>\n",
       "      <td>2.16%</td>\n",
       "      <td>-0.84%</td>\n",
       "    </tr>\n",
       "    <tr>\n",
       "      <th>2</th>\n",
       "      <td>2018</td>\n",
       "      <td>3.00%</td>\n",
       "      <td>0.66%</td>\n",
       "    </tr>\n",
       "    <tr>\n",
       "      <th>3</th>\n",
       "      <td>2017</td>\n",
       "      <td>2.33%</td>\n",
       "      <td>0.62%</td>\n",
       "    </tr>\n",
       "    <tr>\n",
       "      <th>4</th>\n",
       "      <td>2016</td>\n",
       "      <td>1.71%</td>\n",
       "      <td>-1.36%</td>\n",
       "    </tr>\n",
       "  </tbody>\n",
       "</table>\n",
       "</div>"
      ],
      "text/plain": [
       "   Year GDP Growth (%) Annual Change\n",
       "0  2020         -3.49%        -5.65%\n",
       "1  2019          2.16%        -0.84%\n",
       "2  2018          3.00%         0.66%\n",
       "3  2017          2.33%         0.62%\n",
       "4  2016          1.71%        -1.36%"
      ]
     },
     "execution_count": 3,
     "metadata": {},
     "output_type": "execute_result"
    }
   ],
   "source": [
    "US_GDP_df = gdp_df[1]\n",
    "US_GDP_df.columns =US_GDP_df.columns.droplevel()\n",
    "US_GDP_df.head()"
   ]
  },
  {
   "cell_type": "code",
   "execution_count": 4,
   "id": "5e2389fb-cbe0-48a0-89b0-bee229826060",
   "metadata": {},
   "outputs": [],
   "source": [
    "def change_type(column):\n",
    "    return float(column.translate({ord('%'): None}))\n",
    "\n",
    "def change_year_type(year_column):\n",
    "    return pd.to_datetime(year_column, format='%Y')"
   ]
  },
  {
   "cell_type": "code",
   "execution_count": 5,
   "id": "b1f4e94e-aa59-405b-833b-1e6ebd381477",
   "metadata": {},
   "outputs": [
    {
     "data": {
      "text/html": [
       "<div>\n",
       "<style scoped>\n",
       "    .dataframe tbody tr th:only-of-type {\n",
       "        vertical-align: middle;\n",
       "    }\n",
       "\n",
       "    .dataframe tbody tr th {\n",
       "        vertical-align: top;\n",
       "    }\n",
       "\n",
       "    .dataframe thead th {\n",
       "        text-align: right;\n",
       "    }\n",
       "</style>\n",
       "<table border=\"1\" class=\"dataframe\">\n",
       "  <thead>\n",
       "    <tr style=\"text-align: right;\">\n",
       "      <th></th>\n",
       "      <th>Year</th>\n",
       "      <th>Unemployment Rate (%)</th>\n",
       "      <th>Annual Change</th>\n",
       "    </tr>\n",
       "  </thead>\n",
       "  <tbody>\n",
       "    <tr>\n",
       "      <th>0</th>\n",
       "      <td>2020</td>\n",
       "      <td>8.31%</td>\n",
       "      <td>4.64%</td>\n",
       "    </tr>\n",
       "    <tr>\n",
       "      <th>1</th>\n",
       "      <td>2019</td>\n",
       "      <td>3.67%</td>\n",
       "      <td>-0.23%</td>\n",
       "    </tr>\n",
       "    <tr>\n",
       "      <th>2</th>\n",
       "      <td>2018</td>\n",
       "      <td>3.90%</td>\n",
       "      <td>-0.46%</td>\n",
       "    </tr>\n",
       "    <tr>\n",
       "      <th>3</th>\n",
       "      <td>2017</td>\n",
       "      <td>4.36%</td>\n",
       "      <td>-0.51%</td>\n",
       "    </tr>\n",
       "    <tr>\n",
       "      <th>4</th>\n",
       "      <td>2016</td>\n",
       "      <td>4.87%</td>\n",
       "      <td>-0.41%</td>\n",
       "    </tr>\n",
       "  </tbody>\n",
       "</table>\n",
       "</div>"
      ],
      "text/plain": [
       "   Year Unemployment Rate (%) Annual Change\n",
       "0  2020                 8.31%         4.64%\n",
       "1  2019                 3.67%        -0.23%\n",
       "2  2018                 3.90%        -0.46%\n",
       "3  2017                 4.36%        -0.51%\n",
       "4  2016                 4.87%        -0.41%"
      ]
     },
     "execution_count": 5,
     "metadata": {},
     "output_type": "execute_result"
    }
   ],
   "source": [
    "US_employment_df = employment_df[1]\n",
    "US_employment_df.columns =US_employment_df.columns.droplevel()\n",
    "US_employment_df.head()"
   ]
  },
  {
   "cell_type": "code",
   "execution_count": 6,
   "id": "d39131ef-530c-4a91-9e41-08e466da3110",
   "metadata": {},
   "outputs": [
    {
     "data": {
      "text/html": [
       "<div>\n",
       "<style scoped>\n",
       "    .dataframe tbody tr th:only-of-type {\n",
       "        vertical-align: middle;\n",
       "    }\n",
       "\n",
       "    .dataframe tbody tr th {\n",
       "        vertical-align: top;\n",
       "    }\n",
       "\n",
       "    .dataframe thead th {\n",
       "        text-align: right;\n",
       "    }\n",
       "</style>\n",
       "<table border=\"1\" class=\"dataframe\">\n",
       "  <thead>\n",
       "    <tr style=\"text-align: right;\">\n",
       "      <th></th>\n",
       "      <th>Year</th>\n",
       "      <th>Inflation Rate (%)</th>\n",
       "      <th>Annual Change</th>\n",
       "    </tr>\n",
       "  </thead>\n",
       "  <tbody>\n",
       "    <tr>\n",
       "      <th>0</th>\n",
       "      <td>2020</td>\n",
       "      <td>1.23%</td>\n",
       "      <td>-0.58%</td>\n",
       "    </tr>\n",
       "    <tr>\n",
       "      <th>1</th>\n",
       "      <td>2019</td>\n",
       "      <td>1.81%</td>\n",
       "      <td>-0.63%</td>\n",
       "    </tr>\n",
       "    <tr>\n",
       "      <th>2</th>\n",
       "      <td>2018</td>\n",
       "      <td>2.44%</td>\n",
       "      <td>0.31%</td>\n",
       "    </tr>\n",
       "    <tr>\n",
       "      <th>3</th>\n",
       "      <td>2017</td>\n",
       "      <td>2.13%</td>\n",
       "      <td>0.87%</td>\n",
       "    </tr>\n",
       "    <tr>\n",
       "      <th>4</th>\n",
       "      <td>2016</td>\n",
       "      <td>1.26%</td>\n",
       "      <td>1.14%</td>\n",
       "    </tr>\n",
       "  </tbody>\n",
       "</table>\n",
       "</div>"
      ],
      "text/plain": [
       "   Year Inflation Rate (%) Annual Change\n",
       "0  2020              1.23%        -0.58%\n",
       "1  2019              1.81%        -0.63%\n",
       "2  2018              2.44%         0.31%\n",
       "3  2017              2.13%         0.87%\n",
       "4  2016              1.26%         1.14%"
      ]
     },
     "execution_count": 6,
     "metadata": {},
     "output_type": "execute_result"
    }
   ],
   "source": [
    "US_inflation_df = inflation_df[1]\n",
    "US_inflation_df.columns =US_inflation_df.columns.droplevel()\n",
    "US_inflation_df.head()"
   ]
  },
  {
   "cell_type": "code",
   "execution_count": 7,
   "id": "063487c2-c1d6-4e9f-8c7c-dc0e246edc9d",
   "metadata": {},
   "outputs": [],
   "source": [
    "US_GDP_df.to_pickle('../data_file/cleaned_data_pickle/US_GDP.pickle')\n",
    "US_employment_df.to_pickle('../data_file/cleaned_data_pickle/US_employment.pickle')\n",
    "US_inflation_df.to_pickle('../data_file/cleaned_data_pickle/US_inflation.pickle')\n"
   ]
  },
  {
   "cell_type": "code",
   "execution_count": null,
   "id": "cbc5ed2b-c3c5-4060-b900-74fae2b5c223",
   "metadata": {},
   "outputs": [],
   "source": []
  },
  {
   "cell_type": "code",
   "execution_count": null,
   "id": "5703a2b4-9da1-43ad-9db7-e01d1e5df289",
   "metadata": {},
   "outputs": [],
   "source": []
  },
  {
   "cell_type": "code",
   "execution_count": null,
   "id": "348c87ad-ba30-474f-91b3-39ed6cad0a6f",
   "metadata": {},
   "outputs": [],
   "source": []
  }
 ],
 "metadata": {
  "kernelspec": {
   "display_name": "Python 3",
   "language": "python",
   "name": "python3"
  },
  "language_info": {
   "codemirror_mode": {
    "name": "ipython",
    "version": 3
   },
   "file_extension": ".py",
   "mimetype": "text/x-python",
   "name": "python",
   "nbconvert_exporter": "python",
   "pygments_lexer": "ipython3",
   "version": "3.8.8"
  }
 },
 "nbformat": 4,
 "nbformat_minor": 5
}
