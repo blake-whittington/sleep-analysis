{
 "cells": [
  {
   "cell_type": "markdown",
   "metadata": {
    "pycharm": {
     "name": "#%% md\n"
    }
   },
   "source": [
    "# How Not To Put A Nation To Sleep\n",
    "## Blake Whittington and Gabriele Spiridaviciute\n",
    "***\n",
    "## Are People a Good Judge of Their Own Sleep and Health?\n",
    "### Final Cluster Analysis\n",
    "\n",
    "The main purpose of this notebook is to show which clusters are the most healthy vs unhealthy as well as to show which clusters are suffering the most from each substance. We already did a sort of preliminary version of this in 3023_initial_cluster_results.ipynb, however this technique used in this notebook is more advanced and will be used in the final report."
   ]
  },
  {
   "cell_type": "markdown",
   "metadata": {},
   "source": [
    "## Imports"
   ]
  },
  {
   "cell_type": "code",
   "execution_count": 1,
   "metadata": {
    "pycharm": {
     "name": "#%%\n"
    }
   },
   "outputs": [],
   "source": [
    "import pandas as pd\n",
    "import numpy as np\n",
    "import matplotlib.pyplot as plt"
   ]
  },
  {
   "cell_type": "markdown",
   "metadata": {
    "pycharm": {
     "name": "#%% md\n"
    }
   },
   "source": [
    "## Load dataframes"
   ]
  },
  {
   "cell_type": "code",
   "execution_count": 2,
   "metadata": {
    "pycharm": {
     "name": "#%%\n"
    }
   },
   "outputs": [],
   "source": [
    "alcohol_results = pd.read_pickle('../data_file/cleaned_data_pickle/alcohol_dataframe_results.pickle')\n",
    "tobacco_results = pd.read_pickle('../data_file/cleaned_data_pickle/tobacco_dataframe_results.pickle')\n",
    "caffeine_results = pd.read_pickle('../data_file/cleaned_data_pickle/caffeine_dataframe_results.pickle')\n",
    "cluster_desirability_df = pd.read_pickle('../data_file/cleaned_data_pickle/cluster_descriptions.pickle')"
   ]
  },
  {
   "cell_type": "code",
   "execution_count": 3,
   "metadata": {
    "pycharm": {
     "name": "#%%\n"
    }
   },
   "outputs": [
    {
     "data": {
      "text/html": [
       "<div>\n",
       "<style scoped>\n",
       "    .dataframe tbody tr th:only-of-type {\n",
       "        vertical-align: middle;\n",
       "    }\n",
       "\n",
       "    .dataframe tbody tr th {\n",
       "        vertical-align: top;\n",
       "    }\n",
       "\n",
       "    .dataframe thead th {\n",
       "        text-align: right;\n",
       "    }\n",
       "</style>\n",
       "<table border=\"1\" class=\"dataframe\">\n",
       "  <thead>\n",
       "    <tr style=\"text-align: right;\">\n",
       "      <th></th>\n",
       "      <th>id</th>\n",
       "      <th>age</th>\n",
       "      <th>employment_status</th>\n",
       "      <th>gender</th>\n",
       "      <th>state</th>\n",
       "      <th>bed_time_weekdays</th>\n",
       "      <th>wake_up_weekdays</th>\n",
       "      <th>bed_time_wrong</th>\n",
       "      <th>wake_up_wrong</th>\n",
       "      <th>time_awake_wrong</th>\n",
       "      <th>...</th>\n",
       "      <th>num_drinks_max</th>\n",
       "      <th>num_drinks_min</th>\n",
       "      <th>calc_days</th>\n",
       "      <th>num_days_max</th>\n",
       "      <th>num_days_min</th>\n",
       "      <th>calculated_drinks_min</th>\n",
       "      <th>calculated_drinks_max</th>\n",
       "      <th>total_drinks</th>\n",
       "      <th>limit_status</th>\n",
       "      <th>cluster_group</th>\n",
       "    </tr>\n",
       "  </thead>\n",
       "  <tbody>\n",
       "    <tr>\n",
       "      <th>0</th>\n",
       "      <td>1</td>\n",
       "      <td>39</td>\n",
       "      <td>3</td>\n",
       "      <td>Male</td>\n",
       "      <td>CO</td>\n",
       "      <td>14</td>\n",
       "      <td>17</td>\n",
       "      <td>1000.0</td>\n",
       "      <td>2050.0</td>\n",
       "      <td>1050.0</td>\n",
       "      <td>...</td>\n",
       "      <td>0</td>\n",
       "      <td>0</td>\n",
       "      <td>0</td>\n",
       "      <td>0</td>\n",
       "      <td>0</td>\n",
       "      <td>0</td>\n",
       "      <td>0</td>\n",
       "      <td>0 Drinks</td>\n",
       "      <td>Below Drinking Limit</td>\n",
       "      <td>2.0</td>\n",
       "    </tr>\n",
       "    <tr>\n",
       "      <th>1</th>\n",
       "      <td>2</td>\n",
       "      <td>57</td>\n",
       "      <td>1</td>\n",
       "      <td>Female</td>\n",
       "      <td>AL</td>\n",
       "      <td>10</td>\n",
       "      <td>7</td>\n",
       "      <td>900.0</td>\n",
       "      <td>1800.0</td>\n",
       "      <td>900.0</td>\n",
       "      <td>...</td>\n",
       "      <td>0</td>\n",
       "      <td>0</td>\n",
       "      <td>0</td>\n",
       "      <td>0</td>\n",
       "      <td>0</td>\n",
       "      <td>0</td>\n",
       "      <td>0</td>\n",
       "      <td>0 Drinks</td>\n",
       "      <td>Below Drinking Limit</td>\n",
       "      <td>4.0</td>\n",
       "    </tr>\n",
       "    <tr>\n",
       "      <th>2</th>\n",
       "      <td>3</td>\n",
       "      <td>51</td>\n",
       "      <td>1</td>\n",
       "      <td>Male</td>\n",
       "      <td>NV</td>\n",
       "      <td>14</td>\n",
       "      <td>9</td>\n",
       "      <td>1000.0</td>\n",
       "      <td>1850.0</td>\n",
       "      <td>850.0</td>\n",
       "      <td>...</td>\n",
       "      <td>2</td>\n",
       "      <td>1</td>\n",
       "      <td>1-3</td>\n",
       "      <td>3</td>\n",
       "      <td>1</td>\n",
       "      <td>1</td>\n",
       "      <td>6</td>\n",
       "      <td>1-6 Drinks</td>\n",
       "      <td>Below Drinking Limit</td>\n",
       "      <td>6.0</td>\n",
       "    </tr>\n",
       "    <tr>\n",
       "      <th>3</th>\n",
       "      <td>3</td>\n",
       "      <td>38</td>\n",
       "      <td>1</td>\n",
       "      <td>Male</td>\n",
       "      <td>FL</td>\n",
       "      <td>15</td>\n",
       "      <td>10</td>\n",
       "      <td>1025.0</td>\n",
       "      <td>1875.0</td>\n",
       "      <td>850.0</td>\n",
       "      <td>...</td>\n",
       "      <td>2</td>\n",
       "      <td>1</td>\n",
       "      <td>4-6</td>\n",
       "      <td>6</td>\n",
       "      <td>4</td>\n",
       "      <td>4</td>\n",
       "      <td>12</td>\n",
       "      <td>4-12 Drinks</td>\n",
       "      <td>Below Drinking Limit</td>\n",
       "      <td>NaN</td>\n",
       "    </tr>\n",
       "    <tr>\n",
       "      <th>4</th>\n",
       "      <td>4</td>\n",
       "      <td>60</td>\n",
       "      <td>1</td>\n",
       "      <td>Male</td>\n",
       "      <td>CT</td>\n",
       "      <td>18</td>\n",
       "      <td>8</td>\n",
       "      <td>1100.0</td>\n",
       "      <td>1825.0</td>\n",
       "      <td>725.0</td>\n",
       "      <td>...</td>\n",
       "      <td>2</td>\n",
       "      <td>1</td>\n",
       "      <td>4-6</td>\n",
       "      <td>6</td>\n",
       "      <td>4</td>\n",
       "      <td>4</td>\n",
       "      <td>12</td>\n",
       "      <td>4-12 Drinks</td>\n",
       "      <td>Below Drinking Limit</td>\n",
       "      <td>NaN</td>\n",
       "    </tr>\n",
       "    <tr>\n",
       "      <th>...</th>\n",
       "      <td>...</td>\n",
       "      <td>...</td>\n",
       "      <td>...</td>\n",
       "      <td>...</td>\n",
       "      <td>...</td>\n",
       "      <td>...</td>\n",
       "      <td>...</td>\n",
       "      <td>...</td>\n",
       "      <td>...</td>\n",
       "      <td>...</td>\n",
       "      <td>...</td>\n",
       "      <td>...</td>\n",
       "      <td>...</td>\n",
       "      <td>...</td>\n",
       "      <td>...</td>\n",
       "      <td>...</td>\n",
       "      <td>...</td>\n",
       "      <td>...</td>\n",
       "      <td>...</td>\n",
       "      <td>...</td>\n",
       "      <td>...</td>\n",
       "    </tr>\n",
       "    <tr>\n",
       "      <th>995</th>\n",
       "      <td>956</td>\n",
       "      <td>43</td>\n",
       "      <td>2</td>\n",
       "      <td>Female</td>\n",
       "      <td>NY</td>\n",
       "      <td>18</td>\n",
       "      <td>15</td>\n",
       "      <td>1100.0</td>\n",
       "      <td>2000.0</td>\n",
       "      <td>900.0</td>\n",
       "      <td>...</td>\n",
       "      <td>0</td>\n",
       "      <td>0</td>\n",
       "      <td>0</td>\n",
       "      <td>0</td>\n",
       "      <td>0</td>\n",
       "      <td>0</td>\n",
       "      <td>0</td>\n",
       "      <td>0 Drinks</td>\n",
       "      <td>Below Drinking Limit</td>\n",
       "      <td>NaN</td>\n",
       "    </tr>\n",
       "    <tr>\n",
       "      <th>996</th>\n",
       "      <td>959</td>\n",
       "      <td>26</td>\n",
       "      <td>1</td>\n",
       "      <td>Male</td>\n",
       "      <td>NY</td>\n",
       "      <td>2</td>\n",
       "      <td>13</td>\n",
       "      <td>1201.7</td>\n",
       "      <td>1950.0</td>\n",
       "      <td>748.3</td>\n",
       "      <td>...</td>\n",
       "      <td>0</td>\n",
       "      <td>0</td>\n",
       "      <td>0</td>\n",
       "      <td>0</td>\n",
       "      <td>0</td>\n",
       "      <td>0</td>\n",
       "      <td>0</td>\n",
       "      <td>0 Drinks</td>\n",
       "      <td>Below Drinking Limit</td>\n",
       "      <td>2.0</td>\n",
       "    </tr>\n",
       "    <tr>\n",
       "      <th>997</th>\n",
       "      <td>963</td>\n",
       "      <td>45</td>\n",
       "      <td>1</td>\n",
       "      <td>Female</td>\n",
       "      <td>NY</td>\n",
       "      <td>18</td>\n",
       "      <td>11</td>\n",
       "      <td>1100.0</td>\n",
       "      <td>1900.0</td>\n",
       "      <td>800.0</td>\n",
       "      <td>...</td>\n",
       "      <td>2</td>\n",
       "      <td>1</td>\n",
       "      <td>1-3</td>\n",
       "      <td>3</td>\n",
       "      <td>1</td>\n",
       "      <td>1</td>\n",
       "      <td>6</td>\n",
       "      <td>1-6 Drinks</td>\n",
       "      <td>Below Drinking Limit</td>\n",
       "      <td>NaN</td>\n",
       "    </tr>\n",
       "    <tr>\n",
       "      <th>998</th>\n",
       "      <td>964</td>\n",
       "      <td>53</td>\n",
       "      <td>1</td>\n",
       "      <td>Male</td>\n",
       "      <td>NE</td>\n",
       "      <td>16</td>\n",
       "      <td>7</td>\n",
       "      <td>1050.0</td>\n",
       "      <td>1800.0</td>\n",
       "      <td>750.0</td>\n",
       "      <td>...</td>\n",
       "      <td>2</td>\n",
       "      <td>1</td>\n",
       "      <td>0</td>\n",
       "      <td>0</td>\n",
       "      <td>0</td>\n",
       "      <td>0</td>\n",
       "      <td>0</td>\n",
       "      <td>0 Drinks</td>\n",
       "      <td>Below Drinking Limit</td>\n",
       "      <td>3.0</td>\n",
       "    </tr>\n",
       "    <tr>\n",
       "      <th>999</th>\n",
       "      <td>967</td>\n",
       "      <td>32</td>\n",
       "      <td>2</td>\n",
       "      <td>Female</td>\n",
       "      <td>AR</td>\n",
       "      <td>16</td>\n",
       "      <td>7</td>\n",
       "      <td>1050.0</td>\n",
       "      <td>1800.0</td>\n",
       "      <td>750.0</td>\n",
       "      <td>...</td>\n",
       "      <td>2</td>\n",
       "      <td>1</td>\n",
       "      <td>0</td>\n",
       "      <td>0</td>\n",
       "      <td>0</td>\n",
       "      <td>0</td>\n",
       "      <td>0</td>\n",
       "      <td>0 Drinks</td>\n",
       "      <td>Below Drinking Limit</td>\n",
       "      <td>NaN</td>\n",
       "    </tr>\n",
       "  </tbody>\n",
       "</table>\n",
       "<p>998 rows × 151 columns</p>\n",
       "</div>"
      ],
      "text/plain": [
       "      id  age  employment_status  gender state  bed_time_weekdays  \\\n",
       "0      1   39                  3    Male    CO                 14   \n",
       "1      2   57                  1  Female    AL                 10   \n",
       "2      3   51                  1    Male    NV                 14   \n",
       "3      3   38                  1    Male    FL                 15   \n",
       "4      4   60                  1    Male    CT                 18   \n",
       "..   ...  ...                ...     ...   ...                ...   \n",
       "995  956   43                  2  Female    NY                 18   \n",
       "996  959   26                  1    Male    NY                  2   \n",
       "997  963   45                  1  Female    NY                 18   \n",
       "998  964   53                  1    Male    NE                 16   \n",
       "999  967   32                  2  Female    AR                 16   \n",
       "\n",
       "     wake_up_weekdays  bed_time_wrong  wake_up_wrong  time_awake_wrong  ...  \\\n",
       "0                  17          1000.0         2050.0            1050.0  ...   \n",
       "1                   7           900.0         1800.0             900.0  ...   \n",
       "2                   9          1000.0         1850.0             850.0  ...   \n",
       "3                  10          1025.0         1875.0             850.0  ...   \n",
       "4                   8          1100.0         1825.0             725.0  ...   \n",
       "..                ...             ...            ...               ...  ...   \n",
       "995                15          1100.0         2000.0             900.0  ...   \n",
       "996                13          1201.7         1950.0             748.3  ...   \n",
       "997                11          1100.0         1900.0             800.0  ...   \n",
       "998                 7          1050.0         1800.0             750.0  ...   \n",
       "999                 7          1050.0         1800.0             750.0  ...   \n",
       "\n",
       "     num_drinks_max  num_drinks_min  calc_days  num_days_max  num_days_min  \\\n",
       "0                 0               0          0             0             0   \n",
       "1                 0               0          0             0             0   \n",
       "2                 2               1        1-3             3             1   \n",
       "3                 2               1        4-6             6             4   \n",
       "4                 2               1        4-6             6             4   \n",
       "..              ...             ...        ...           ...           ...   \n",
       "995               0               0          0             0             0   \n",
       "996               0               0          0             0             0   \n",
       "997               2               1        1-3             3             1   \n",
       "998               2               1          0             0             0   \n",
       "999               2               1          0             0             0   \n",
       "\n",
       "     calculated_drinks_min  calculated_drinks_max  total_drinks  \\\n",
       "0                        0                      0      0 Drinks   \n",
       "1                        0                      0      0 Drinks   \n",
       "2                        1                      6    1-6 Drinks   \n",
       "3                        4                     12   4-12 Drinks   \n",
       "4                        4                     12   4-12 Drinks   \n",
       "..                     ...                    ...           ...   \n",
       "995                      0                      0      0 Drinks   \n",
       "996                      0                      0      0 Drinks   \n",
       "997                      1                      6    1-6 Drinks   \n",
       "998                      0                      0      0 Drinks   \n",
       "999                      0                      0      0 Drinks   \n",
       "\n",
       "             limit_status  cluster_group  \n",
       "0    Below Drinking Limit            2.0  \n",
       "1    Below Drinking Limit            4.0  \n",
       "2    Below Drinking Limit            6.0  \n",
       "3    Below Drinking Limit            NaN  \n",
       "4    Below Drinking Limit            NaN  \n",
       "..                    ...            ...  \n",
       "995  Below Drinking Limit            NaN  \n",
       "996  Below Drinking Limit            2.0  \n",
       "997  Below Drinking Limit            NaN  \n",
       "998  Below Drinking Limit            3.0  \n",
       "999  Below Drinking Limit            NaN  \n",
       "\n",
       "[998 rows x 151 columns]"
      ]
     },
     "execution_count": 3,
     "metadata": {},
     "output_type": "execute_result"
    }
   ],
   "source": [
    "alcohol_results"
   ]
  },
  {
   "cell_type": "code",
   "execution_count": 4,
   "metadata": {
    "pycharm": {
     "name": "#%%\n"
    }
   },
   "outputs": [],
   "source": [
    "# alcohol_results.set_index('index', inplace=True)"
   ]
  },
  {
   "cell_type": "code",
   "execution_count": 5,
   "metadata": {
    "pycharm": {
     "name": "#%%\n"
    }
   },
   "outputs": [],
   "source": [
    "alcohol_results = alcohol_results.loc[:,'limit_status':]"
   ]
  },
  {
   "cell_type": "code",
   "execution_count": 6,
   "metadata": {
    "pycharm": {
     "name": "#%%\n"
    }
   },
   "outputs": [],
   "source": [
    "# alcohol_results = alcohol_results[alcohol_results['limit_status'] == 'Above Drinking Limit']\n",
    "alcohol_results = alcohol_results.replace({'limit_status':{'Below Drinking Limit' : np.nan, 'Undeterminable Drinking Limit': np.nan }})"
   ]
  },
  {
   "cell_type": "code",
   "execution_count": 7,
   "metadata": {
    "pycharm": {
     "name": "#%%\n"
    }
   },
   "outputs": [
    {
     "data": {
      "text/html": [
       "<div>\n",
       "<style scoped>\n",
       "    .dataframe tbody tr th:only-of-type {\n",
       "        vertical-align: middle;\n",
       "    }\n",
       "\n",
       "    .dataframe tbody tr th {\n",
       "        vertical-align: top;\n",
       "    }\n",
       "\n",
       "    .dataframe thead th {\n",
       "        text-align: right;\n",
       "    }\n",
       "</style>\n",
       "<table border=\"1\" class=\"dataframe\">\n",
       "  <thead>\n",
       "    <tr style=\"text-align: right;\">\n",
       "      <th></th>\n",
       "      <th>limit_status</th>\n",
       "      <th>cluster_group</th>\n",
       "    </tr>\n",
       "  </thead>\n",
       "  <tbody>\n",
       "    <tr>\n",
       "      <th>0</th>\n",
       "      <td>NaN</td>\n",
       "      <td>2.0</td>\n",
       "    </tr>\n",
       "    <tr>\n",
       "      <th>1</th>\n",
       "      <td>NaN</td>\n",
       "      <td>4.0</td>\n",
       "    </tr>\n",
       "    <tr>\n",
       "      <th>2</th>\n",
       "      <td>NaN</td>\n",
       "      <td>6.0</td>\n",
       "    </tr>\n",
       "    <tr>\n",
       "      <th>3</th>\n",
       "      <td>NaN</td>\n",
       "      <td>NaN</td>\n",
       "    </tr>\n",
       "    <tr>\n",
       "      <th>4</th>\n",
       "      <td>NaN</td>\n",
       "      <td>NaN</td>\n",
       "    </tr>\n",
       "    <tr>\n",
       "      <th>...</th>\n",
       "      <td>...</td>\n",
       "      <td>...</td>\n",
       "    </tr>\n",
       "    <tr>\n",
       "      <th>995</th>\n",
       "      <td>NaN</td>\n",
       "      <td>NaN</td>\n",
       "    </tr>\n",
       "    <tr>\n",
       "      <th>996</th>\n",
       "      <td>NaN</td>\n",
       "      <td>2.0</td>\n",
       "    </tr>\n",
       "    <tr>\n",
       "      <th>997</th>\n",
       "      <td>NaN</td>\n",
       "      <td>NaN</td>\n",
       "    </tr>\n",
       "    <tr>\n",
       "      <th>998</th>\n",
       "      <td>NaN</td>\n",
       "      <td>3.0</td>\n",
       "    </tr>\n",
       "    <tr>\n",
       "      <th>999</th>\n",
       "      <td>NaN</td>\n",
       "      <td>NaN</td>\n",
       "    </tr>\n",
       "  </tbody>\n",
       "</table>\n",
       "<p>998 rows × 2 columns</p>\n",
       "</div>"
      ],
      "text/plain": [
       "    limit_status  cluster_group\n",
       "0            NaN            2.0\n",
       "1            NaN            4.0\n",
       "2            NaN            6.0\n",
       "3            NaN            NaN\n",
       "4            NaN            NaN\n",
       "..           ...            ...\n",
       "995          NaN            NaN\n",
       "996          NaN            2.0\n",
       "997          NaN            NaN\n",
       "998          NaN            3.0\n",
       "999          NaN            NaN\n",
       "\n",
       "[998 rows x 2 columns]"
      ]
     },
     "execution_count": 7,
     "metadata": {},
     "output_type": "execute_result"
    }
   ],
   "source": [
    "alcohol_results"
   ]
  },
  {
   "cell_type": "code",
   "execution_count": 8,
   "metadata": {
    "pycharm": {
     "name": "#%%\n"
    }
   },
   "outputs": [],
   "source": [
    "tobacco_results = tobacco_results.loc[:,'smoking_status'].to_frame()"
   ]
  },
  {
   "cell_type": "code",
   "execution_count": 9,
   "metadata": {
    "pycharm": {
     "name": "#%%\n"
    }
   },
   "outputs": [],
   "source": [
    "tobacco_results = tobacco_results.replace({'smoking_status':{'Non-Smoker' : np.nan}})"
   ]
  },
  {
   "cell_type": "code",
   "execution_count": 10,
   "metadata": {
    "pycharm": {
     "name": "#%%\n"
    }
   },
   "outputs": [
    {
     "data": {
      "text/html": [
       "<div>\n",
       "<style scoped>\n",
       "    .dataframe tbody tr th:only-of-type {\n",
       "        vertical-align: middle;\n",
       "    }\n",
       "\n",
       "    .dataframe tbody tr th {\n",
       "        vertical-align: top;\n",
       "    }\n",
       "\n",
       "    .dataframe thead th {\n",
       "        text-align: right;\n",
       "    }\n",
       "</style>\n",
       "<table border=\"1\" class=\"dataframe\">\n",
       "  <thead>\n",
       "    <tr style=\"text-align: right;\">\n",
       "      <th></th>\n",
       "      <th>smoking_status</th>\n",
       "    </tr>\n",
       "  </thead>\n",
       "  <tbody>\n",
       "    <tr>\n",
       "      <th>0</th>\n",
       "      <td>NaN</td>\n",
       "    </tr>\n",
       "    <tr>\n",
       "      <th>1</th>\n",
       "      <td>NaN</td>\n",
       "    </tr>\n",
       "    <tr>\n",
       "      <th>2</th>\n",
       "      <td>NaN</td>\n",
       "    </tr>\n",
       "    <tr>\n",
       "      <th>3</th>\n",
       "      <td>NaN</td>\n",
       "    </tr>\n",
       "    <tr>\n",
       "      <th>4</th>\n",
       "      <td>NaN</td>\n",
       "    </tr>\n",
       "    <tr>\n",
       "      <th>...</th>\n",
       "      <td>...</td>\n",
       "    </tr>\n",
       "    <tr>\n",
       "      <th>995</th>\n",
       "      <td>NaN</td>\n",
       "    </tr>\n",
       "    <tr>\n",
       "      <th>996</th>\n",
       "      <td>NaN</td>\n",
       "    </tr>\n",
       "    <tr>\n",
       "      <th>997</th>\n",
       "      <td>NaN</td>\n",
       "    </tr>\n",
       "    <tr>\n",
       "      <th>998</th>\n",
       "      <td>NaN</td>\n",
       "    </tr>\n",
       "    <tr>\n",
       "      <th>999</th>\n",
       "      <td>NaN</td>\n",
       "    </tr>\n",
       "  </tbody>\n",
       "</table>\n",
       "<p>1000 rows × 1 columns</p>\n",
       "</div>"
      ],
      "text/plain": [
       "    smoking_status\n",
       "0              NaN\n",
       "1              NaN\n",
       "2              NaN\n",
       "3              NaN\n",
       "4              NaN\n",
       "..             ...\n",
       "995            NaN\n",
       "996            NaN\n",
       "997            NaN\n",
       "998            NaN\n",
       "999            NaN\n",
       "\n",
       "[1000 rows x 1 columns]"
      ]
     },
     "execution_count": 10,
     "metadata": {},
     "output_type": "execute_result"
    }
   ],
   "source": [
    "tobacco_results"
   ]
  },
  {
   "cell_type": "code",
   "execution_count": 11,
   "metadata": {
    "pycharm": {
     "name": "#%%\n"
    }
   },
   "outputs": [],
   "source": [
    "caffeine_results = caffeine_results[['caffeine_threshold_level', 'cluster_group']]"
   ]
  },
  {
   "cell_type": "code",
   "execution_count": 12,
   "metadata": {
    "pycharm": {
     "name": "#%%\n"
    }
   },
   "outputs": [],
   "source": [
    "caffeine_results = caffeine_results.replace({'caffeine_threshold_level':{'Below Daily Threshold' : np.nan}})"
   ]
  },
  {
   "cell_type": "code",
   "execution_count": 13,
   "metadata": {
    "pycharm": {
     "name": "#%%\n"
    }
   },
   "outputs": [
    {
     "data": {
      "text/html": [
       "<div>\n",
       "<style scoped>\n",
       "    .dataframe tbody tr th:only-of-type {\n",
       "        vertical-align: middle;\n",
       "    }\n",
       "\n",
       "    .dataframe tbody tr th {\n",
       "        vertical-align: top;\n",
       "    }\n",
       "\n",
       "    .dataframe thead th {\n",
       "        text-align: right;\n",
       "    }\n",
       "</style>\n",
       "<table border=\"1\" class=\"dataframe\">\n",
       "  <thead>\n",
       "    <tr style=\"text-align: right;\">\n",
       "      <th></th>\n",
       "      <th>caffeine_threshold_level</th>\n",
       "      <th>cluster_group</th>\n",
       "    </tr>\n",
       "  </thead>\n",
       "  <tbody>\n",
       "    <tr>\n",
       "      <th>0</th>\n",
       "      <td>NaN</td>\n",
       "      <td>2.0</td>\n",
       "    </tr>\n",
       "    <tr>\n",
       "      <th>1</th>\n",
       "      <td>NaN</td>\n",
       "      <td>4.0</td>\n",
       "    </tr>\n",
       "    <tr>\n",
       "      <th>2</th>\n",
       "      <td>NaN</td>\n",
       "      <td>6.0</td>\n",
       "    </tr>\n",
       "    <tr>\n",
       "      <th>3</th>\n",
       "      <td>NaN</td>\n",
       "      <td>NaN</td>\n",
       "    </tr>\n",
       "    <tr>\n",
       "      <th>4</th>\n",
       "      <td>NaN</td>\n",
       "      <td>NaN</td>\n",
       "    </tr>\n",
       "    <tr>\n",
       "      <th>...</th>\n",
       "      <td>...</td>\n",
       "      <td>...</td>\n",
       "    </tr>\n",
       "    <tr>\n",
       "      <th>995</th>\n",
       "      <td>NaN</td>\n",
       "      <td>NaN</td>\n",
       "    </tr>\n",
       "    <tr>\n",
       "      <th>996</th>\n",
       "      <td>NaN</td>\n",
       "      <td>2.0</td>\n",
       "    </tr>\n",
       "    <tr>\n",
       "      <th>997</th>\n",
       "      <td>NaN</td>\n",
       "      <td>NaN</td>\n",
       "    </tr>\n",
       "    <tr>\n",
       "      <th>998</th>\n",
       "      <td>Above Daily Threshold</td>\n",
       "      <td>3.0</td>\n",
       "    </tr>\n",
       "    <tr>\n",
       "      <th>999</th>\n",
       "      <td>Above Daily Threshold</td>\n",
       "      <td>NaN</td>\n",
       "    </tr>\n",
       "  </tbody>\n",
       "</table>\n",
       "<p>964 rows × 2 columns</p>\n",
       "</div>"
      ],
      "text/plain": [
       "    caffeine_threshold_level  cluster_group\n",
       "0                        NaN            2.0\n",
       "1                        NaN            4.0\n",
       "2                        NaN            6.0\n",
       "3                        NaN            NaN\n",
       "4                        NaN            NaN\n",
       "..                       ...            ...\n",
       "995                      NaN            NaN\n",
       "996                      NaN            2.0\n",
       "997                      NaN            NaN\n",
       "998    Above Daily Threshold            3.0\n",
       "999    Above Daily Threshold            NaN\n",
       "\n",
       "[964 rows x 2 columns]"
      ]
     },
     "execution_count": 13,
     "metadata": {},
     "output_type": "execute_result"
    }
   ],
   "source": [
    "caffeine_results"
   ]
  },
  {
   "cell_type": "markdown",
   "metadata": {
    "pycharm": {
     "name": "#%% md\n"
    }
   },
   "source": [
    "## Merge dataframes\n",
    "The dataframes are merged on the only dataframe that still has all surveyors in its dataframe, caffeine_results."
   ]
  },
  {
   "cell_type": "code",
   "execution_count": 14,
   "metadata": {
    "pycharm": {
     "name": "#%%\n"
    }
   },
   "outputs": [],
   "source": [
    "final_df = tobacco_results.join(caffeine_results)"
   ]
  },
  {
   "cell_type": "code",
   "execution_count": 15,
   "metadata": {
    "pycharm": {
     "name": "#%%\n"
    }
   },
   "outputs": [
    {
     "data": {
      "text/html": [
       "<div>\n",
       "<style scoped>\n",
       "    .dataframe tbody tr th:only-of-type {\n",
       "        vertical-align: middle;\n",
       "    }\n",
       "\n",
       "    .dataframe tbody tr th {\n",
       "        vertical-align: top;\n",
       "    }\n",
       "\n",
       "    .dataframe thead th {\n",
       "        text-align: right;\n",
       "    }\n",
       "</style>\n",
       "<table border=\"1\" class=\"dataframe\">\n",
       "  <thead>\n",
       "    <tr style=\"text-align: right;\">\n",
       "      <th></th>\n",
       "      <th>smoking_status</th>\n",
       "      <th>caffeine_threshold_level</th>\n",
       "      <th>cluster_group</th>\n",
       "    </tr>\n",
       "  </thead>\n",
       "  <tbody>\n",
       "    <tr>\n",
       "      <th>0</th>\n",
       "      <td>NaN</td>\n",
       "      <td>NaN</td>\n",
       "      <td>2.0</td>\n",
       "    </tr>\n",
       "    <tr>\n",
       "      <th>1</th>\n",
       "      <td>NaN</td>\n",
       "      <td>NaN</td>\n",
       "      <td>4.0</td>\n",
       "    </tr>\n",
       "    <tr>\n",
       "      <th>2</th>\n",
       "      <td>NaN</td>\n",
       "      <td>NaN</td>\n",
       "      <td>6.0</td>\n",
       "    </tr>\n",
       "    <tr>\n",
       "      <th>3</th>\n",
       "      <td>NaN</td>\n",
       "      <td>NaN</td>\n",
       "      <td>NaN</td>\n",
       "    </tr>\n",
       "    <tr>\n",
       "      <th>4</th>\n",
       "      <td>NaN</td>\n",
       "      <td>NaN</td>\n",
       "      <td>NaN</td>\n",
       "    </tr>\n",
       "    <tr>\n",
       "      <th>...</th>\n",
       "      <td>...</td>\n",
       "      <td>...</td>\n",
       "      <td>...</td>\n",
       "    </tr>\n",
       "    <tr>\n",
       "      <th>995</th>\n",
       "      <td>NaN</td>\n",
       "      <td>NaN</td>\n",
       "      <td>NaN</td>\n",
       "    </tr>\n",
       "    <tr>\n",
       "      <th>996</th>\n",
       "      <td>NaN</td>\n",
       "      <td>NaN</td>\n",
       "      <td>2.0</td>\n",
       "    </tr>\n",
       "    <tr>\n",
       "      <th>997</th>\n",
       "      <td>NaN</td>\n",
       "      <td>NaN</td>\n",
       "      <td>NaN</td>\n",
       "    </tr>\n",
       "    <tr>\n",
       "      <th>998</th>\n",
       "      <td>NaN</td>\n",
       "      <td>Above Daily Threshold</td>\n",
       "      <td>3.0</td>\n",
       "    </tr>\n",
       "    <tr>\n",
       "      <th>999</th>\n",
       "      <td>NaN</td>\n",
       "      <td>Above Daily Threshold</td>\n",
       "      <td>NaN</td>\n",
       "    </tr>\n",
       "  </tbody>\n",
       "</table>\n",
       "<p>1000 rows × 3 columns</p>\n",
       "</div>"
      ],
      "text/plain": [
       "    smoking_status caffeine_threshold_level  cluster_group\n",
       "0              NaN                      NaN            2.0\n",
       "1              NaN                      NaN            4.0\n",
       "2              NaN                      NaN            6.0\n",
       "3              NaN                      NaN            NaN\n",
       "4              NaN                      NaN            NaN\n",
       "..             ...                      ...            ...\n",
       "995            NaN                      NaN            NaN\n",
       "996            NaN                      NaN            2.0\n",
       "997            NaN                      NaN            NaN\n",
       "998            NaN    Above Daily Threshold            3.0\n",
       "999            NaN    Above Daily Threshold            NaN\n",
       "\n",
       "[1000 rows x 3 columns]"
      ]
     },
     "execution_count": 15,
     "metadata": {},
     "output_type": "execute_result"
    }
   ],
   "source": [
    "final_df"
   ]
  },
  {
   "cell_type": "code",
   "execution_count": 16,
   "metadata": {
    "collapsed": false,
    "jupyter": {
     "outputs_hidden": false
    },
    "pycharm": {
     "name": "#%%\n"
    }
   },
   "outputs": [],
   "source": [
    "final_df = pd.concat([final_df, alcohol_results], axis=1)"
   ]
  },
  {
   "cell_type": "code",
   "execution_count": 17,
   "metadata": {
    "pycharm": {
     "name": "#%%\n"
    }
   },
   "outputs": [],
   "source": [
    "final_df = final_df.T.groupby(level=0).first().T"
   ]
  },
  {
   "cell_type": "code",
   "execution_count": 18,
   "metadata": {
    "collapsed": false,
    "jupyter": {
     "outputs_hidden": false
    },
    "pycharm": {
     "name": "#%%\n"
    }
   },
   "outputs": [
    {
     "data": {
      "text/html": [
       "<div>\n",
       "<style scoped>\n",
       "    .dataframe tbody tr th:only-of-type {\n",
       "        vertical-align: middle;\n",
       "    }\n",
       "\n",
       "    .dataframe tbody tr th {\n",
       "        vertical-align: top;\n",
       "    }\n",
       "\n",
       "    .dataframe thead th {\n",
       "        text-align: right;\n",
       "    }\n",
       "</style>\n",
       "<table border=\"1\" class=\"dataframe\">\n",
       "  <thead>\n",
       "    <tr style=\"text-align: right;\">\n",
       "      <th></th>\n",
       "      <th>caffeine_threshold_level</th>\n",
       "      <th>cluster_group</th>\n",
       "      <th>limit_status</th>\n",
       "      <th>smoking_status</th>\n",
       "    </tr>\n",
       "  </thead>\n",
       "  <tbody>\n",
       "    <tr>\n",
       "      <th>0</th>\n",
       "      <td>NaN</td>\n",
       "      <td>2.0</td>\n",
       "      <td>NaN</td>\n",
       "      <td>NaN</td>\n",
       "    </tr>\n",
       "    <tr>\n",
       "      <th>1</th>\n",
       "      <td>NaN</td>\n",
       "      <td>4.0</td>\n",
       "      <td>NaN</td>\n",
       "      <td>NaN</td>\n",
       "    </tr>\n",
       "    <tr>\n",
       "      <th>2</th>\n",
       "      <td>NaN</td>\n",
       "      <td>6.0</td>\n",
       "      <td>NaN</td>\n",
       "      <td>NaN</td>\n",
       "    </tr>\n",
       "    <tr>\n",
       "      <th>3</th>\n",
       "      <td>None</td>\n",
       "      <td>None</td>\n",
       "      <td>None</td>\n",
       "      <td>None</td>\n",
       "    </tr>\n",
       "    <tr>\n",
       "      <th>4</th>\n",
       "      <td>None</td>\n",
       "      <td>None</td>\n",
       "      <td>None</td>\n",
       "      <td>None</td>\n",
       "    </tr>\n",
       "    <tr>\n",
       "      <th>...</th>\n",
       "      <td>...</td>\n",
       "      <td>...</td>\n",
       "      <td>...</td>\n",
       "      <td>...</td>\n",
       "    </tr>\n",
       "    <tr>\n",
       "      <th>995</th>\n",
       "      <td>None</td>\n",
       "      <td>None</td>\n",
       "      <td>None</td>\n",
       "      <td>None</td>\n",
       "    </tr>\n",
       "    <tr>\n",
       "      <th>996</th>\n",
       "      <td>NaN</td>\n",
       "      <td>2.0</td>\n",
       "      <td>NaN</td>\n",
       "      <td>NaN</td>\n",
       "    </tr>\n",
       "    <tr>\n",
       "      <th>997</th>\n",
       "      <td>None</td>\n",
       "      <td>None</td>\n",
       "      <td>None</td>\n",
       "      <td>None</td>\n",
       "    </tr>\n",
       "    <tr>\n",
       "      <th>998</th>\n",
       "      <td>Above Daily Threshold</td>\n",
       "      <td>3.0</td>\n",
       "      <td>None</td>\n",
       "      <td>None</td>\n",
       "    </tr>\n",
       "    <tr>\n",
       "      <th>999</th>\n",
       "      <td>Above Daily Threshold</td>\n",
       "      <td>None</td>\n",
       "      <td>None</td>\n",
       "      <td>None</td>\n",
       "    </tr>\n",
       "  </tbody>\n",
       "</table>\n",
       "<p>1000 rows × 4 columns</p>\n",
       "</div>"
      ],
      "text/plain": [
       "    caffeine_threshold_level cluster_group limit_status smoking_status\n",
       "0                        NaN           2.0          NaN            NaN\n",
       "1                        NaN           4.0          NaN            NaN\n",
       "2                        NaN           6.0          NaN            NaN\n",
       "3                       None          None         None           None\n",
       "4                       None          None         None           None\n",
       "..                       ...           ...          ...            ...\n",
       "995                     None          None         None           None\n",
       "996                      NaN           2.0          NaN            NaN\n",
       "997                     None          None         None           None\n",
       "998    Above Daily Threshold           3.0         None           None\n",
       "999    Above Daily Threshold          None         None           None\n",
       "\n",
       "[1000 rows x 4 columns]"
      ]
     },
     "execution_count": 18,
     "metadata": {},
     "output_type": "execute_result"
    }
   ],
   "source": [
    "final_df"
   ]
  },
  {
   "cell_type": "code",
   "execution_count": 19,
   "metadata": {
    "pycharm": {
     "name": "#%%\n"
    }
   },
   "outputs": [],
   "source": [
    "# final_df['cluster_group'] = final_df['cluster_group'].dropna()\n",
    "final_df = final_df[final_df['cluster_group'].notna()]"
   ]
  },
  {
   "cell_type": "markdown",
   "metadata": {
    "pycharm": {
     "name": "#%% md\n"
    }
   },
   "source": [
    "Due to our desire to analyse only the clusters that are directly comparable, we take our dataframes 4 and 1 which do not have identical health and sleep ratings."
   ]
  },
  {
   "cell_type": "code",
   "execution_count": 20,
   "metadata": {
    "pycharm": {
     "name": "#%%\n"
    }
   },
   "outputs": [],
   "source": [
    "final_df = final_df[final_df['cluster_group'] != 4.0]\n",
    "final_df = final_df[final_df['cluster_group'] != 1.0]"
   ]
  },
  {
   "cell_type": "code",
   "execution_count": 21,
   "metadata": {
    "pycharm": {
     "name": "#%%\n"
    }
   },
   "outputs": [
    {
     "data": {
      "text/html": [
       "<div>\n",
       "<style scoped>\n",
       "    .dataframe tbody tr th:only-of-type {\n",
       "        vertical-align: middle;\n",
       "    }\n",
       "\n",
       "    .dataframe tbody tr th {\n",
       "        vertical-align: top;\n",
       "    }\n",
       "\n",
       "    .dataframe thead th {\n",
       "        text-align: right;\n",
       "    }\n",
       "</style>\n",
       "<table border=\"1\" class=\"dataframe\">\n",
       "  <thead>\n",
       "    <tr style=\"text-align: right;\">\n",
       "      <th></th>\n",
       "      <th>caffeine_threshold_level</th>\n",
       "      <th>cluster_group</th>\n",
       "      <th>limit_status</th>\n",
       "      <th>smoking_status</th>\n",
       "    </tr>\n",
       "  </thead>\n",
       "  <tbody>\n",
       "    <tr>\n",
       "      <th>0</th>\n",
       "      <td>NaN</td>\n",
       "      <td>2.0</td>\n",
       "      <td>NaN</td>\n",
       "      <td>NaN</td>\n",
       "    </tr>\n",
       "    <tr>\n",
       "      <th>2</th>\n",
       "      <td>NaN</td>\n",
       "      <td>6.0</td>\n",
       "      <td>NaN</td>\n",
       "      <td>NaN</td>\n",
       "    </tr>\n",
       "    <tr>\n",
       "      <th>7</th>\n",
       "      <td>NaN</td>\n",
       "      <td>3.0</td>\n",
       "      <td>NaN</td>\n",
       "      <td>NaN</td>\n",
       "    </tr>\n",
       "    <tr>\n",
       "      <th>9</th>\n",
       "      <td>NaN</td>\n",
       "      <td>14.0</td>\n",
       "      <td>NaN</td>\n",
       "      <td>NaN</td>\n",
       "    </tr>\n",
       "    <tr>\n",
       "      <th>12</th>\n",
       "      <td>Above Daily Threshold</td>\n",
       "      <td>3.0</td>\n",
       "      <td>None</td>\n",
       "      <td>None</td>\n",
       "    </tr>\n",
       "    <tr>\n",
       "      <th>...</th>\n",
       "      <td>...</td>\n",
       "      <td>...</td>\n",
       "      <td>...</td>\n",
       "      <td>...</td>\n",
       "    </tr>\n",
       "    <tr>\n",
       "      <th>980</th>\n",
       "      <td>Above Daily Threshold</td>\n",
       "      <td>2.0</td>\n",
       "      <td>None</td>\n",
       "      <td>Current Smoker</td>\n",
       "    </tr>\n",
       "    <tr>\n",
       "      <th>987</th>\n",
       "      <td>NaN</td>\n",
       "      <td>14.0</td>\n",
       "      <td>NaN</td>\n",
       "      <td>NaN</td>\n",
       "    </tr>\n",
       "    <tr>\n",
       "      <th>993</th>\n",
       "      <td>NaN</td>\n",
       "      <td>2.0</td>\n",
       "      <td>NaN</td>\n",
       "      <td>NaN</td>\n",
       "    </tr>\n",
       "    <tr>\n",
       "      <th>996</th>\n",
       "      <td>NaN</td>\n",
       "      <td>2.0</td>\n",
       "      <td>NaN</td>\n",
       "      <td>NaN</td>\n",
       "    </tr>\n",
       "    <tr>\n",
       "      <th>998</th>\n",
       "      <td>Above Daily Threshold</td>\n",
       "      <td>3.0</td>\n",
       "      <td>None</td>\n",
       "      <td>None</td>\n",
       "    </tr>\n",
       "  </tbody>\n",
       "</table>\n",
       "<p>343 rows × 4 columns</p>\n",
       "</div>"
      ],
      "text/plain": [
       "    caffeine_threshold_level cluster_group limit_status  smoking_status\n",
       "0                        NaN           2.0          NaN             NaN\n",
       "2                        NaN           6.0          NaN             NaN\n",
       "7                        NaN           3.0          NaN             NaN\n",
       "9                        NaN          14.0          NaN             NaN\n",
       "12     Above Daily Threshold           3.0         None            None\n",
       "..                       ...           ...          ...             ...\n",
       "980    Above Daily Threshold           2.0         None  Current Smoker\n",
       "987                      NaN          14.0          NaN             NaN\n",
       "993                      NaN           2.0          NaN             NaN\n",
       "996                      NaN           2.0          NaN             NaN\n",
       "998    Above Daily Threshold           3.0         None            None\n",
       "\n",
       "[343 rows x 4 columns]"
      ]
     },
     "execution_count": 21,
     "metadata": {},
     "output_type": "execute_result"
    }
   ],
   "source": [
    "final_df"
   ]
  },
  {
   "cell_type": "markdown",
   "metadata": {
    "pycharm": {
     "name": "#%% md\n"
    }
   },
   "source": [
    "Numpy is used to create a list of how many problems each surveyor is currently dealing with."
   ]
  },
  {
   "cell_type": "code",
   "execution_count": 22,
   "metadata": {
    "pycharm": {
     "name": "#%%\n"
    }
   },
   "outputs": [],
   "source": [
    "num_problems_array = np.array(final_df.isnull().sum(axis=1).tolist())"
   ]
  },
  {
   "cell_type": "code",
   "execution_count": 23,
   "metadata": {
    "pycharm": {
     "name": "#%%\n"
    }
   },
   "outputs": [
    {
     "data": {
      "text/plain": [
       "array([3, 3, 3, 3, 2, 2, 3, 3, 3, 3, 2, 3, 2, 3, 2, 3, 3, 3, 3, 3, 3, 3,\n",
       "       2, 3, 3, 3, 3, 3, 3, 3, 2, 3, 3, 3, 2, 3, 2, 3, 3, 3, 2, 3, 3, 3,\n",
       "       3, 3, 3, 3, 3, 3, 2, 3, 3, 1, 3, 3, 3, 3, 2, 3, 3, 3, 3, 3, 2, 2,\n",
       "       3, 3, 3, 2, 2, 1, 1, 3, 3, 3, 3, 3, 3, 3, 2, 3, 2, 3, 3, 3, 3, 3,\n",
       "       3, 2, 3, 3, 3, 3, 3, 3, 3, 2, 3, 3, 3, 3, 2, 3, 3, 3, 3, 2, 3, 3,\n",
       "       3, 3, 2, 1, 2, 2, 3, 2, 3, 2, 3, 3, 2, 3, 3, 3, 3, 3, 3, 3, 3, 3,\n",
       "       3, 3, 3, 3, 3, 3, 3, 3, 2, 2, 3, 2, 3, 3, 2, 3, 2, 2, 3, 2, 3, 3,\n",
       "       2, 3, 3, 3, 3, 1, 1, 2, 3, 1, 3, 3, 3, 3, 1, 3, 3, 1, 3, 3, 3, 1,\n",
       "       3, 2, 3, 1, 3, 3, 3, 3, 3, 3, 3, 2, 3, 3, 1, 3, 3, 3, 3, 3, 3, 3,\n",
       "       3, 3, 2, 3, 3, 3, 3, 3, 3, 3, 3, 3, 3, 3, 2, 3, 1, 2, 3, 3, 2, 2,\n",
       "       3, 3, 3, 3, 3, 3, 2, 3, 3, 2, 1, 3, 3, 3, 3, 3, 3, 3, 3, 3, 3, 3,\n",
       "       3, 3, 3, 3, 2, 2, 3, 3, 2, 3, 3, 3, 1, 3, 3, 3, 2, 3, 3, 3, 3, 3,\n",
       "       3, 3, 2, 3, 3, 3, 3, 3, 3, 3, 3, 2, 3, 3, 3, 3, 3, 3, 3, 3, 3, 3,\n",
       "       1, 2, 1, 2, 3, 3, 3, 3, 2, 3, 2, 3, 3, 3, 3, 3, 2, 3, 2, 3, 2, 3,\n",
       "       1, 3, 3, 3, 2, 3, 2, 3, 3, 3, 3, 3, 3, 3, 3, 2, 3, 3, 3, 3, 2, 3,\n",
       "       3, 3, 3, 2, 3, 1, 3, 1, 1, 3, 3, 3, 2])"
      ]
     },
     "execution_count": 23,
     "metadata": {},
     "output_type": "execute_result"
    }
   ],
   "source": [
    "num_problems_array"
   ]
  },
  {
   "cell_type": "code",
   "execution_count": 24,
   "metadata": {
    "pycharm": {
     "name": "#%%\n"
    }
   },
   "outputs": [],
   "source": [
    "final_df['count'] = 3 - num_problems_array"
   ]
  },
  {
   "cell_type": "code",
   "execution_count": 25,
   "metadata": {
    "pycharm": {
     "name": "#%%\n"
    }
   },
   "outputs": [
    {
     "data": {
      "text/plain": [
       "0      0\n",
       "2      0\n",
       "7      0\n",
       "9      0\n",
       "12     1\n",
       "      ..\n",
       "980    2\n",
       "987    0\n",
       "993    0\n",
       "996    0\n",
       "998    1\n",
       "Name: count, Length: 343, dtype: int64"
      ]
     },
     "execution_count": 25,
     "metadata": {},
     "output_type": "execute_result"
    }
   ],
   "source": [
    "final_df['count']"
   ]
  },
  {
   "cell_type": "markdown",
   "metadata": {
    "pycharm": {
     "name": "#%% md\n"
    }
   },
   "source": [
    "An interesting note is that not one person suffers from all 3 problems. There only exist survyors who are currently dealing with at max 2 problems as some combination of excess caffeine, excess alcohol, and excess tobacco usage."
   ]
  },
  {
   "cell_type": "code",
   "execution_count": 26,
   "metadata": {
    "pycharm": {
     "name": "#%%\n"
    }
   },
   "outputs": [
    {
     "data": {
      "text/plain": [
       "0    257\n",
       "1     65\n",
       "2     21\n",
       "Name: count, dtype: int64"
      ]
     },
     "execution_count": 26,
     "metadata": {},
     "output_type": "execute_result"
    }
   ],
   "source": [
    "final_df['count'].value_counts()"
   ]
  },
  {
   "cell_type": "markdown",
   "metadata": {
    "pycharm": {
     "name": "#%% md\n"
    }
   },
   "source": [
    "Before we can start plotting the data, we need to create a dataframe that contains the cluster groups and what percent of each suveyors unhealthy habits are being taken up by specific substances."
   ]
  },
  {
   "cell_type": "markdown",
   "metadata": {
    "pycharm": {
     "name": "#%% md\n"
    }
   },
   "source": [
    "## Smoking Portion"
   ]
  },
  {
   "cell_type": "code",
   "execution_count": 27,
   "metadata": {
    "collapsed": false,
    "jupyter": {
     "outputs_hidden": false
    },
    "pycharm": {
     "name": "#%%\n"
    }
   },
   "outputs": [],
   "source": [
    "final_df['smoking_problem'] = 0\n",
    "final_df = final_df[['cluster_group', 'smoking_status', 'limit_status', 'caffeine_threshold_level', 'count', 'smoking_problem']]\n"
   ]
  },
  {
   "cell_type": "code",
   "execution_count": 28,
   "metadata": {
    "collapsed": false,
    "jupyter": {
     "outputs_hidden": false
    },
    "pycharm": {
     "name": "#%%\n"
    }
   },
   "outputs": [],
   "source": [
    "group = final_df.groupby('cluster_group')\n",
    "\n"
   ]
  },
  {
   "cell_type": "code",
   "execution_count": 29,
   "metadata": {
    "collapsed": false,
    "jupyter": {
     "outputs_hidden": false
    },
    "pycharm": {
     "name": "#%%\n"
    }
   },
   "outputs": [],
   "source": [
    "final_df = final_df[final_df['count'] != 0]"
   ]
  },
  {
   "cell_type": "code",
   "execution_count": 30,
   "metadata": {
    "collapsed": false,
    "jupyter": {
     "outputs_hidden": false
    },
    "pycharm": {
     "name": "#%%\n"
    }
   },
   "outputs": [
    {
     "data": {
      "text/html": [
       "<div>\n",
       "<style scoped>\n",
       "    .dataframe tbody tr th:only-of-type {\n",
       "        vertical-align: middle;\n",
       "    }\n",
       "\n",
       "    .dataframe tbody tr th {\n",
       "        vertical-align: top;\n",
       "    }\n",
       "\n",
       "    .dataframe thead th {\n",
       "        text-align: right;\n",
       "    }\n",
       "</style>\n",
       "<table border=\"1\" class=\"dataframe\">\n",
       "  <thead>\n",
       "    <tr style=\"text-align: right;\">\n",
       "      <th></th>\n",
       "      <th>cluster_group</th>\n",
       "      <th>smoking_status</th>\n",
       "      <th>limit_status</th>\n",
       "      <th>caffeine_threshold_level</th>\n",
       "      <th>count</th>\n",
       "      <th>smoking_problem</th>\n",
       "    </tr>\n",
       "  </thead>\n",
       "  <tbody>\n",
       "    <tr>\n",
       "      <th>12</th>\n",
       "      <td>3.0</td>\n",
       "      <td>None</td>\n",
       "      <td>None</td>\n",
       "      <td>Above Daily Threshold</td>\n",
       "      <td>1</td>\n",
       "      <td>0</td>\n",
       "    </tr>\n",
       "    <tr>\n",
       "      <th>17</th>\n",
       "      <td>3.0</td>\n",
       "      <td>None</td>\n",
       "      <td>None</td>\n",
       "      <td>Above Daily Threshold</td>\n",
       "      <td>1</td>\n",
       "      <td>0</td>\n",
       "    </tr>\n",
       "    <tr>\n",
       "      <th>43</th>\n",
       "      <td>3.0</td>\n",
       "      <td>Current Smoker</td>\n",
       "      <td>None</td>\n",
       "      <td>None</td>\n",
       "      <td>1</td>\n",
       "      <td>0</td>\n",
       "    </tr>\n",
       "    <tr>\n",
       "      <th>46</th>\n",
       "      <td>6.0</td>\n",
       "      <td>Current Smoker</td>\n",
       "      <td>None</td>\n",
       "      <td>None</td>\n",
       "      <td>1</td>\n",
       "      <td>0</td>\n",
       "    </tr>\n",
       "    <tr>\n",
       "      <th>61</th>\n",
       "      <td>6.0</td>\n",
       "      <td>None</td>\n",
       "      <td>Above Drinking Limit</td>\n",
       "      <td>None</td>\n",
       "      <td>1</td>\n",
       "      <td>0</td>\n",
       "    </tr>\n",
       "    <tr>\n",
       "      <th>...</th>\n",
       "      <td>...</td>\n",
       "      <td>...</td>\n",
       "      <td>...</td>\n",
       "      <td>...</td>\n",
       "      <td>...</td>\n",
       "      <td>...</td>\n",
       "    </tr>\n",
       "    <tr>\n",
       "      <th>960</th>\n",
       "      <td>3.0</td>\n",
       "      <td>Current Smoker</td>\n",
       "      <td>None</td>\n",
       "      <td>None</td>\n",
       "      <td>1</td>\n",
       "      <td>0</td>\n",
       "    </tr>\n",
       "    <tr>\n",
       "      <th>967</th>\n",
       "      <td>14.0</td>\n",
       "      <td>Current Smoker</td>\n",
       "      <td>None</td>\n",
       "      <td>Above Daily Threshold</td>\n",
       "      <td>2</td>\n",
       "      <td>0</td>\n",
       "    </tr>\n",
       "    <tr>\n",
       "      <th>976</th>\n",
       "      <td>14.0</td>\n",
       "      <td>Current Smoker</td>\n",
       "      <td>Above Drinking Limit</td>\n",
       "      <td>None</td>\n",
       "      <td>2</td>\n",
       "      <td>0</td>\n",
       "    </tr>\n",
       "    <tr>\n",
       "      <th>980</th>\n",
       "      <td>2.0</td>\n",
       "      <td>Current Smoker</td>\n",
       "      <td>None</td>\n",
       "      <td>Above Daily Threshold</td>\n",
       "      <td>2</td>\n",
       "      <td>0</td>\n",
       "    </tr>\n",
       "    <tr>\n",
       "      <th>998</th>\n",
       "      <td>3.0</td>\n",
       "      <td>None</td>\n",
       "      <td>None</td>\n",
       "      <td>Above Daily Threshold</td>\n",
       "      <td>1</td>\n",
       "      <td>0</td>\n",
       "    </tr>\n",
       "  </tbody>\n",
       "</table>\n",
       "<p>86 rows × 6 columns</p>\n",
       "</div>"
      ],
      "text/plain": [
       "    cluster_group  smoking_status          limit_status  \\\n",
       "12            3.0            None                  None   \n",
       "17            3.0            None                  None   \n",
       "43            3.0  Current Smoker                  None   \n",
       "46            6.0  Current Smoker                  None   \n",
       "61            6.0            None  Above Drinking Limit   \n",
       "..            ...             ...                   ...   \n",
       "960           3.0  Current Smoker                  None   \n",
       "967          14.0  Current Smoker                  None   \n",
       "976          14.0  Current Smoker  Above Drinking Limit   \n",
       "980           2.0  Current Smoker                  None   \n",
       "998           3.0            None                  None   \n",
       "\n",
       "    caffeine_threshold_level  count  smoking_problem  \n",
       "12     Above Daily Threshold      1                0  \n",
       "17     Above Daily Threshold      1                0  \n",
       "43                      None      1                0  \n",
       "46                      None      1                0  \n",
       "61                      None      1                0  \n",
       "..                       ...    ...              ...  \n",
       "960                     None      1                0  \n",
       "967    Above Daily Threshold      2                0  \n",
       "976                     None      2                0  \n",
       "980    Above Daily Threshold      2                0  \n",
       "998    Above Daily Threshold      1                0  \n",
       "\n",
       "[86 rows x 6 columns]"
      ]
     },
     "execution_count": 30,
     "metadata": {},
     "output_type": "execute_result"
    }
   ],
   "source": [
    "final_df"
   ]
  },
  {
   "cell_type": "code",
   "execution_count": 31,
   "metadata": {
    "pycharm": {
     "name": "#%%\n"
    }
   },
   "outputs": [],
   "source": [
    "final_df_copy = final_df.copy()\n",
    "final_df_copy = final_df_copy[final_df_copy.smoking_status.notnull()]\n",
    "final_df_copy ['smoking_problem'] = 1/final_df_copy ['count']"
   ]
  },
  {
   "cell_type": "code",
   "execution_count": 32,
   "metadata": {
    "pycharm": {
     "name": "#%%\n"
    }
   },
   "outputs": [
    {
     "data": {
      "text/plain": [
       "43     1.0\n",
       "46     1.0\n",
       "77     1.0\n",
       "133    1.0\n",
       "164    0.5\n",
       "177    1.0\n",
       "185    1.0\n",
       "187    1.0\n",
       "205    1.0\n",
       "209    0.5\n",
       "235    1.0\n",
       "238    1.0\n",
       "272    1.0\n",
       "295    1.0\n",
       "305    1.0\n",
       "313    1.0\n",
       "336    1.0\n",
       "389    1.0\n",
       "430    0.5\n",
       "434    0.5\n",
       "437    0.5\n",
       "447    0.5\n",
       "472    0.5\n",
       "479    0.5\n",
       "518    0.5\n",
       "544    1.0\n",
       "573    1.0\n",
       "579    0.5\n",
       "627    1.0\n",
       "635    0.5\n",
       "684    1.0\n",
       "688    1.0\n",
       "702    0.5\n",
       "739    1.0\n",
       "776    1.0\n",
       "816    0.5\n",
       "818    0.5\n",
       "839    1.0\n",
       "844    1.0\n",
       "867    1.0\n",
       "888    0.5\n",
       "929    1.0\n",
       "948    1.0\n",
       "960    1.0\n",
       "967    0.5\n",
       "976    0.5\n",
       "980    0.5\n",
       "Name: smoking_problem, dtype: float64"
      ]
     },
     "execution_count": 32,
     "metadata": {},
     "output_type": "execute_result"
    }
   ],
   "source": [
    "final_df_copy['smoking_problem']"
   ]
  },
  {
   "cell_type": "code",
   "execution_count": 33,
   "metadata": {
    "pycharm": {
     "name": "#%%\n"
    }
   },
   "outputs": [],
   "source": [
    "final_df = pd.merge(final_df, final_df_copy[['smoking_problem']], left_on = final_df.index, right_on = final_df_copy.index, how='left')"
   ]
  },
  {
   "cell_type": "code",
   "execution_count": 34,
   "metadata": {
    "pycharm": {
     "name": "#%%\n"
    }
   },
   "outputs": [],
   "source": [
    "final_df.set_index('key_0', inplace=True)\n",
    "final_df.drop('smoking_problem_x', axis=1, inplace=True)"
   ]
  },
  {
   "cell_type": "code",
   "execution_count": 35,
   "metadata": {
    "pycharm": {
     "name": "#%%\n"
    }
   },
   "outputs": [
    {
     "data": {
      "text/plain": [
       "cluster_group\n",
       "2.0      9.0\n",
       "3.0     11.0\n",
       "6.0      6.0\n",
       "14.0    12.0\n",
       "Name: smoking_problem_y, dtype: float64"
      ]
     },
     "execution_count": 35,
     "metadata": {},
     "output_type": "execute_result"
    }
   ],
   "source": [
    "final_df.groupby('cluster_group')['smoking_problem_y'].sum()"
   ]
  },
  {
   "cell_type": "code",
   "execution_count": 36,
   "metadata": {
    "pycharm": {
     "name": "#%%\n"
    }
   },
   "outputs": [],
   "source": [
    "# final_df['smoking_status'].isnull().sum(axis=1).tolist()"
   ]
  },
  {
   "cell_type": "code",
   "execution_count": 37,
   "metadata": {
    "pycharm": {
     "name": "#%%\n"
    }
   },
   "outputs": [],
   "source": [
    "# df_groupby_cluster = final_df.groupby(['cluster_group', 'smoking_status','limit_status'])['cluster_group'].size().unstack('smoking_status','limit_status')\n",
    "# df_groupby_cluster"
   ]
  },
  {
   "cell_type": "code",
   "execution_count": 38,
   "metadata": {
    "pycharm": {
     "name": "#%%\n"
    }
   },
   "outputs": [],
   "source": [
    "# df_groupby_cluster = final_df.groupby(['cluster_group', 'smoking_status','limit_status']).size()\n",
    "# df_groupby_cluster"
   ]
  },
  {
   "cell_type": "markdown",
   "metadata": {
    "pycharm": {
     "name": "#%% md\n"
    }
   },
   "source": [
    "## Alcohol Portion"
   ]
  },
  {
   "cell_type": "code",
   "execution_count": 39,
   "metadata": {
    "pycharm": {
     "name": "#%%\n"
    }
   },
   "outputs": [],
   "source": [
    "final_df_copy = final_df.copy()\n",
    "final_df_copy = final_df_copy[final_df_copy.limit_status.notnull()]\n",
    "final_df_copy['alcohol_problem'] = 1/final_df_copy ['count']"
   ]
  },
  {
   "cell_type": "code",
   "execution_count": 40,
   "metadata": {
    "pycharm": {
     "name": "#%%\n"
    }
   },
   "outputs": [
    {
     "data": {
      "text/plain": [
       "key_0\n",
       "61     1.0\n",
       "93     1.0\n",
       "115    1.0\n",
       "207    0.5\n",
       "307    0.5\n",
       "329    1.0\n",
       "383    1.0\n",
       "452    0.5\n",
       "518    0.5\n",
       "635    0.5\n",
       "819    1.0\n",
       "976    0.5\n",
       "Name: alcohol_problem, dtype: float64"
      ]
     },
     "execution_count": 40,
     "metadata": {},
     "output_type": "execute_result"
    }
   ],
   "source": [
    "final_df_copy['alcohol_problem']"
   ]
  },
  {
   "cell_type": "code",
   "execution_count": 41,
   "metadata": {
    "pycharm": {
     "name": "#%%\n"
    }
   },
   "outputs": [],
   "source": [
    "final_df = pd.merge(final_df, final_df_copy[['alcohol_problem']], left_on = final_df.index, right_on = final_df_copy.index, how='left')"
   ]
  },
  {
   "cell_type": "code",
   "execution_count": 42,
   "metadata": {
    "pycharm": {
     "name": "#%%\n"
    }
   },
   "outputs": [
    {
     "data": {
      "text/html": [
       "<div>\n",
       "<style scoped>\n",
       "    .dataframe tbody tr th:only-of-type {\n",
       "        vertical-align: middle;\n",
       "    }\n",
       "\n",
       "    .dataframe tbody tr th {\n",
       "        vertical-align: top;\n",
       "    }\n",
       "\n",
       "    .dataframe thead th {\n",
       "        text-align: right;\n",
       "    }\n",
       "</style>\n",
       "<table border=\"1\" class=\"dataframe\">\n",
       "  <thead>\n",
       "    <tr style=\"text-align: right;\">\n",
       "      <th></th>\n",
       "      <th>key_0</th>\n",
       "      <th>cluster_group</th>\n",
       "      <th>smoking_status</th>\n",
       "      <th>limit_status</th>\n",
       "      <th>caffeine_threshold_level</th>\n",
       "      <th>count</th>\n",
       "      <th>smoking_problem_y</th>\n",
       "      <th>alcohol_problem</th>\n",
       "    </tr>\n",
       "  </thead>\n",
       "  <tbody>\n",
       "    <tr>\n",
       "      <th>0</th>\n",
       "      <td>12</td>\n",
       "      <td>3.0</td>\n",
       "      <td>None</td>\n",
       "      <td>None</td>\n",
       "      <td>Above Daily Threshold</td>\n",
       "      <td>1</td>\n",
       "      <td>NaN</td>\n",
       "      <td>NaN</td>\n",
       "    </tr>\n",
       "    <tr>\n",
       "      <th>1</th>\n",
       "      <td>17</td>\n",
       "      <td>3.0</td>\n",
       "      <td>None</td>\n",
       "      <td>None</td>\n",
       "      <td>Above Daily Threshold</td>\n",
       "      <td>1</td>\n",
       "      <td>NaN</td>\n",
       "      <td>NaN</td>\n",
       "    </tr>\n",
       "    <tr>\n",
       "      <th>2</th>\n",
       "      <td>43</td>\n",
       "      <td>3.0</td>\n",
       "      <td>Current Smoker</td>\n",
       "      <td>None</td>\n",
       "      <td>None</td>\n",
       "      <td>1</td>\n",
       "      <td>1.0</td>\n",
       "      <td>NaN</td>\n",
       "    </tr>\n",
       "    <tr>\n",
       "      <th>3</th>\n",
       "      <td>46</td>\n",
       "      <td>6.0</td>\n",
       "      <td>Current Smoker</td>\n",
       "      <td>None</td>\n",
       "      <td>None</td>\n",
       "      <td>1</td>\n",
       "      <td>1.0</td>\n",
       "      <td>NaN</td>\n",
       "    </tr>\n",
       "    <tr>\n",
       "      <th>4</th>\n",
       "      <td>61</td>\n",
       "      <td>6.0</td>\n",
       "      <td>None</td>\n",
       "      <td>Above Drinking Limit</td>\n",
       "      <td>None</td>\n",
       "      <td>1</td>\n",
       "      <td>NaN</td>\n",
       "      <td>1.0</td>\n",
       "    </tr>\n",
       "    <tr>\n",
       "      <th>...</th>\n",
       "      <td>...</td>\n",
       "      <td>...</td>\n",
       "      <td>...</td>\n",
       "      <td>...</td>\n",
       "      <td>...</td>\n",
       "      <td>...</td>\n",
       "      <td>...</td>\n",
       "      <td>...</td>\n",
       "    </tr>\n",
       "    <tr>\n",
       "      <th>81</th>\n",
       "      <td>960</td>\n",
       "      <td>3.0</td>\n",
       "      <td>Current Smoker</td>\n",
       "      <td>None</td>\n",
       "      <td>None</td>\n",
       "      <td>1</td>\n",
       "      <td>1.0</td>\n",
       "      <td>NaN</td>\n",
       "    </tr>\n",
       "    <tr>\n",
       "      <th>82</th>\n",
       "      <td>967</td>\n",
       "      <td>14.0</td>\n",
       "      <td>Current Smoker</td>\n",
       "      <td>None</td>\n",
       "      <td>Above Daily Threshold</td>\n",
       "      <td>2</td>\n",
       "      <td>0.5</td>\n",
       "      <td>NaN</td>\n",
       "    </tr>\n",
       "    <tr>\n",
       "      <th>83</th>\n",
       "      <td>976</td>\n",
       "      <td>14.0</td>\n",
       "      <td>Current Smoker</td>\n",
       "      <td>Above Drinking Limit</td>\n",
       "      <td>None</td>\n",
       "      <td>2</td>\n",
       "      <td>0.5</td>\n",
       "      <td>0.5</td>\n",
       "    </tr>\n",
       "    <tr>\n",
       "      <th>84</th>\n",
       "      <td>980</td>\n",
       "      <td>2.0</td>\n",
       "      <td>Current Smoker</td>\n",
       "      <td>None</td>\n",
       "      <td>Above Daily Threshold</td>\n",
       "      <td>2</td>\n",
       "      <td>0.5</td>\n",
       "      <td>NaN</td>\n",
       "    </tr>\n",
       "    <tr>\n",
       "      <th>85</th>\n",
       "      <td>998</td>\n",
       "      <td>3.0</td>\n",
       "      <td>None</td>\n",
       "      <td>None</td>\n",
       "      <td>Above Daily Threshold</td>\n",
       "      <td>1</td>\n",
       "      <td>NaN</td>\n",
       "      <td>NaN</td>\n",
       "    </tr>\n",
       "  </tbody>\n",
       "</table>\n",
       "<p>86 rows × 8 columns</p>\n",
       "</div>"
      ],
      "text/plain": [
       "    key_0 cluster_group  smoking_status          limit_status  \\\n",
       "0      12           3.0            None                  None   \n",
       "1      17           3.0            None                  None   \n",
       "2      43           3.0  Current Smoker                  None   \n",
       "3      46           6.0  Current Smoker                  None   \n",
       "4      61           6.0            None  Above Drinking Limit   \n",
       "..    ...           ...             ...                   ...   \n",
       "81    960           3.0  Current Smoker                  None   \n",
       "82    967          14.0  Current Smoker                  None   \n",
       "83    976          14.0  Current Smoker  Above Drinking Limit   \n",
       "84    980           2.0  Current Smoker                  None   \n",
       "85    998           3.0            None                  None   \n",
       "\n",
       "   caffeine_threshold_level  count  smoking_problem_y  alcohol_problem  \n",
       "0     Above Daily Threshold      1                NaN              NaN  \n",
       "1     Above Daily Threshold      1                NaN              NaN  \n",
       "2                      None      1                1.0              NaN  \n",
       "3                      None      1                1.0              NaN  \n",
       "4                      None      1                NaN              1.0  \n",
       "..                      ...    ...                ...              ...  \n",
       "81                     None      1                1.0              NaN  \n",
       "82    Above Daily Threshold      2                0.5              NaN  \n",
       "83                     None      2                0.5              0.5  \n",
       "84    Above Daily Threshold      2                0.5              NaN  \n",
       "85    Above Daily Threshold      1                NaN              NaN  \n",
       "\n",
       "[86 rows x 8 columns]"
      ]
     },
     "execution_count": 42,
     "metadata": {},
     "output_type": "execute_result"
    }
   ],
   "source": [
    "final_df"
   ]
  },
  {
   "cell_type": "code",
   "execution_count": 43,
   "metadata": {
    "pycharm": {
     "name": "#%%\n"
    }
   },
   "outputs": [
    {
     "data": {
      "text/html": [
       "<div>\n",
       "<style scoped>\n",
       "    .dataframe tbody tr th:only-of-type {\n",
       "        vertical-align: middle;\n",
       "    }\n",
       "\n",
       "    .dataframe tbody tr th {\n",
       "        vertical-align: top;\n",
       "    }\n",
       "\n",
       "    .dataframe thead th {\n",
       "        text-align: right;\n",
       "    }\n",
       "</style>\n",
       "<table border=\"1\" class=\"dataframe\">\n",
       "  <thead>\n",
       "    <tr style=\"text-align: right;\">\n",
       "      <th></th>\n",
       "      <th>cluster_group</th>\n",
       "      <th>smoking_status</th>\n",
       "      <th>limit_status</th>\n",
       "      <th>caffeine_threshold_level</th>\n",
       "      <th>count</th>\n",
       "      <th>smoking_problem_y</th>\n",
       "      <th>alcohol_problem</th>\n",
       "    </tr>\n",
       "    <tr>\n",
       "      <th>key_0</th>\n",
       "      <th></th>\n",
       "      <th></th>\n",
       "      <th></th>\n",
       "      <th></th>\n",
       "      <th></th>\n",
       "      <th></th>\n",
       "      <th></th>\n",
       "    </tr>\n",
       "  </thead>\n",
       "  <tbody>\n",
       "    <tr>\n",
       "      <th>12</th>\n",
       "      <td>3.0</td>\n",
       "      <td>None</td>\n",
       "      <td>None</td>\n",
       "      <td>Above Daily Threshold</td>\n",
       "      <td>1</td>\n",
       "      <td>NaN</td>\n",
       "      <td>NaN</td>\n",
       "    </tr>\n",
       "    <tr>\n",
       "      <th>17</th>\n",
       "      <td>3.0</td>\n",
       "      <td>None</td>\n",
       "      <td>None</td>\n",
       "      <td>Above Daily Threshold</td>\n",
       "      <td>1</td>\n",
       "      <td>NaN</td>\n",
       "      <td>NaN</td>\n",
       "    </tr>\n",
       "    <tr>\n",
       "      <th>43</th>\n",
       "      <td>3.0</td>\n",
       "      <td>Current Smoker</td>\n",
       "      <td>None</td>\n",
       "      <td>None</td>\n",
       "      <td>1</td>\n",
       "      <td>1.0</td>\n",
       "      <td>NaN</td>\n",
       "    </tr>\n",
       "    <tr>\n",
       "      <th>46</th>\n",
       "      <td>6.0</td>\n",
       "      <td>Current Smoker</td>\n",
       "      <td>None</td>\n",
       "      <td>None</td>\n",
       "      <td>1</td>\n",
       "      <td>1.0</td>\n",
       "      <td>NaN</td>\n",
       "    </tr>\n",
       "    <tr>\n",
       "      <th>61</th>\n",
       "      <td>6.0</td>\n",
       "      <td>None</td>\n",
       "      <td>Above Drinking Limit</td>\n",
       "      <td>None</td>\n",
       "      <td>1</td>\n",
       "      <td>NaN</td>\n",
       "      <td>1.0</td>\n",
       "    </tr>\n",
       "    <tr>\n",
       "      <th>...</th>\n",
       "      <td>...</td>\n",
       "      <td>...</td>\n",
       "      <td>...</td>\n",
       "      <td>...</td>\n",
       "      <td>...</td>\n",
       "      <td>...</td>\n",
       "      <td>...</td>\n",
       "    </tr>\n",
       "    <tr>\n",
       "      <th>960</th>\n",
       "      <td>3.0</td>\n",
       "      <td>Current Smoker</td>\n",
       "      <td>None</td>\n",
       "      <td>None</td>\n",
       "      <td>1</td>\n",
       "      <td>1.0</td>\n",
       "      <td>NaN</td>\n",
       "    </tr>\n",
       "    <tr>\n",
       "      <th>967</th>\n",
       "      <td>14.0</td>\n",
       "      <td>Current Smoker</td>\n",
       "      <td>None</td>\n",
       "      <td>Above Daily Threshold</td>\n",
       "      <td>2</td>\n",
       "      <td>0.5</td>\n",
       "      <td>NaN</td>\n",
       "    </tr>\n",
       "    <tr>\n",
       "      <th>976</th>\n",
       "      <td>14.0</td>\n",
       "      <td>Current Smoker</td>\n",
       "      <td>Above Drinking Limit</td>\n",
       "      <td>None</td>\n",
       "      <td>2</td>\n",
       "      <td>0.5</td>\n",
       "      <td>0.5</td>\n",
       "    </tr>\n",
       "    <tr>\n",
       "      <th>980</th>\n",
       "      <td>2.0</td>\n",
       "      <td>Current Smoker</td>\n",
       "      <td>None</td>\n",
       "      <td>Above Daily Threshold</td>\n",
       "      <td>2</td>\n",
       "      <td>0.5</td>\n",
       "      <td>NaN</td>\n",
       "    </tr>\n",
       "    <tr>\n",
       "      <th>998</th>\n",
       "      <td>3.0</td>\n",
       "      <td>None</td>\n",
       "      <td>None</td>\n",
       "      <td>Above Daily Threshold</td>\n",
       "      <td>1</td>\n",
       "      <td>NaN</td>\n",
       "      <td>NaN</td>\n",
       "    </tr>\n",
       "  </tbody>\n",
       "</table>\n",
       "<p>86 rows × 7 columns</p>\n",
       "</div>"
      ],
      "text/plain": [
       "      cluster_group  smoking_status          limit_status  \\\n",
       "key_0                                                       \n",
       "12              3.0            None                  None   \n",
       "17              3.0            None                  None   \n",
       "43              3.0  Current Smoker                  None   \n",
       "46              6.0  Current Smoker                  None   \n",
       "61              6.0            None  Above Drinking Limit   \n",
       "...             ...             ...                   ...   \n",
       "960             3.0  Current Smoker                  None   \n",
       "967            14.0  Current Smoker                  None   \n",
       "976            14.0  Current Smoker  Above Drinking Limit   \n",
       "980             2.0  Current Smoker                  None   \n",
       "998             3.0            None                  None   \n",
       "\n",
       "      caffeine_threshold_level  count  smoking_problem_y  alcohol_problem  \n",
       "key_0                                                                      \n",
       "12       Above Daily Threshold      1                NaN              NaN  \n",
       "17       Above Daily Threshold      1                NaN              NaN  \n",
       "43                        None      1                1.0              NaN  \n",
       "46                        None      1                1.0              NaN  \n",
       "61                        None      1                NaN              1.0  \n",
       "...                        ...    ...                ...              ...  \n",
       "960                       None      1                1.0              NaN  \n",
       "967      Above Daily Threshold      2                0.5              NaN  \n",
       "976                       None      2                0.5              0.5  \n",
       "980      Above Daily Threshold      2                0.5              NaN  \n",
       "998      Above Daily Threshold      1                NaN              NaN  \n",
       "\n",
       "[86 rows x 7 columns]"
      ]
     },
     "execution_count": 43,
     "metadata": {},
     "output_type": "execute_result"
    }
   ],
   "source": [
    "final_df.set_index('key_0', inplace=True)\n",
    "final_df"
   ]
  },
  {
   "cell_type": "code",
   "execution_count": 44,
   "metadata": {
    "pycharm": {
     "name": "#%%\n"
    }
   },
   "outputs": [
    {
     "data": {
      "text/plain": [
       "cluster_group\n",
       "2.0     2.5\n",
       "3.0     2.0\n",
       "6.0     2.0\n",
       "14.0    2.5\n",
       "Name: alcohol_problem, dtype: float64"
      ]
     },
     "execution_count": 44,
     "metadata": {},
     "output_type": "execute_result"
    }
   ],
   "source": [
    "final_df.groupby('cluster_group')['alcohol_problem'].sum()"
   ]
  },
  {
   "cell_type": "markdown",
   "metadata": {
    "pycharm": {
     "name": "#%% md\n"
    }
   },
   "source": [
    "## Caffeine Portion"
   ]
  },
  {
   "cell_type": "code",
   "execution_count": 45,
   "metadata": {
    "pycharm": {
     "name": "#%%\n"
    }
   },
   "outputs": [],
   "source": [
    "final_df_copy = final_df.copy()\n",
    "final_df_copy = final_df_copy[final_df_copy.caffeine_threshold_level.notnull()]\n",
    "final_df_copy['caffeine_problem'] = 1/final_df_copy ['count']"
   ]
  },
  {
   "cell_type": "code",
   "execution_count": 46,
   "metadata": {
    "pycharm": {
     "name": "#%%\n"
    }
   },
   "outputs": [],
   "source": [
    "final_df = pd.merge(final_df, final_df_copy[['caffeine_problem']], left_on = final_df.index, right_on = final_df_copy.index, how='left')\n",
    "final_df.set_index('key_0', inplace=True)"
   ]
  },
  {
   "cell_type": "code",
   "execution_count": 47,
   "metadata": {
    "pycharm": {
     "name": "#%%\n"
    }
   },
   "outputs": [
    {
     "data": {
      "text/plain": [
       "cluster_group\n",
       "2.0     11.5\n",
       "3.0     15.0\n",
       "6.0      2.0\n",
       "14.0    10.5\n",
       "Name: caffeine_problem, dtype: float64"
      ]
     },
     "execution_count": 47,
     "metadata": {},
     "output_type": "execute_result"
    }
   ],
   "source": [
    "final_df.groupby('cluster_group')['caffeine_problem'].sum()"
   ]
  },
  {
   "cell_type": "markdown",
   "metadata": {
    "pycharm": {
     "name": "#%% md\n"
    }
   },
   "source": [
    "## Results"
   ]
  },
  {
   "cell_type": "code",
   "execution_count": 48,
   "metadata": {
    "pycharm": {
     "name": "#%%\n"
    }
   },
   "outputs": [],
   "source": [
    "cluster_desirability_df\n",
    "cluster_desirability_df = cluster_desirability_df.loc[[1,4,2,3,6,14]]\n",
    "cluster_desirability_df = cluster_desirability_df.loc[2:,:]"
   ]
  },
  {
   "cell_type": "code",
   "execution_count": 49,
   "metadata": {
    "pycharm": {
     "name": "#%%\n"
    }
   },
   "outputs": [],
   "source": [
    "total_in_clusters=cluster_desirability_df['cluster_count']"
   ]
  },
  {
   "cell_type": "code",
   "execution_count": 50,
   "metadata": {
    "pycharm": {
     "name": "#%%\n"
    }
   },
   "outputs": [
    {
     "data": {
      "text/html": [
       "<div>\n",
       "<style scoped>\n",
       "    .dataframe tbody tr th:only-of-type {\n",
       "        vertical-align: middle;\n",
       "    }\n",
       "\n",
       "    .dataframe tbody tr th {\n",
       "        vertical-align: top;\n",
       "    }\n",
       "\n",
       "    .dataframe thead th {\n",
       "        text-align: right;\n",
       "    }\n",
       "</style>\n",
       "<table border=\"1\" class=\"dataframe\">\n",
       "  <thead>\n",
       "    <tr style=\"text-align: right;\">\n",
       "      <th></th>\n",
       "      <th>cluster_group</th>\n",
       "      <th>smoking_status</th>\n",
       "      <th>limit_status</th>\n",
       "      <th>caffeine_threshold_level</th>\n",
       "      <th>count</th>\n",
       "      <th>smoking_problem_y</th>\n",
       "      <th>alcohol_problem</th>\n",
       "      <th>caffeine_problem</th>\n",
       "    </tr>\n",
       "    <tr>\n",
       "      <th>key_0</th>\n",
       "      <th></th>\n",
       "      <th></th>\n",
       "      <th></th>\n",
       "      <th></th>\n",
       "      <th></th>\n",
       "      <th></th>\n",
       "      <th></th>\n",
       "      <th></th>\n",
       "    </tr>\n",
       "  </thead>\n",
       "  <tbody>\n",
       "    <tr>\n",
       "      <th>12</th>\n",
       "      <td>3.0</td>\n",
       "      <td>None</td>\n",
       "      <td>None</td>\n",
       "      <td>Above Daily Threshold</td>\n",
       "      <td>1</td>\n",
       "      <td>NaN</td>\n",
       "      <td>NaN</td>\n",
       "      <td>1.0</td>\n",
       "    </tr>\n",
       "    <tr>\n",
       "      <th>17</th>\n",
       "      <td>3.0</td>\n",
       "      <td>None</td>\n",
       "      <td>None</td>\n",
       "      <td>Above Daily Threshold</td>\n",
       "      <td>1</td>\n",
       "      <td>NaN</td>\n",
       "      <td>NaN</td>\n",
       "      <td>1.0</td>\n",
       "    </tr>\n",
       "    <tr>\n",
       "      <th>43</th>\n",
       "      <td>3.0</td>\n",
       "      <td>Current Smoker</td>\n",
       "      <td>None</td>\n",
       "      <td>None</td>\n",
       "      <td>1</td>\n",
       "      <td>1.0</td>\n",
       "      <td>NaN</td>\n",
       "      <td>NaN</td>\n",
       "    </tr>\n",
       "    <tr>\n",
       "      <th>46</th>\n",
       "      <td>6.0</td>\n",
       "      <td>Current Smoker</td>\n",
       "      <td>None</td>\n",
       "      <td>None</td>\n",
       "      <td>1</td>\n",
       "      <td>1.0</td>\n",
       "      <td>NaN</td>\n",
       "      <td>NaN</td>\n",
       "    </tr>\n",
       "    <tr>\n",
       "      <th>61</th>\n",
       "      <td>6.0</td>\n",
       "      <td>None</td>\n",
       "      <td>Above Drinking Limit</td>\n",
       "      <td>None</td>\n",
       "      <td>1</td>\n",
       "      <td>NaN</td>\n",
       "      <td>1.0</td>\n",
       "      <td>NaN</td>\n",
       "    </tr>\n",
       "    <tr>\n",
       "      <th>...</th>\n",
       "      <td>...</td>\n",
       "      <td>...</td>\n",
       "      <td>...</td>\n",
       "      <td>...</td>\n",
       "      <td>...</td>\n",
       "      <td>...</td>\n",
       "      <td>...</td>\n",
       "      <td>...</td>\n",
       "    </tr>\n",
       "    <tr>\n",
       "      <th>960</th>\n",
       "      <td>3.0</td>\n",
       "      <td>Current Smoker</td>\n",
       "      <td>None</td>\n",
       "      <td>None</td>\n",
       "      <td>1</td>\n",
       "      <td>1.0</td>\n",
       "      <td>NaN</td>\n",
       "      <td>NaN</td>\n",
       "    </tr>\n",
       "    <tr>\n",
       "      <th>967</th>\n",
       "      <td>14.0</td>\n",
       "      <td>Current Smoker</td>\n",
       "      <td>None</td>\n",
       "      <td>Above Daily Threshold</td>\n",
       "      <td>2</td>\n",
       "      <td>0.5</td>\n",
       "      <td>NaN</td>\n",
       "      <td>0.5</td>\n",
       "    </tr>\n",
       "    <tr>\n",
       "      <th>976</th>\n",
       "      <td>14.0</td>\n",
       "      <td>Current Smoker</td>\n",
       "      <td>Above Drinking Limit</td>\n",
       "      <td>None</td>\n",
       "      <td>2</td>\n",
       "      <td>0.5</td>\n",
       "      <td>0.5</td>\n",
       "      <td>NaN</td>\n",
       "    </tr>\n",
       "    <tr>\n",
       "      <th>980</th>\n",
       "      <td>2.0</td>\n",
       "      <td>Current Smoker</td>\n",
       "      <td>None</td>\n",
       "      <td>Above Daily Threshold</td>\n",
       "      <td>2</td>\n",
       "      <td>0.5</td>\n",
       "      <td>NaN</td>\n",
       "      <td>0.5</td>\n",
       "    </tr>\n",
       "    <tr>\n",
       "      <th>998</th>\n",
       "      <td>3.0</td>\n",
       "      <td>None</td>\n",
       "      <td>None</td>\n",
       "      <td>Above Daily Threshold</td>\n",
       "      <td>1</td>\n",
       "      <td>NaN</td>\n",
       "      <td>NaN</td>\n",
       "      <td>1.0</td>\n",
       "    </tr>\n",
       "  </tbody>\n",
       "</table>\n",
       "<p>86 rows × 8 columns</p>\n",
       "</div>"
      ],
      "text/plain": [
       "      cluster_group  smoking_status          limit_status  \\\n",
       "key_0                                                       \n",
       "12              3.0            None                  None   \n",
       "17              3.0            None                  None   \n",
       "43              3.0  Current Smoker                  None   \n",
       "46              6.0  Current Smoker                  None   \n",
       "61              6.0            None  Above Drinking Limit   \n",
       "...             ...             ...                   ...   \n",
       "960             3.0  Current Smoker                  None   \n",
       "967            14.0  Current Smoker                  None   \n",
       "976            14.0  Current Smoker  Above Drinking Limit   \n",
       "980             2.0  Current Smoker                  None   \n",
       "998             3.0            None                  None   \n",
       "\n",
       "      caffeine_threshold_level  count  smoking_problem_y  alcohol_problem  \\\n",
       "key_0                                                                       \n",
       "12       Above Daily Threshold      1                NaN              NaN   \n",
       "17       Above Daily Threshold      1                NaN              NaN   \n",
       "43                        None      1                1.0              NaN   \n",
       "46                        None      1                1.0              NaN   \n",
       "61                        None      1                NaN              1.0   \n",
       "...                        ...    ...                ...              ...   \n",
       "960                       None      1                1.0              NaN   \n",
       "967      Above Daily Threshold      2                0.5              NaN   \n",
       "976                       None      2                0.5              0.5   \n",
       "980      Above Daily Threshold      2                0.5              NaN   \n",
       "998      Above Daily Threshold      1                NaN              NaN   \n",
       "\n",
       "       caffeine_problem  \n",
       "key_0                    \n",
       "12                  1.0  \n",
       "17                  1.0  \n",
       "43                  NaN  \n",
       "46                  NaN  \n",
       "61                  NaN  \n",
       "...                 ...  \n",
       "960                 NaN  \n",
       "967                 0.5  \n",
       "976                 NaN  \n",
       "980                 0.5  \n",
       "998                 1.0  \n",
       "\n",
       "[86 rows x 8 columns]"
      ]
     },
     "execution_count": 50,
     "metadata": {},
     "output_type": "execute_result"
    }
   ],
   "source": [
    "final_df"
   ]
  },
  {
   "cell_type": "code",
   "execution_count": 51,
   "metadata": {
    "pycharm": {
     "name": "#%%\n"
    }
   },
   "outputs": [],
   "source": [
    "final_df = final_df.rename(columns = {'cluster_group': 'Cluster Group', 'smoking_status': 'Smoking Status', 'limit_status': 'Alcohol Status', 'caffeine_below_threshold': 'Caffeine Status', 'smoking_problem_y': 'Smoking Problem', 'alcohol_problem': 'Alcohol Problem', 'caffeine_problem': 'Caffeine Problem'})"
   ]
  },
  {
   "cell_type": "code",
   "execution_count": 52,
   "metadata": {
    "pycharm": {
     "name": "#%%\n"
    }
   },
   "outputs": [
    {
     "name": "stderr",
     "output_type": "stream",
     "text": [
      "<ipython-input-52-119f8bcaa03a>:1: FutureWarning: Indexing with multiple keys (implicitly converted to a tuple of keys) will be deprecated, use a list instead.\n",
      "  cluster_problem_percentages = final_df.groupby('Cluster Group')['Smoking Problem', 'Alcohol Problem', 'Caffeine Problem'].sum()\n"
     ]
    }
   ],
   "source": [
    "cluster_problem_percentages = final_df.groupby('Cluster Group')['Smoking Problem', 'Alcohol Problem', 'Caffeine Problem'].sum()"
   ]
  },
  {
   "cell_type": "code",
   "execution_count": 53,
   "metadata": {
    "pycharm": {
     "name": "#%%\n"
    }
   },
   "outputs": [
    {
     "data": {
      "text/html": [
       "<div>\n",
       "<style scoped>\n",
       "    .dataframe tbody tr th:only-of-type {\n",
       "        vertical-align: middle;\n",
       "    }\n",
       "\n",
       "    .dataframe tbody tr th {\n",
       "        vertical-align: top;\n",
       "    }\n",
       "\n",
       "    .dataframe thead th {\n",
       "        text-align: right;\n",
       "    }\n",
       "</style>\n",
       "<table border=\"1\" class=\"dataframe\">\n",
       "  <thead>\n",
       "    <tr style=\"text-align: right;\">\n",
       "      <th></th>\n",
       "      <th>Smoking Problem</th>\n",
       "      <th>Alcohol Problem</th>\n",
       "      <th>Caffeine Problem</th>\n",
       "    </tr>\n",
       "    <tr>\n",
       "      <th>Cluster Group</th>\n",
       "      <th></th>\n",
       "      <th></th>\n",
       "      <th></th>\n",
       "    </tr>\n",
       "  </thead>\n",
       "  <tbody>\n",
       "    <tr>\n",
       "      <th>2.0</th>\n",
       "      <td>9.0</td>\n",
       "      <td>2.5</td>\n",
       "      <td>11.5</td>\n",
       "    </tr>\n",
       "    <tr>\n",
       "      <th>3.0</th>\n",
       "      <td>11.0</td>\n",
       "      <td>2.0</td>\n",
       "      <td>15.0</td>\n",
       "    </tr>\n",
       "    <tr>\n",
       "      <th>6.0</th>\n",
       "      <td>6.0</td>\n",
       "      <td>2.0</td>\n",
       "      <td>2.0</td>\n",
       "    </tr>\n",
       "    <tr>\n",
       "      <th>14.0</th>\n",
       "      <td>12.0</td>\n",
       "      <td>2.5</td>\n",
       "      <td>10.5</td>\n",
       "    </tr>\n",
       "  </tbody>\n",
       "</table>\n",
       "</div>"
      ],
      "text/plain": [
       "               Smoking Problem  Alcohol Problem  Caffeine Problem\n",
       "Cluster Group                                                    \n",
       "2.0                        9.0              2.5              11.5\n",
       "3.0                       11.0              2.0              15.0\n",
       "6.0                        6.0              2.0               2.0\n",
       "14.0                      12.0              2.5              10.5"
      ]
     },
     "execution_count": 53,
     "metadata": {},
     "output_type": "execute_result"
    }
   ],
   "source": [
    "cluster_problem_percentages"
   ]
  },
  {
   "cell_type": "code",
   "execution_count": 54,
   "metadata": {
    "pycharm": {
     "name": "#%%\n"
    }
   },
   "outputs": [],
   "source": [
    "total_cluster_problems=cluster_problem_percentages.sum(axis=1).to_frame()"
   ]
  },
  {
   "cell_type": "code",
   "execution_count": 55,
   "metadata": {
    "pycharm": {
     "name": "#%%\n"
    }
   },
   "outputs": [
    {
     "data": {
      "text/plain": [
       "array([[23.],\n",
       "       [28.],\n",
       "       [10.],\n",
       "       [25.]])"
      ]
     },
     "execution_count": 55,
     "metadata": {},
     "output_type": "execute_result"
    }
   ],
   "source": [
    "np.array(total_cluster_problems)"
   ]
  },
  {
   "cell_type": "code",
   "execution_count": 56,
   "metadata": {
    "pycharm": {
     "name": "#%%\n"
    }
   },
   "outputs": [
    {
     "data": {
      "text/plain": [
       "array([[23.],\n",
       "       [28.],\n",
       "       [10.],\n",
       "       [25.]])"
      ]
     },
     "execution_count": 56,
     "metadata": {},
     "output_type": "execute_result"
    }
   ],
   "source": [
    "total_cluster_problems.to_numpy()"
   ]
  },
  {
   "cell_type": "markdown",
   "metadata": {
    "pycharm": {
     "name": "#%% md\n"
    }
   },
   "source": [
    "Due to how numpy subtracts the two arrays, only the diagonal of the resultant matrix must be taken"
   ]
  },
  {
   "cell_type": "code",
   "execution_count": 57,
   "metadata": {
    "pycharm": {
     "name": "#%%\n"
    }
   },
   "outputs": [],
   "source": [
    "health_individuals_in_clusters = np.diag(np.subtract(np.array(total_in_clusters),np.array(total_cluster_problems)))"
   ]
  },
  {
   "cell_type": "code",
   "execution_count": 58,
   "metadata": {
    "pycharm": {
     "name": "#%%\n"
    }
   },
   "outputs": [
    {
     "data": {
      "text/plain": [
       "Cluster Group\n",
       "2.0      9.0\n",
       "3.0     11.0\n",
       "6.0      6.0\n",
       "14.0    12.0\n",
       "Name: Smoking Problem, dtype: float64"
      ]
     },
     "execution_count": 58,
     "metadata": {},
     "output_type": "execute_result"
    }
   ],
   "source": [
    "cluster_problem_percentages['Smoking Problem']"
   ]
  },
  {
   "cell_type": "code",
   "execution_count": 59,
   "metadata": {
    "pycharm": {
     "name": "#%%\n"
    }
   },
   "outputs": [
    {
     "data": {
      "text/plain": [
       "array([73., 89., 49., 46.])"
      ]
     },
     "execution_count": 59,
     "metadata": {},
     "output_type": "execute_result"
    }
   ],
   "source": [
    "health_individuals_in_clusters\n"
   ]
  },
  {
   "cell_type": "code",
   "execution_count": 60,
   "metadata": {
    "pycharm": {
     "name": "#%%\n"
    }
   },
   "outputs": [
    {
     "data": {
      "text/html": [
       "<div>\n",
       "<style scoped>\n",
       "    .dataframe tbody tr th:only-of-type {\n",
       "        vertical-align: middle;\n",
       "    }\n",
       "\n",
       "    .dataframe tbody tr th {\n",
       "        vertical-align: top;\n",
       "    }\n",
       "\n",
       "    .dataframe thead th {\n",
       "        text-align: right;\n",
       "    }\n",
       "</style>\n",
       "<table border=\"1\" class=\"dataframe\">\n",
       "  <thead>\n",
       "    <tr style=\"text-align: right;\">\n",
       "      <th></th>\n",
       "      <th>0</th>\n",
       "    </tr>\n",
       "    <tr>\n",
       "      <th>Cluster Group</th>\n",
       "      <th></th>\n",
       "    </tr>\n",
       "  </thead>\n",
       "  <tbody>\n",
       "    <tr>\n",
       "      <th>2.0</th>\n",
       "      <td>23.0</td>\n",
       "    </tr>\n",
       "    <tr>\n",
       "      <th>3.0</th>\n",
       "      <td>28.0</td>\n",
       "    </tr>\n",
       "    <tr>\n",
       "      <th>6.0</th>\n",
       "      <td>10.0</td>\n",
       "    </tr>\n",
       "    <tr>\n",
       "      <th>14.0</th>\n",
       "      <td>25.0</td>\n",
       "    </tr>\n",
       "  </tbody>\n",
       "</table>\n",
       "</div>"
      ],
      "text/plain": [
       "                  0\n",
       "Cluster Group      \n",
       "2.0            23.0\n",
       "3.0            28.0\n",
       "6.0            10.0\n",
       "14.0           25.0"
      ]
     },
     "execution_count": 60,
     "metadata": {},
     "output_type": "execute_result"
    }
   ],
   "source": [
    "total_cluster_problems\n"
   ]
  },
  {
   "cell_type": "markdown",
   "metadata": {
    "pycharm": {
     "name": "#%% md\n"
    }
   },
   "source": [
    "Ratio consists of the ratio of the number of healthy individuals in a cluster to the number of unhealthy individuals in that cluster."
   ]
  },
  {
   "cell_type": "code",
   "execution_count": 61,
   "metadata": {
    "pycharm": {
     "name": "#%%\n"
    }
   },
   "outputs": [],
   "source": [
    "columns = ['Healthy', 'Unhealthy']\n",
    "ratio = pd.DataFrame(columns=columns, index=total_cluster_problems.index)"
   ]
  },
  {
   "cell_type": "code",
   "execution_count": 62,
   "metadata": {
    "pycharm": {
     "name": "#%%\n"
    }
   },
   "outputs": [],
   "source": [
    "ratio['Healthy'] = health_individuals_in_clusters\n",
    "ratio['Unhealthy'] = total_cluster_problems\n"
   ]
  },
  {
   "cell_type": "code",
   "execution_count": 63,
   "metadata": {
    "pycharm": {
     "name": "#%%\n"
    }
   },
   "outputs": [
    {
     "data": {
      "text/html": [
       "<div>\n",
       "<style scoped>\n",
       "    .dataframe tbody tr th:only-of-type {\n",
       "        vertical-align: middle;\n",
       "    }\n",
       "\n",
       "    .dataframe tbody tr th {\n",
       "        vertical-align: top;\n",
       "    }\n",
       "\n",
       "    .dataframe thead th {\n",
       "        text-align: right;\n",
       "    }\n",
       "</style>\n",
       "<table border=\"1\" class=\"dataframe\">\n",
       "  <thead>\n",
       "    <tr style=\"text-align: right;\">\n",
       "      <th></th>\n",
       "      <th>Healthy</th>\n",
       "      <th>Unhealthy</th>\n",
       "    </tr>\n",
       "    <tr>\n",
       "      <th>Cluster Group</th>\n",
       "      <th></th>\n",
       "      <th></th>\n",
       "    </tr>\n",
       "  </thead>\n",
       "  <tbody>\n",
       "    <tr>\n",
       "      <th>2.0</th>\n",
       "      <td>73.0</td>\n",
       "      <td>23.0</td>\n",
       "    </tr>\n",
       "    <tr>\n",
       "      <th>3.0</th>\n",
       "      <td>89.0</td>\n",
       "      <td>28.0</td>\n",
       "    </tr>\n",
       "    <tr>\n",
       "      <th>6.0</th>\n",
       "      <td>49.0</td>\n",
       "      <td>10.0</td>\n",
       "    </tr>\n",
       "    <tr>\n",
       "      <th>14.0</th>\n",
       "      <td>46.0</td>\n",
       "      <td>25.0</td>\n",
       "    </tr>\n",
       "  </tbody>\n",
       "</table>\n",
       "</div>"
      ],
      "text/plain": [
       "               Healthy  Unhealthy\n",
       "Cluster Group                    \n",
       "2.0               73.0       23.0\n",
       "3.0               89.0       28.0\n",
       "6.0               49.0       10.0\n",
       "14.0              46.0       25.0"
      ]
     },
     "execution_count": 63,
     "metadata": {},
     "output_type": "execute_result"
    }
   ],
   "source": [
    "ratio"
   ]
  },
  {
   "cell_type": "code",
   "execution_count": 64,
   "metadata": {
    "pycharm": {
     "name": "#%%\n"
    }
   },
   "outputs": [],
   "source": [
    "ratio['Total'] = total_in_clusters"
   ]
  },
  {
   "cell_type": "code",
   "execution_count": 65,
   "metadata": {
    "pycharm": {
     "name": "#%%\n"
    }
   },
   "outputs": [],
   "source": [
    "ratio['Healthy Percentage'] = ratio['Healthy']/ratio['Total']\n",
    "ratio['Unhealthy Percentage'] = ratio['Unhealthy']/ratio['Total']"
   ]
  },
  {
   "cell_type": "code",
   "execution_count": 66,
   "metadata": {
    "pycharm": {
     "name": "#%%\n"
    }
   },
   "outputs": [],
   "source": [
    "ratio.loc[:, ['Healthy Percentage', 'Unhealthy Percentage']] = ratio.loc[:, ['Healthy Percentage', 'Unhealthy Percentage']] * 100"
   ]
  },
  {
   "cell_type": "code",
   "execution_count": 67,
   "metadata": {},
   "outputs": [
    {
     "data": {
      "text/html": [
       "<div>\n",
       "<style scoped>\n",
       "    .dataframe tbody tr th:only-of-type {\n",
       "        vertical-align: middle;\n",
       "    }\n",
       "\n",
       "    .dataframe tbody tr th {\n",
       "        vertical-align: top;\n",
       "    }\n",
       "\n",
       "    .dataframe thead th {\n",
       "        text-align: right;\n",
       "    }\n",
       "</style>\n",
       "<table border=\"1\" class=\"dataframe\">\n",
       "  <thead>\n",
       "    <tr style=\"text-align: right;\">\n",
       "      <th></th>\n",
       "      <th>Healthy</th>\n",
       "      <th>Unhealthy</th>\n",
       "      <th>Total</th>\n",
       "      <th>Healthy Percentage</th>\n",
       "      <th>Unhealthy Percentage</th>\n",
       "    </tr>\n",
       "    <tr>\n",
       "      <th>Cluster Group</th>\n",
       "      <th></th>\n",
       "      <th></th>\n",
       "      <th></th>\n",
       "      <th></th>\n",
       "      <th></th>\n",
       "    </tr>\n",
       "  </thead>\n",
       "  <tbody>\n",
       "    <tr>\n",
       "      <th>2.0</th>\n",
       "      <td>73.0</td>\n",
       "      <td>23.0</td>\n",
       "      <td>96</td>\n",
       "      <td>76.041667</td>\n",
       "      <td>23.958333</td>\n",
       "    </tr>\n",
       "    <tr>\n",
       "      <th>3.0</th>\n",
       "      <td>89.0</td>\n",
       "      <td>28.0</td>\n",
       "      <td>117</td>\n",
       "      <td>76.068376</td>\n",
       "      <td>23.931624</td>\n",
       "    </tr>\n",
       "    <tr>\n",
       "      <th>6.0</th>\n",
       "      <td>49.0</td>\n",
       "      <td>10.0</td>\n",
       "      <td>59</td>\n",
       "      <td>83.050847</td>\n",
       "      <td>16.949153</td>\n",
       "    </tr>\n",
       "    <tr>\n",
       "      <th>14.0</th>\n",
       "      <td>46.0</td>\n",
       "      <td>25.0</td>\n",
       "      <td>71</td>\n",
       "      <td>64.788732</td>\n",
       "      <td>35.211268</td>\n",
       "    </tr>\n",
       "  </tbody>\n",
       "</table>\n",
       "</div>"
      ],
      "text/plain": [
       "               Healthy  Unhealthy  Total  Healthy Percentage  \\\n",
       "Cluster Group                                                  \n",
       "2.0               73.0       23.0     96           76.041667   \n",
       "3.0               89.0       28.0    117           76.068376   \n",
       "6.0               49.0       10.0     59           83.050847   \n",
       "14.0              46.0       25.0     71           64.788732   \n",
       "\n",
       "               Unhealthy Percentage  \n",
       "Cluster Group                        \n",
       "2.0                       23.958333  \n",
       "3.0                       23.931624  \n",
       "6.0                       16.949153  \n",
       "14.0                      35.211268  "
      ]
     },
     "execution_count": 67,
     "metadata": {},
     "output_type": "execute_result"
    }
   ],
   "source": [
    "ratio"
   ]
  },
  {
   "cell_type": "code",
   "execution_count": 68,
   "metadata": {},
   "outputs": [
    {
     "data": {
      "text/html": [
       "<div>\n",
       "<style scoped>\n",
       "    .dataframe tbody tr th:only-of-type {\n",
       "        vertical-align: middle;\n",
       "    }\n",
       "\n",
       "    .dataframe tbody tr th {\n",
       "        vertical-align: top;\n",
       "    }\n",
       "\n",
       "    .dataframe thead th {\n",
       "        text-align: right;\n",
       "    }\n",
       "</style>\n",
       "<table border=\"1\" class=\"dataframe\">\n",
       "  <thead>\n",
       "    <tr style=\"text-align: right;\">\n",
       "      <th></th>\n",
       "      <th>Healthy</th>\n",
       "      <th>Unhealthy</th>\n",
       "      <th>Total</th>\n",
       "      <th>Healthy Percentage</th>\n",
       "      <th>Unhealthy Percentage</th>\n",
       "    </tr>\n",
       "    <tr>\n",
       "      <th>Cluster Group</th>\n",
       "      <th></th>\n",
       "      <th></th>\n",
       "      <th></th>\n",
       "      <th></th>\n",
       "      <th></th>\n",
       "    </tr>\n",
       "  </thead>\n",
       "  <tbody>\n",
       "    <tr>\n",
       "      <th>6.0</th>\n",
       "      <td>49.0</td>\n",
       "      <td>10.0</td>\n",
       "      <td>59</td>\n",
       "      <td>83.050847</td>\n",
       "      <td>16.949153</td>\n",
       "    </tr>\n",
       "    <tr>\n",
       "      <th>3.0</th>\n",
       "      <td>89.0</td>\n",
       "      <td>28.0</td>\n",
       "      <td>117</td>\n",
       "      <td>76.068376</td>\n",
       "      <td>23.931624</td>\n",
       "    </tr>\n",
       "    <tr>\n",
       "      <th>2.0</th>\n",
       "      <td>73.0</td>\n",
       "      <td>23.0</td>\n",
       "      <td>96</td>\n",
       "      <td>76.041667</td>\n",
       "      <td>23.958333</td>\n",
       "    </tr>\n",
       "    <tr>\n",
       "      <th>14.0</th>\n",
       "      <td>46.0</td>\n",
       "      <td>25.0</td>\n",
       "      <td>71</td>\n",
       "      <td>64.788732</td>\n",
       "      <td>35.211268</td>\n",
       "    </tr>\n",
       "  </tbody>\n",
       "</table>\n",
       "</div>"
      ],
      "text/plain": [
       "               Healthy  Unhealthy  Total  Healthy Percentage  \\\n",
       "Cluster Group                                                  \n",
       "6.0               49.0       10.0     59           83.050847   \n",
       "3.0               89.0       28.0    117           76.068376   \n",
       "2.0               73.0       23.0     96           76.041667   \n",
       "14.0              46.0       25.0     71           64.788732   \n",
       "\n",
       "               Unhealthy Percentage  \n",
       "Cluster Group                        \n",
       "6.0                       16.949153  \n",
       "3.0                       23.931624  \n",
       "2.0                       23.958333  \n",
       "14.0                      35.211268  "
      ]
     },
     "execution_count": 68,
     "metadata": {},
     "output_type": "execute_result"
    }
   ],
   "source": [
    "ratio = ratio.sort_values('Unhealthy Percentage')\n",
    "ratio"
   ]
  },
  {
   "cell_type": "code",
   "execution_count": 69,
   "metadata": {
    "pycharm": {
     "name": "#%%\n"
    }
   },
   "outputs": [
    {
     "data": {
      "image/png": "[encoded data removed]",
      "text/plain": [
       "<Figure size 1728x648 with 1 Axes>"
      ]
     },
     "metadata": {
      "needs_background": "light"
     },
     "output_type": "display_data"
    }
   ],
   "source": [
    "import matplotlib.ticker as mtick\n",
    "width = .8\n",
    "fig, ax = plt.subplots(figsize=(24, 9))\n",
    "\n",
    "ratio.loc[:, ['Unhealthy Percentage', 'Healthy Percentage']].plot.barh(ax=ax, width=width, stacked=True, color=('#CD5C5C','#36a866'),edgecolor='black')\n",
    "ax.set_title('Health Status of Our Clusters According to Substance Usage\\n',fontsize = 30,fontfamily = 'Andale Mono')\n",
    "ax.set_ylabel('Cluster Group\\n',fontsize = 28,fontfamily = 'Andale Mono')\n",
    "\n",
    "ax.xaxis.set_tick_params(labelsize=24)\n",
    "ax.yaxis.set_tick_params(labelsize=24)\n",
    "plt.xticks(fontname = 'Andale Mono') \n",
    "plt.yticks(fontname = 'Andale Mono') \n",
    "\n",
    "ax.legend(bbox_to_anchor=(1.05, 1),prop={'size': 24,'family':'Andale Mono'})\n",
    "\n",
    "plt.xticks(np.arange(0, 100+1, 10))\n",
    "ax.xaxis.set_major_formatter(mtick.PercentFormatter())\n",
    "\n",
    "plt.tight_layout()\n",
    "\n",
    "plt.savefig('../data_file/graphs/PNG/3024_healthy_unhealthy_cluster.png', dpi=300)\n",
    "plt.savefig('../data_file/graphs/JPG/3024_healthy_unhealthy_cluster.jpg', dpi=300)"
   ]
  },
  {
   "cell_type": "code",
   "execution_count": 70,
   "metadata": {
    "pycharm": {
     "name": "#%%\n"
    }
   },
   "outputs": [
    {
     "data": {
      "text/html": [
       "<div>\n",
       "<style scoped>\n",
       "    .dataframe tbody tr th:only-of-type {\n",
       "        vertical-align: middle;\n",
       "    }\n",
       "\n",
       "    .dataframe tbody tr th {\n",
       "        vertical-align: top;\n",
       "    }\n",
       "\n",
       "    .dataframe thead th {\n",
       "        text-align: right;\n",
       "    }\n",
       "</style>\n",
       "<table border=\"1\" class=\"dataframe\">\n",
       "  <thead>\n",
       "    <tr style=\"text-align: right;\">\n",
       "      <th></th>\n",
       "      <th>Smoking Problem</th>\n",
       "      <th>Alcohol Problem</th>\n",
       "      <th>Caffeine Problem</th>\n",
       "    </tr>\n",
       "    <tr>\n",
       "      <th>Cluster Group</th>\n",
       "      <th></th>\n",
       "      <th></th>\n",
       "      <th></th>\n",
       "    </tr>\n",
       "  </thead>\n",
       "  <tbody>\n",
       "    <tr>\n",
       "      <th>2.0</th>\n",
       "      <td>9.0</td>\n",
       "      <td>2.5</td>\n",
       "      <td>11.5</td>\n",
       "    </tr>\n",
       "    <tr>\n",
       "      <th>3.0</th>\n",
       "      <td>11.0</td>\n",
       "      <td>2.0</td>\n",
       "      <td>15.0</td>\n",
       "    </tr>\n",
       "    <tr>\n",
       "      <th>6.0</th>\n",
       "      <td>6.0</td>\n",
       "      <td>2.0</td>\n",
       "      <td>2.0</td>\n",
       "    </tr>\n",
       "    <tr>\n",
       "      <th>14.0</th>\n",
       "      <td>12.0</td>\n",
       "      <td>2.5</td>\n",
       "      <td>10.5</td>\n",
       "    </tr>\n",
       "  </tbody>\n",
       "</table>\n",
       "</div>"
      ],
      "text/plain": [
       "               Smoking Problem  Alcohol Problem  Caffeine Problem\n",
       "Cluster Group                                                    \n",
       "2.0                        9.0              2.5              11.5\n",
       "3.0                       11.0              2.0              15.0\n",
       "6.0                        6.0              2.0               2.0\n",
       "14.0                      12.0              2.5              10.5"
      ]
     },
     "execution_count": 70,
     "metadata": {},
     "output_type": "execute_result"
    }
   ],
   "source": [
    "cluster_problem_percentages"
   ]
  },
  {
   "cell_type": "code",
   "execution_count": 71,
   "metadata": {
    "pycharm": {
     "name": "#%%\n"
    }
   },
   "outputs": [
    {
     "data": {
      "text/plain": [
       "Cluster Group\n",
       "6.0     10.0\n",
       "3.0     28.0\n",
       "2.0     23.0\n",
       "14.0    25.0\n",
       "Name: Unhealthy, dtype: float64"
      ]
     },
     "execution_count": 71,
     "metadata": {},
     "output_type": "execute_result"
    }
   ],
   "source": [
    "ratio['Unhealthy']"
   ]
  },
  {
   "cell_type": "code",
   "execution_count": 72,
   "metadata": {
    "pycharm": {
     "name": "#%%\n"
    }
   },
   "outputs": [],
   "source": [
    "cluster_problem_percentages['Smoking Problem'] = (cluster_problem_percentages['Smoking Problem'] / ratio['Unhealthy']) * 100\n",
    "cluster_problem_percentages['Alcohol Problem'] = (cluster_problem_percentages['Alcohol Problem'] / ratio['Unhealthy']) * 100\n",
    "cluster_problem_percentages['Caffeine Problem'] = (cluster_problem_percentages['Caffeine Problem'] / ratio['Unhealthy']) * 100"
   ]
  },
  {
   "cell_type": "code",
   "execution_count": 73,
   "metadata": {
    "pycharm": {
     "name": "#%%\n"
    }
   },
   "outputs": [],
   "source": [
    "cluster_problem_percentages = cluster_problem_percentages[['Smoking Problem','Caffeine Problem', 'Alcohol Problem']]"
   ]
  },
  {
   "cell_type": "code",
   "execution_count": 74,
   "metadata": {
    "pycharm": {
     "name": "#%%\n"
    }
   },
   "outputs": [
    {
     "data": {
      "text/html": [
       "<div>\n",
       "<style scoped>\n",
       "    .dataframe tbody tr th:only-of-type {\n",
       "        vertical-align: middle;\n",
       "    }\n",
       "\n",
       "    .dataframe tbody tr th {\n",
       "        vertical-align: top;\n",
       "    }\n",
       "\n",
       "    .dataframe thead th {\n",
       "        text-align: right;\n",
       "    }\n",
       "</style>\n",
       "<table border=\"1\" class=\"dataframe\">\n",
       "  <thead>\n",
       "    <tr style=\"text-align: right;\">\n",
       "      <th></th>\n",
       "      <th>Smoking Problem</th>\n",
       "      <th>Caffeine Problem</th>\n",
       "      <th>Alcohol Problem</th>\n",
       "    </tr>\n",
       "    <tr>\n",
       "      <th>Cluster Group</th>\n",
       "      <th></th>\n",
       "      <th></th>\n",
       "      <th></th>\n",
       "    </tr>\n",
       "  </thead>\n",
       "  <tbody>\n",
       "    <tr>\n",
       "      <th>2.0</th>\n",
       "      <td>39.130435</td>\n",
       "      <td>50.000000</td>\n",
       "      <td>10.869565</td>\n",
       "    </tr>\n",
       "    <tr>\n",
       "      <th>3.0</th>\n",
       "      <td>39.285714</td>\n",
       "      <td>53.571429</td>\n",
       "      <td>7.142857</td>\n",
       "    </tr>\n",
       "    <tr>\n",
       "      <th>6.0</th>\n",
       "      <td>60.000000</td>\n",
       "      <td>20.000000</td>\n",
       "      <td>20.000000</td>\n",
       "    </tr>\n",
       "    <tr>\n",
       "      <th>14.0</th>\n",
       "      <td>48.000000</td>\n",
       "      <td>42.000000</td>\n",
       "      <td>10.000000</td>\n",
       "    </tr>\n",
       "  </tbody>\n",
       "</table>\n",
       "</div>"
      ],
      "text/plain": [
       "               Smoking Problem  Caffeine Problem  Alcohol Problem\n",
       "Cluster Group                                                    \n",
       "2.0                  39.130435         50.000000        10.869565\n",
       "3.0                  39.285714         53.571429         7.142857\n",
       "6.0                  60.000000         20.000000        20.000000\n",
       "14.0                 48.000000         42.000000        10.000000"
      ]
     },
     "execution_count": 74,
     "metadata": {},
     "output_type": "execute_result"
    }
   ],
   "source": [
    "cluster_problem_percentages"
   ]
  },
  {
   "cell_type": "code",
   "execution_count": 75,
   "metadata": {},
   "outputs": [],
   "source": [
    "# df.reindex([\"Z\", \"C\", \"A\"])\n",
    "cluster_problem_percentages = cluster_problem_percentages.reindex(ratio.index)"
   ]
  },
  {
   "cell_type": "code",
   "execution_count": 76,
   "metadata": {},
   "outputs": [
    {
     "data": {
      "text/html": [
       "<div>\n",
       "<style scoped>\n",
       "    .dataframe tbody tr th:only-of-type {\n",
       "        vertical-align: middle;\n",
       "    }\n",
       "\n",
       "    .dataframe tbody tr th {\n",
       "        vertical-align: top;\n",
       "    }\n",
       "\n",
       "    .dataframe thead th {\n",
       "        text-align: right;\n",
       "    }\n",
       "</style>\n",
       "<table border=\"1\" class=\"dataframe\">\n",
       "  <thead>\n",
       "    <tr style=\"text-align: right;\">\n",
       "      <th></th>\n",
       "      <th>Smoking Problem</th>\n",
       "      <th>Caffeine Problem</th>\n",
       "      <th>Alcohol Problem</th>\n",
       "    </tr>\n",
       "    <tr>\n",
       "      <th>Cluster Group</th>\n",
       "      <th></th>\n",
       "      <th></th>\n",
       "      <th></th>\n",
       "    </tr>\n",
       "  </thead>\n",
       "  <tbody>\n",
       "    <tr>\n",
       "      <th>6.0</th>\n",
       "      <td>60.000000</td>\n",
       "      <td>20.000000</td>\n",
       "      <td>20.000000</td>\n",
       "    </tr>\n",
       "    <tr>\n",
       "      <th>3.0</th>\n",
       "      <td>39.285714</td>\n",
       "      <td>53.571429</td>\n",
       "      <td>7.142857</td>\n",
       "    </tr>\n",
       "    <tr>\n",
       "      <th>2.0</th>\n",
       "      <td>39.130435</td>\n",
       "      <td>50.000000</td>\n",
       "      <td>10.869565</td>\n",
       "    </tr>\n",
       "    <tr>\n",
       "      <th>14.0</th>\n",
       "      <td>48.000000</td>\n",
       "      <td>42.000000</td>\n",
       "      <td>10.000000</td>\n",
       "    </tr>\n",
       "  </tbody>\n",
       "</table>\n",
       "</div>"
      ],
      "text/plain": [
       "               Smoking Problem  Caffeine Problem  Alcohol Problem\n",
       "Cluster Group                                                    \n",
       "6.0                  60.000000         20.000000        20.000000\n",
       "3.0                  39.285714         53.571429         7.142857\n",
       "2.0                  39.130435         50.000000        10.869565\n",
       "14.0                 48.000000         42.000000        10.000000"
      ]
     },
     "execution_count": 76,
     "metadata": {},
     "output_type": "execute_result"
    }
   ],
   "source": [
    "cluster_problem_percentages"
   ]
  },
  {
   "cell_type": "code",
   "execution_count": 77,
   "metadata": {
    "pycharm": {
     "name": "#%%\n"
    }
   },
   "outputs": [
    {
     "data": {
      "image/png": "[encoded data removed]",
      "text/plain": [
       "<Figure size 1728x648 with 1 Axes>"
      ]
     },
     "metadata": {
      "needs_background": "light"
     },
     "output_type": "display_data"
    }
   ],
   "source": [
    "import matplotlib.ticker as mtick\n",
    "width = .8\n",
    "fig, ax = plt.subplots(figsize=(24, 9))\n",
    "# plt.title('Cluster Healthy vs Unhealthy Percents')\n",
    "ax.set_title('Substance Abuse in Our Clusters\\n',fontsize = 34,fontfamily = 'Andale Mono')\n",
    "\n",
    "\n",
    "cluster_problem_percentages.plot.barh(ax=ax, width=width, stacked=True, color=('#F1A238','#b46a03', '#bf3700'),edgecolor='black')\n",
    "\n",
    "plt.xticks(np.arange(0, 100+1, 10))\n",
    "ax.xaxis.set_major_formatter(mtick.PercentFormatter())\n",
    "ax.legend(bbox_to_anchor=(1.05, 1),prop={'size': 24,'family':'Andale Mono'})\n",
    "\n",
    "ax.set_ylabel('Cluster Group\\n',fontsize = 28,fontfamily = 'Andale Mono')\n",
    "\n",
    "ax.xaxis.set_tick_params(labelsize=24)\n",
    "ax.yaxis.set_tick_params(labelsize=24)\n",
    "plt.xticks(fontname = 'Andale Mono') \n",
    "plt.yticks(fontname = 'Andale Mono') \n",
    "\n",
    "plt.tight_layout()\n",
    "\n",
    "plt.savefig('../data_file/graphs/PNG/3024_problems_in_clusters.png', dpi=300)\n",
    "plt.savefig('../data_file/graphs/JPG/3024_problems_in_clusters.jpg', dpi=300)"
   ]
  },
  {
   "cell_type": "code",
   "execution_count": null,
   "metadata": {},
   "outputs": [],
   "source": []
  },
  {
   "cell_type": "code",
   "execution_count": null,
   "metadata": {},
   "outputs": [],
   "source": []
  },
  {
   "cell_type": "code",
   "execution_count": null,
   "metadata": {},
   "outputs": [],
   "source": []
  },
  {
   "cell_type": "code",
   "execution_count": null,
   "metadata": {},
   "outputs": [],
   "source": []
  },
  {
   "cell_type": "code",
   "execution_count": null,
   "metadata": {},
   "outputs": [],
   "source": []
  }
 ],
 "metadata": {
  "kernelspec": {
   "display_name": "Python 3",
   "language": "python",
   "name": "python3"
  },
  "language_info": {
   "codemirror_mode": {
    "name": "ipython",
    "version": 3
   },
   "file_extension": ".py",
   "mimetype": "text/x-python",
   "name": "python",
   "nbconvert_exporter": "python",
   "pygments_lexer": "ipython3",
   "version": "3.8.8"
  }
 },
 "nbformat": 4,
 "nbformat_minor": 4
}
