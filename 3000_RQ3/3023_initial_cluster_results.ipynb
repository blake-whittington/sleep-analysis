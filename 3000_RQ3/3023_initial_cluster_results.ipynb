{
 "cells": [
  {
   "cell_type": "markdown",
   "metadata": {
    "pycharm": {
     "name": "#%% md\n"
    }
   },
   "source": [
    "# How Not To Put A Nation To Sleep\n",
    "## Blake Whittington and Gabriele Spiridaviciute\n",
    "***\n",
    "## Are People a Good Judge of Their Own Sleep and Health?\n",
    "### Initial Cluster Analysis\n",
    "The main purpose of this analysis is to determine the overall percentage of each cluster's surveyors that are struggling with each substance studied in the analysis respectively.b"
   ]
  },
  {
   "cell_type": "markdown",
   "metadata": {
    "pycharm": {
     "name": "#%% md\n"
    }
   },
   "source": [
    "## Imports"
   ]
  },
  {
   "cell_type": "code",
   "execution_count": 1,
   "metadata": {
    "pycharm": {
     "name": "#%%\n"
    }
   },
   "outputs": [],
   "source": [
    "import pandas as pd\n",
    "import numpy as np\n",
    "import matplotlib.pyplot as plt\n"
   ]
  },
  {
   "cell_type": "markdown",
   "metadata": {},
   "source": [
    "## Parameters\n",
    "Here we load in the results from each of the general analysis results as well as the now modified cluster dataframe which contains the surveyors that are in each of the main clusters."
   ]
  },
  {
   "cell_type": "code",
   "execution_count": 2,
   "metadata": {
    "pycharm": {
     "name": "#%%\n"
    }
   },
   "outputs": [],
   "source": [
    "alcohol_cluster_df = pd.read_pickle('../data_file/cleaned_data_pickle/alcohol_cluster_results.pickle')\n",
    "caffeine_cluster_df = pd.read_pickle('../data_file/cleaned_data_pickle/caffeine_cluster_results.pickle')\n",
    "tobacco_cluster_df = pd.read_pickle('../data_file/cleaned_data_pickle/tobacco_cluster_results.pickle')\n",
    "cluster_desirability_df = pd.read_pickle('../data_file/cleaned_data_pickle/cluster_descriptions.pickle')"
   ]
  },
  {
   "cell_type": "markdown",
   "metadata": {},
   "source": [
    " This is again a reminder of what is in each of the clusters that have been selected thus far."
   ]
  },
  {
   "cell_type": "code",
   "execution_count": 3,
   "metadata": {
    "collapsed": false,
    "jupyter": {
     "outputs_hidden": false
    },
    "pycharm": {
     "name": "#%%\n"
    }
   },
   "outputs": [
    {
     "data": {
      "text/html": [
       "<div>\n",
       "<style scoped>\n",
       "    .dataframe tbody tr th:only-of-type {\n",
       "        vertical-align: middle;\n",
       "    }\n",
       "\n",
       "    .dataframe tbody tr th {\n",
       "        vertical-align: top;\n",
       "    }\n",
       "\n",
       "    .dataframe thead th {\n",
       "        text-align: right;\n",
       "    }\n",
       "</style>\n",
       "<table border=\"1\" class=\"dataframe\">\n",
       "  <thead>\n",
       "    <tr style=\"text-align: right;\">\n",
       "      <th></th>\n",
       "      <th>health</th>\n",
       "      <th>sleep</th>\n",
       "      <th>bmi</th>\n",
       "      <th>age</th>\n",
       "      <th>marital_status</th>\n",
       "      <th>gender</th>\n",
       "      <th>cluster_count</th>\n",
       "    </tr>\n",
       "  </thead>\n",
       "  <tbody>\n",
       "    <tr>\n",
       "      <th>2</th>\n",
       "      <td>Excellent</td>\n",
       "      <td>Fairly Good</td>\n",
       "      <td>20-25</td>\n",
       "      <td>30-40</td>\n",
       "      <td>married_or_partnered</td>\n",
       "      <td>Male</td>\n",
       "      <td>96</td>\n",
       "    </tr>\n",
       "    <tr>\n",
       "      <th>3</th>\n",
       "      <td>Good</td>\n",
       "      <td>Fairly Good</td>\n",
       "      <td>30-35</td>\n",
       "      <td>40-50</td>\n",
       "      <td>married_or_partnered</td>\n",
       "      <td>Male</td>\n",
       "      <td>117</td>\n",
       "    </tr>\n",
       "    <tr>\n",
       "      <th>1</th>\n",
       "      <td>Good</td>\n",
       "      <td>Fairly Good</td>\n",
       "      <td>25-30</td>\n",
       "      <td>30-40</td>\n",
       "      <td>married_or_partnered</td>\n",
       "      <td>Female</td>\n",
       "      <td>103</td>\n",
       "    </tr>\n",
       "    <tr>\n",
       "      <th>4</th>\n",
       "      <td>Good</td>\n",
       "      <td>Fairly Bad</td>\n",
       "      <td>30-35</td>\n",
       "      <td>50-60</td>\n",
       "      <td>married_or_partnered</td>\n",
       "      <td>Female</td>\n",
       "      <td>72</td>\n",
       "    </tr>\n",
       "    <tr>\n",
       "      <th>14</th>\n",
       "      <td>Good</td>\n",
       "      <td>Fairly Good</td>\n",
       "      <td>20-25</td>\n",
       "      <td>20-30</td>\n",
       "      <td>single</td>\n",
       "      <td>Male</td>\n",
       "      <td>71</td>\n",
       "    </tr>\n",
       "    <tr>\n",
       "      <th>6</th>\n",
       "      <td>Good</td>\n",
       "      <td>Fairly Good</td>\n",
       "      <td>25-30</td>\n",
       "      <td>50-60</td>\n",
       "      <td>married_or_partnered</td>\n",
       "      <td>Female</td>\n",
       "      <td>59</td>\n",
       "    </tr>\n",
       "  </tbody>\n",
       "</table>\n",
       "</div>"
      ],
      "text/plain": [
       "       health        sleep    bmi    age        marital_status  gender  \\\n",
       "2   Excellent  Fairly Good  20-25  30-40  married_or_partnered    Male   \n",
       "3        Good  Fairly Good  30-35  40-50  married_or_partnered    Male   \n",
       "1        Good  Fairly Good  25-30  30-40  married_or_partnered  Female   \n",
       "4        Good   Fairly Bad  30-35  50-60  married_or_partnered  Female   \n",
       "14       Good  Fairly Good  20-25  20-30                single    Male   \n",
       "6        Good  Fairly Good  25-30  50-60  married_or_partnered  Female   \n",
       "\n",
       "    cluster_count  \n",
       "2              96  \n",
       "3             117  \n",
       "1             103  \n",
       "4              72  \n",
       "14             71  \n",
       "6              59  "
      ]
     },
     "execution_count": 3,
     "metadata": {},
     "output_type": "execute_result"
    }
   ],
   "source": [
    "cluster_desirability_df"
   ]
  },
  {
   "cell_type": "code",
   "execution_count": 4,
   "metadata": {
    "pycharm": {
     "name": "#%%\n"
    }
   },
   "outputs": [
    {
     "data": {
      "text/html": [
       "<div>\n",
       "<style scoped>\n",
       "    .dataframe tbody tr th:only-of-type {\n",
       "        vertical-align: middle;\n",
       "    }\n",
       "\n",
       "    .dataframe tbody tr th {\n",
       "        vertical-align: top;\n",
       "    }\n",
       "\n",
       "    .dataframe thead th {\n",
       "        text-align: right;\n",
       "    }\n",
       "</style>\n",
       "<table border=\"1\" class=\"dataframe\">\n",
       "  <thead>\n",
       "    <tr style=\"text-align: right;\">\n",
       "      <th>limit_status</th>\n",
       "      <th>Above Drinking Limit</th>\n",
       "      <th>Below Drinking Limit</th>\n",
       "      <th>Undeterminable Drinking Limit</th>\n",
       "      <th>cluster_alcohol_threshold_percent</th>\n",
       "    </tr>\n",
       "    <tr>\n",
       "      <th>cluster_group</th>\n",
       "      <th></th>\n",
       "      <th></th>\n",
       "      <th></th>\n",
       "      <th></th>\n",
       "    </tr>\n",
       "  </thead>\n",
       "  <tbody>\n",
       "    <tr>\n",
       "      <th>14.0</th>\n",
       "      <td>4</td>\n",
       "      <td>60</td>\n",
       "      <td>7</td>\n",
       "      <td>0.062500</td>\n",
       "    </tr>\n",
       "    <tr>\n",
       "      <th>6.0</th>\n",
       "      <td>2</td>\n",
       "      <td>51</td>\n",
       "      <td>6</td>\n",
       "      <td>0.037736</td>\n",
       "    </tr>\n",
       "    <tr>\n",
       "      <th>2.0</th>\n",
       "      <td>3</td>\n",
       "      <td>82</td>\n",
       "      <td>11</td>\n",
       "      <td>0.035294</td>\n",
       "    </tr>\n",
       "    <tr>\n",
       "      <th>4.0</th>\n",
       "      <td>2</td>\n",
       "      <td>61</td>\n",
       "      <td>9</td>\n",
       "      <td>0.031746</td>\n",
       "    </tr>\n",
       "    <tr>\n",
       "      <th>3.0</th>\n",
       "      <td>3</td>\n",
       "      <td>104</td>\n",
       "      <td>9</td>\n",
       "      <td>0.028037</td>\n",
       "    </tr>\n",
       "    <tr>\n",
       "      <th>1.0</th>\n",
       "      <td>2</td>\n",
       "      <td>86</td>\n",
       "      <td>14</td>\n",
       "      <td>0.022727</td>\n",
       "    </tr>\n",
       "  </tbody>\n",
       "</table>\n",
       "</div>"
      ],
      "text/plain": [
       "limit_status   Above Drinking Limit  Below Drinking Limit  \\\n",
       "cluster_group                                               \n",
       "14.0                              4                    60   \n",
       "6.0                               2                    51   \n",
       "2.0                               3                    82   \n",
       "4.0                               2                    61   \n",
       "3.0                               3                   104   \n",
       "1.0                               2                    86   \n",
       "\n",
       "limit_status   Undeterminable Drinking Limit  \\\n",
       "cluster_group                                  \n",
       "14.0                                       7   \n",
       "6.0                                        6   \n",
       "2.0                                       11   \n",
       "4.0                                        9   \n",
       "3.0                                        9   \n",
       "1.0                                       14   \n",
       "\n",
       "limit_status   cluster_alcohol_threshold_percent  \n",
       "cluster_group                                     \n",
       "14.0                                    0.062500  \n",
       "6.0                                     0.037736  \n",
       "2.0                                     0.035294  \n",
       "4.0                                     0.031746  \n",
       "3.0                                     0.028037  \n",
       "1.0                                     0.022727  "
      ]
     },
     "execution_count": 4,
     "metadata": {},
     "output_type": "execute_result"
    }
   ],
   "source": [
    "alcohol_cluster_df"
   ]
  },
  {
   "cell_type": "code",
   "execution_count": 5,
   "metadata": {
    "pycharm": {
     "name": "#%%\n"
    }
   },
   "outputs": [
    {
     "data": {
      "text/html": [
       "<div>\n",
       "<style scoped>\n",
       "    .dataframe tbody tr th:only-of-type {\n",
       "        vertical-align: middle;\n",
       "    }\n",
       "\n",
       "    .dataframe tbody tr th {\n",
       "        vertical-align: top;\n",
       "    }\n",
       "\n",
       "    .dataframe thead th {\n",
       "        text-align: right;\n",
       "    }\n",
       "</style>\n",
       "<table border=\"1\" class=\"dataframe\">\n",
       "  <thead>\n",
       "    <tr style=\"text-align: right;\">\n",
       "      <th>caffeine_threshold_level</th>\n",
       "      <th>Above Daily Threshold</th>\n",
       "      <th>Below Daily Threshold</th>\n",
       "      <th>cluster_caffeine_threshold_percent</th>\n",
       "    </tr>\n",
       "    <tr>\n",
       "      <th>cluster_group</th>\n",
       "      <th></th>\n",
       "      <th></th>\n",
       "      <th></th>\n",
       "    </tr>\n",
       "  </thead>\n",
       "  <tbody>\n",
       "    <tr>\n",
       "      <th>14.0</th>\n",
       "      <td>14</td>\n",
       "      <td>53</td>\n",
       "      <td>0.208955</td>\n",
       "    </tr>\n",
       "    <tr>\n",
       "      <th>2.0</th>\n",
       "      <td>16</td>\n",
       "      <td>76</td>\n",
       "      <td>0.173913</td>\n",
       "    </tr>\n",
       "    <tr>\n",
       "      <th>3.0</th>\n",
       "      <td>16</td>\n",
       "      <td>95</td>\n",
       "      <td>0.144144</td>\n",
       "    </tr>\n",
       "    <tr>\n",
       "      <th>4.0</th>\n",
       "      <td>10</td>\n",
       "      <td>60</td>\n",
       "      <td>0.142857</td>\n",
       "    </tr>\n",
       "    <tr>\n",
       "      <th>1.0</th>\n",
       "      <td>11</td>\n",
       "      <td>89</td>\n",
       "      <td>0.110000</td>\n",
       "    </tr>\n",
       "    <tr>\n",
       "      <th>6.0</th>\n",
       "      <td>2</td>\n",
       "      <td>55</td>\n",
       "      <td>0.035088</td>\n",
       "    </tr>\n",
       "  </tbody>\n",
       "</table>\n",
       "</div>"
      ],
      "text/plain": [
       "caffeine_threshold_level  Above Daily Threshold  Below Daily Threshold  \\\n",
       "cluster_group                                                            \n",
       "14.0                                         14                     53   \n",
       "2.0                                          16                     76   \n",
       "3.0                                          16                     95   \n",
       "4.0                                          10                     60   \n",
       "1.0                                          11                     89   \n",
       "6.0                                           2                     55   \n",
       "\n",
       "caffeine_threshold_level  cluster_caffeine_threshold_percent  \n",
       "cluster_group                                                 \n",
       "14.0                                                0.208955  \n",
       "2.0                                                 0.173913  \n",
       "3.0                                                 0.144144  \n",
       "4.0                                                 0.142857  \n",
       "1.0                                                 0.110000  \n",
       "6.0                                                 0.035088  "
      ]
     },
     "execution_count": 5,
     "metadata": {},
     "output_type": "execute_result"
    }
   ],
   "source": [
    "caffeine_cluster_df"
   ]
  },
  {
   "cell_type": "code",
   "execution_count": 6,
   "metadata": {
    "pycharm": {
     "name": "#%%\n"
    }
   },
   "outputs": [
    {
     "data": {
      "text/html": [
       "<div>\n",
       "<style scoped>\n",
       "    .dataframe tbody tr th:only-of-type {\n",
       "        vertical-align: middle;\n",
       "    }\n",
       "\n",
       "    .dataframe tbody tr th {\n",
       "        vertical-align: top;\n",
       "    }\n",
       "\n",
       "    .dataframe thead th {\n",
       "        text-align: right;\n",
       "    }\n",
       "</style>\n",
       "<table border=\"1\" class=\"dataframe\">\n",
       "  <thead>\n",
       "    <tr style=\"text-align: right;\">\n",
       "      <th>smoking_status</th>\n",
       "      <th>Current Smoker</th>\n",
       "      <th>Non-Smoker</th>\n",
       "      <th>cluster_tobacco_threshold_percent</th>\n",
       "    </tr>\n",
       "    <tr>\n",
       "      <th>cluster_group</th>\n",
       "      <th></th>\n",
       "      <th></th>\n",
       "      <th></th>\n",
       "    </tr>\n",
       "  </thead>\n",
       "  <tbody>\n",
       "    <tr>\n",
       "      <th>14.0</th>\n",
       "      <td>16</td>\n",
       "      <td>55</td>\n",
       "      <td>0.145455</td>\n",
       "    </tr>\n",
       "    <tr>\n",
       "      <th>4.0</th>\n",
       "      <td>10</td>\n",
       "      <td>62</td>\n",
       "      <td>0.080645</td>\n",
       "    </tr>\n",
       "    <tr>\n",
       "      <th>2.0</th>\n",
       "      <td>13</td>\n",
       "      <td>83</td>\n",
       "      <td>0.078313</td>\n",
       "    </tr>\n",
       "    <tr>\n",
       "      <th>3.0</th>\n",
       "      <td>12</td>\n",
       "      <td>105</td>\n",
       "      <td>0.057143</td>\n",
       "    </tr>\n",
       "    <tr>\n",
       "      <th>6.0</th>\n",
       "      <td>6</td>\n",
       "      <td>53</td>\n",
       "      <td>0.056604</td>\n",
       "    </tr>\n",
       "    <tr>\n",
       "      <th>1.0</th>\n",
       "      <td>10</td>\n",
       "      <td>93</td>\n",
       "      <td>0.053763</td>\n",
       "    </tr>\n",
       "  </tbody>\n",
       "</table>\n",
       "</div>"
      ],
      "text/plain": [
       "smoking_status  Current Smoker  Non-Smoker  cluster_tobacco_threshold_percent\n",
       "cluster_group                                                                \n",
       "14.0                        16          55                           0.145455\n",
       "4.0                         10          62                           0.080645\n",
       "2.0                         13          83                           0.078313\n",
       "3.0                         12         105                           0.057143\n",
       "6.0                          6          53                           0.056604\n",
       "1.0                         10          93                           0.053763"
      ]
     },
     "execution_count": 6,
     "metadata": {},
     "output_type": "execute_result"
    }
   ],
   "source": [
    "tobacco_cluster_df"
   ]
  },
  {
   "cell_type": "markdown",
   "metadata": {
    "pycharm": {
     "name": "#%% md\n"
    }
   },
   "source": [
    "## Combine the results"
   ]
  },
  {
   "cell_type": "code",
   "execution_count": 7,
   "metadata": {
    "pycharm": {
     "name": "#%%\n"
    }
   },
   "outputs": [],
   "source": [
    "percent_df = pd.concat([alcohol_cluster_df, caffeine_cluster_df, tobacco_cluster_df], axis=1)"
   ]
  },
  {
   "cell_type": "code",
   "execution_count": 8,
   "metadata": {
    "pycharm": {
     "name": "#%%\n"
    }
   },
   "outputs": [],
   "source": [
    "percent_df.rename(columns={'Above Daily Threshold': 'Above Caffeine Limit', 'cluster_alcohol_threshold_percent': '% Over Alcohol Threshold', 'cluster_caffeine_threshold_percent': '% Over Caffeine Threshold' , 'cluster_tobacco_threshold_percent': '% Over Tobacco Threshold'}, inplace=True)\n"
   ]
  },
  {
   "cell_type": "code",
   "execution_count": 9,
   "metadata": {
    "pycharm": {
     "name": "#%%\n"
    }
   },
   "outputs": [
    {
     "data": {
      "text/html": [
       "<div>\n",
       "<style scoped>\n",
       "    .dataframe tbody tr th:only-of-type {\n",
       "        vertical-align: middle;\n",
       "    }\n",
       "\n",
       "    .dataframe tbody tr th {\n",
       "        vertical-align: top;\n",
       "    }\n",
       "\n",
       "    .dataframe thead th {\n",
       "        text-align: right;\n",
       "    }\n",
       "</style>\n",
       "<table border=\"1\" class=\"dataframe\">\n",
       "  <thead>\n",
       "    <tr style=\"text-align: right;\">\n",
       "      <th></th>\n",
       "      <th>Above Drinking Limit</th>\n",
       "      <th>Below Drinking Limit</th>\n",
       "      <th>Undeterminable Drinking Limit</th>\n",
       "      <th>% Over Alcohol Threshold</th>\n",
       "      <th>Above Caffeine Limit</th>\n",
       "      <th>Below Daily Threshold</th>\n",
       "      <th>% Over Caffeine Threshold</th>\n",
       "      <th>Current Smoker</th>\n",
       "      <th>Non-Smoker</th>\n",
       "      <th>% Over Tobacco Threshold</th>\n",
       "    </tr>\n",
       "    <tr>\n",
       "      <th>cluster_group</th>\n",
       "      <th></th>\n",
       "      <th></th>\n",
       "      <th></th>\n",
       "      <th></th>\n",
       "      <th></th>\n",
       "      <th></th>\n",
       "      <th></th>\n",
       "      <th></th>\n",
       "      <th></th>\n",
       "      <th></th>\n",
       "    </tr>\n",
       "  </thead>\n",
       "  <tbody>\n",
       "    <tr>\n",
       "      <th>1.0</th>\n",
       "      <td>2</td>\n",
       "      <td>86</td>\n",
       "      <td>14</td>\n",
       "      <td>0.022727</td>\n",
       "      <td>11</td>\n",
       "      <td>89</td>\n",
       "      <td>0.110000</td>\n",
       "      <td>10</td>\n",
       "      <td>93</td>\n",
       "      <td>0.053763</td>\n",
       "    </tr>\n",
       "    <tr>\n",
       "      <th>2.0</th>\n",
       "      <td>3</td>\n",
       "      <td>82</td>\n",
       "      <td>11</td>\n",
       "      <td>0.035294</td>\n",
       "      <td>16</td>\n",
       "      <td>76</td>\n",
       "      <td>0.173913</td>\n",
       "      <td>13</td>\n",
       "      <td>83</td>\n",
       "      <td>0.078313</td>\n",
       "    </tr>\n",
       "    <tr>\n",
       "      <th>3.0</th>\n",
       "      <td>3</td>\n",
       "      <td>104</td>\n",
       "      <td>9</td>\n",
       "      <td>0.028037</td>\n",
       "      <td>16</td>\n",
       "      <td>95</td>\n",
       "      <td>0.144144</td>\n",
       "      <td>12</td>\n",
       "      <td>105</td>\n",
       "      <td>0.057143</td>\n",
       "    </tr>\n",
       "    <tr>\n",
       "      <th>4.0</th>\n",
       "      <td>2</td>\n",
       "      <td>61</td>\n",
       "      <td>9</td>\n",
       "      <td>0.031746</td>\n",
       "      <td>10</td>\n",
       "      <td>60</td>\n",
       "      <td>0.142857</td>\n",
       "      <td>10</td>\n",
       "      <td>62</td>\n",
       "      <td>0.080645</td>\n",
       "    </tr>\n",
       "    <tr>\n",
       "      <th>6.0</th>\n",
       "      <td>2</td>\n",
       "      <td>51</td>\n",
       "      <td>6</td>\n",
       "      <td>0.037736</td>\n",
       "      <td>2</td>\n",
       "      <td>55</td>\n",
       "      <td>0.035088</td>\n",
       "      <td>6</td>\n",
       "      <td>53</td>\n",
       "      <td>0.056604</td>\n",
       "    </tr>\n",
       "    <tr>\n",
       "      <th>14.0</th>\n",
       "      <td>4</td>\n",
       "      <td>60</td>\n",
       "      <td>7</td>\n",
       "      <td>0.062500</td>\n",
       "      <td>14</td>\n",
       "      <td>53</td>\n",
       "      <td>0.208955</td>\n",
       "      <td>16</td>\n",
       "      <td>55</td>\n",
       "      <td>0.145455</td>\n",
       "    </tr>\n",
       "  </tbody>\n",
       "</table>\n",
       "</div>"
      ],
      "text/plain": [
       "               Above Drinking Limit  Below Drinking Limit  \\\n",
       "cluster_group                                               \n",
       "1.0                               2                    86   \n",
       "2.0                               3                    82   \n",
       "3.0                               3                   104   \n",
       "4.0                               2                    61   \n",
       "6.0                               2                    51   \n",
       "14.0                              4                    60   \n",
       "\n",
       "               Undeterminable Drinking Limit  % Over Alcohol Threshold  \\\n",
       "cluster_group                                                            \n",
       "1.0                                       14                  0.022727   \n",
       "2.0                                       11                  0.035294   \n",
       "3.0                                        9                  0.028037   \n",
       "4.0                                        9                  0.031746   \n",
       "6.0                                        6                  0.037736   \n",
       "14.0                                       7                  0.062500   \n",
       "\n",
       "               Above Caffeine Limit  Below Daily Threshold  \\\n",
       "cluster_group                                                \n",
       "1.0                              11                     89   \n",
       "2.0                              16                     76   \n",
       "3.0                              16                     95   \n",
       "4.0                              10                     60   \n",
       "6.0                               2                     55   \n",
       "14.0                             14                     53   \n",
       "\n",
       "               % Over Caffeine Threshold  Current Smoker  Non-Smoker  \\\n",
       "cluster_group                                                          \n",
       "1.0                             0.110000              10          93   \n",
       "2.0                             0.173913              13          83   \n",
       "3.0                             0.144144              12         105   \n",
       "4.0                             0.142857              10          62   \n",
       "6.0                             0.035088               6          53   \n",
       "14.0                            0.208955              16          55   \n",
       "\n",
       "               % Over Tobacco Threshold  \n",
       "cluster_group                            \n",
       "1.0                            0.053763  \n",
       "2.0                            0.078313  \n",
       "3.0                            0.057143  \n",
       "4.0                            0.080645  \n",
       "6.0                            0.056604  \n",
       "14.0                           0.145455  "
      ]
     },
     "execution_count": 9,
     "metadata": {},
     "output_type": "execute_result"
    }
   ],
   "source": [
    "percent_df"
   ]
  },
  {
   "cell_type": "code",
   "execution_count": 10,
   "metadata": {
    "pycharm": {
     "name": "#%%\n"
    }
   },
   "outputs": [],
   "source": [
    "percent_df['total_poor_judge_count'] = percent_df[['Above Drinking Limit', 'Above Caffeine Limit', 'Current Smoker']].sum(axis=1)\n",
    "# percent_df['percent_total_poor_judge_count'] = percent_df['']"
   ]
  },
  {
   "cell_type": "code",
   "execution_count": 11,
   "metadata": {
    "pycharm": {
     "name": "#%%\n"
    }
   },
   "outputs": [
    {
     "data": {
      "text/plain": [
       "cluster_group\n",
       "1.0     23\n",
       "2.0     32\n",
       "3.0     31\n",
       "4.0     22\n",
       "6.0     10\n",
       "14.0    34\n",
       "Name: total_poor_judge_count, dtype: int64"
      ]
     },
     "execution_count": 11,
     "metadata": {},
     "output_type": "execute_result"
    }
   ],
   "source": [
    "percent_df['total_poor_judge_count']"
   ]
  },
  {
   "cell_type": "code",
   "execution_count": 12,
   "metadata": {
    "pycharm": {
     "name": "#%%\n"
    }
   },
   "outputs": [],
   "source": [
    "percent_df.index = percent_df.index.astype(int)"
   ]
  },
  {
   "cell_type": "code",
   "execution_count": 13,
   "metadata": {
    "pycharm": {
     "name": "#%%\n"
    }
   },
   "outputs": [],
   "source": [
    "percent_df = percent_df[['Above Drinking Limit', 'Above Caffeine Limit', 'Current Smoker', '% Over Alcohol Threshold', '% Over Caffeine Threshold', '% Over Tobacco Threshold', 'total_poor_judge_count']]"
   ]
  },
  {
   "cell_type": "code",
   "execution_count": 14,
   "metadata": {
    "pycharm": {
     "name": "#%%\n"
    }
   },
   "outputs": [
    {
     "data": {
      "text/html": [
       "<div>\n",
       "<style scoped>\n",
       "    .dataframe tbody tr th:only-of-type {\n",
       "        vertical-align: middle;\n",
       "    }\n",
       "\n",
       "    .dataframe tbody tr th {\n",
       "        vertical-align: top;\n",
       "    }\n",
       "\n",
       "    .dataframe thead th {\n",
       "        text-align: right;\n",
       "    }\n",
       "</style>\n",
       "<table border=\"1\" class=\"dataframe\">\n",
       "  <thead>\n",
       "    <tr style=\"text-align: right;\">\n",
       "      <th></th>\n",
       "      <th>% Over Alcohol Threshold</th>\n",
       "      <th>% Over Caffeine Threshold</th>\n",
       "      <th>% Over Tobacco Threshold</th>\n",
       "      <th>total_poor_judge_count</th>\n",
       "    </tr>\n",
       "    <tr>\n",
       "      <th>cluster_group</th>\n",
       "      <th></th>\n",
       "      <th></th>\n",
       "      <th></th>\n",
       "      <th></th>\n",
       "    </tr>\n",
       "  </thead>\n",
       "  <tbody>\n",
       "    <tr>\n",
       "      <th>1</th>\n",
       "      <td>0.022727</td>\n",
       "      <td>0.110000</td>\n",
       "      <td>0.053763</td>\n",
       "      <td>23</td>\n",
       "    </tr>\n",
       "    <tr>\n",
       "      <th>2</th>\n",
       "      <td>0.035294</td>\n",
       "      <td>0.173913</td>\n",
       "      <td>0.078313</td>\n",
       "      <td>32</td>\n",
       "    </tr>\n",
       "    <tr>\n",
       "      <th>3</th>\n",
       "      <td>0.028037</td>\n",
       "      <td>0.144144</td>\n",
       "      <td>0.057143</td>\n",
       "      <td>31</td>\n",
       "    </tr>\n",
       "    <tr>\n",
       "      <th>4</th>\n",
       "      <td>0.031746</td>\n",
       "      <td>0.142857</td>\n",
       "      <td>0.080645</td>\n",
       "      <td>22</td>\n",
       "    </tr>\n",
       "    <tr>\n",
       "      <th>6</th>\n",
       "      <td>0.037736</td>\n",
       "      <td>0.035088</td>\n",
       "      <td>0.056604</td>\n",
       "      <td>10</td>\n",
       "    </tr>\n",
       "    <tr>\n",
       "      <th>14</th>\n",
       "      <td>0.062500</td>\n",
       "      <td>0.208955</td>\n",
       "      <td>0.145455</td>\n",
       "      <td>34</td>\n",
       "    </tr>\n",
       "  </tbody>\n",
       "</table>\n",
       "</div>"
      ],
      "text/plain": [
       "               % Over Alcohol Threshold  % Over Caffeine Threshold  \\\n",
       "cluster_group                                                        \n",
       "1                              0.022727                   0.110000   \n",
       "2                              0.035294                   0.173913   \n",
       "3                              0.028037                   0.144144   \n",
       "4                              0.031746                   0.142857   \n",
       "6                              0.037736                   0.035088   \n",
       "14                             0.062500                   0.208955   \n",
       "\n",
       "               % Over Tobacco Threshold  total_poor_judge_count  \n",
       "cluster_group                                                    \n",
       "1                              0.053763                      23  \n",
       "2                              0.078313                      32  \n",
       "3                              0.057143                      31  \n",
       "4                              0.080645                      22  \n",
       "6                              0.056604                      10  \n",
       "14                             0.145455                      34  "
      ]
     },
     "execution_count": 14,
     "metadata": {},
     "output_type": "execute_result"
    }
   ],
   "source": [
    "percent_df.iloc[:,3:]"
   ]
  },
  {
   "cell_type": "code",
   "execution_count": 15,
   "metadata": {
    "pycharm": {
     "name": "#%%\n"
    }
   },
   "outputs": [
    {
     "data": {
      "text/html": [
       "<div>\n",
       "<style scoped>\n",
       "    .dataframe tbody tr th:only-of-type {\n",
       "        vertical-align: middle;\n",
       "    }\n",
       "\n",
       "    .dataframe tbody tr th {\n",
       "        vertical-align: top;\n",
       "    }\n",
       "\n",
       "    .dataframe thead th {\n",
       "        text-align: right;\n",
       "    }\n",
       "</style>\n",
       "<table border=\"1\" class=\"dataframe\">\n",
       "  <thead>\n",
       "    <tr style=\"text-align: right;\">\n",
       "      <th></th>\n",
       "      <th>total_poor_judge_count</th>\n",
       "    </tr>\n",
       "    <tr>\n",
       "      <th>cluster_group</th>\n",
       "      <th></th>\n",
       "    </tr>\n",
       "  </thead>\n",
       "  <tbody>\n",
       "    <tr>\n",
       "      <th>1</th>\n",
       "      <td>23</td>\n",
       "    </tr>\n",
       "    <tr>\n",
       "      <th>2</th>\n",
       "      <td>32</td>\n",
       "    </tr>\n",
       "    <tr>\n",
       "      <th>3</th>\n",
       "      <td>31</td>\n",
       "    </tr>\n",
       "    <tr>\n",
       "      <th>4</th>\n",
       "      <td>22</td>\n",
       "    </tr>\n",
       "    <tr>\n",
       "      <th>6</th>\n",
       "      <td>10</td>\n",
       "    </tr>\n",
       "    <tr>\n",
       "      <th>14</th>\n",
       "      <td>34</td>\n",
       "    </tr>\n",
       "  </tbody>\n",
       "</table>\n",
       "</div>"
      ],
      "text/plain": [
       "               total_poor_judge_count\n",
       "cluster_group                        \n",
       "1                                  23\n",
       "2                                  32\n",
       "3                                  31\n",
       "4                                  22\n",
       "6                                  10\n",
       "14                                 34"
      ]
     },
     "execution_count": 15,
     "metadata": {},
     "output_type": "execute_result"
    }
   ],
   "source": [
    "percent_df.iloc[:,6:7]"
   ]
  },
  {
   "cell_type": "code",
   "execution_count": 16,
   "metadata": {
    "collapsed": false,
    "jupyter": {
     "outputs_hidden": false
    },
    "pycharm": {
     "name": "#%%\n"
    }
   },
   "outputs": [],
   "source": [
    "# percent_df.iloc[:,3:] = percent_df.iloc[:,3:].applymap(lambda x: \"{0:.2f}%\".format(x*100))"
   ]
  },
  {
   "cell_type": "code",
   "execution_count": 17,
   "metadata": {
    "collapsed": false,
    "jupyter": {
     "outputs_hidden": false
    },
    "pycharm": {
     "name": "#%%\n"
    }
   },
   "outputs": [
    {
     "data": {
      "text/html": [
       "<div>\n",
       "<style scoped>\n",
       "    .dataframe tbody tr th:only-of-type {\n",
       "        vertical-align: middle;\n",
       "    }\n",
       "\n",
       "    .dataframe tbody tr th {\n",
       "        vertical-align: top;\n",
       "    }\n",
       "\n",
       "    .dataframe thead th {\n",
       "        text-align: right;\n",
       "    }\n",
       "</style>\n",
       "<table border=\"1\" class=\"dataframe\">\n",
       "  <thead>\n",
       "    <tr style=\"text-align: right;\">\n",
       "      <th></th>\n",
       "      <th>% Over Alcohol Threshold</th>\n",
       "      <th>% Over Caffeine Threshold</th>\n",
       "      <th>% Over Tobacco Threshold</th>\n",
       "      <th>total_poor_judge_count</th>\n",
       "    </tr>\n",
       "    <tr>\n",
       "      <th>cluster_group</th>\n",
       "      <th></th>\n",
       "      <th></th>\n",
       "      <th></th>\n",
       "      <th></th>\n",
       "    </tr>\n",
       "  </thead>\n",
       "  <tbody>\n",
       "    <tr>\n",
       "      <th>1</th>\n",
       "      <td>0.022727</td>\n",
       "      <td>0.110000</td>\n",
       "      <td>0.053763</td>\n",
       "      <td>23</td>\n",
       "    </tr>\n",
       "    <tr>\n",
       "      <th>2</th>\n",
       "      <td>0.035294</td>\n",
       "      <td>0.173913</td>\n",
       "      <td>0.078313</td>\n",
       "      <td>32</td>\n",
       "    </tr>\n",
       "    <tr>\n",
       "      <th>3</th>\n",
       "      <td>0.028037</td>\n",
       "      <td>0.144144</td>\n",
       "      <td>0.057143</td>\n",
       "      <td>31</td>\n",
       "    </tr>\n",
       "    <tr>\n",
       "      <th>4</th>\n",
       "      <td>0.031746</td>\n",
       "      <td>0.142857</td>\n",
       "      <td>0.080645</td>\n",
       "      <td>22</td>\n",
       "    </tr>\n",
       "    <tr>\n",
       "      <th>6</th>\n",
       "      <td>0.037736</td>\n",
       "      <td>0.035088</td>\n",
       "      <td>0.056604</td>\n",
       "      <td>10</td>\n",
       "    </tr>\n",
       "    <tr>\n",
       "      <th>14</th>\n",
       "      <td>0.062500</td>\n",
       "      <td>0.208955</td>\n",
       "      <td>0.145455</td>\n",
       "      <td>34</td>\n",
       "    </tr>\n",
       "  </tbody>\n",
       "</table>\n",
       "</div>"
      ],
      "text/plain": [
       "               % Over Alcohol Threshold  % Over Caffeine Threshold  \\\n",
       "cluster_group                                                        \n",
       "1                              0.022727                   0.110000   \n",
       "2                              0.035294                   0.173913   \n",
       "3                              0.028037                   0.144144   \n",
       "4                              0.031746                   0.142857   \n",
       "6                              0.037736                   0.035088   \n",
       "14                             0.062500                   0.208955   \n",
       "\n",
       "               % Over Tobacco Threshold  total_poor_judge_count  \n",
       "cluster_group                                                    \n",
       "1                              0.053763                      23  \n",
       "2                              0.078313                      32  \n",
       "3                              0.057143                      31  \n",
       "4                              0.080645                      22  \n",
       "6                              0.056604                      10  \n",
       "14                             0.145455                      34  "
      ]
     },
     "execution_count": 17,
     "metadata": {},
     "output_type": "execute_result"
    }
   ],
   "source": [
    "percent_df.iloc[:,3:]"
   ]
  },
  {
   "cell_type": "code",
   "execution_count": 18,
   "metadata": {
    "collapsed": false,
    "jupyter": {
     "outputs_hidden": false
    },
    "pycharm": {
     "name": "#%%\n"
    }
   },
   "outputs": [
    {
     "data": {
      "text/html": [
       "<div>\n",
       "<style scoped>\n",
       "    .dataframe tbody tr th:only-of-type {\n",
       "        vertical-align: middle;\n",
       "    }\n",
       "\n",
       "    .dataframe tbody tr th {\n",
       "        vertical-align: top;\n",
       "    }\n",
       "\n",
       "    .dataframe thead th {\n",
       "        text-align: right;\n",
       "    }\n",
       "</style>\n",
       "<table border=\"1\" class=\"dataframe\">\n",
       "  <thead>\n",
       "    <tr style=\"text-align: right;\">\n",
       "      <th></th>\n",
       "      <th>total_poor_judge_count</th>\n",
       "    </tr>\n",
       "  </thead>\n",
       "  <tbody>\n",
       "    <tr>\n",
       "      <th>0</th>\n",
       "      <td>34</td>\n",
       "    </tr>\n",
       "    <tr>\n",
       "      <th>1</th>\n",
       "      <td>10</td>\n",
       "    </tr>\n",
       "    <tr>\n",
       "      <th>2</th>\n",
       "      <td>22</td>\n",
       "    </tr>\n",
       "    <tr>\n",
       "      <th>3</th>\n",
       "      <td>31</td>\n",
       "    </tr>\n",
       "    <tr>\n",
       "      <th>4</th>\n",
       "      <td>32</td>\n",
       "    </tr>\n",
       "    <tr>\n",
       "      <th>5</th>\n",
       "      <td>23</td>\n",
       "    </tr>\n",
       "  </tbody>\n",
       "</table>\n",
       "</div>"
      ],
      "text/plain": [
       "   total_poor_judge_count\n",
       "0                      34\n",
       "1                      10\n",
       "2                      22\n",
       "3                      31\n",
       "4                      32\n",
       "5                      23"
      ]
     },
     "execution_count": 18,
     "metadata": {},
     "output_type": "execute_result"
    }
   ],
   "source": [
    "p  = percent_df.sort_values('total_poor_judge_count').reindex([14,6,4,3,2,1]).iloc[:,6:7]\n",
    "p.reset_index(drop=True, inplace=True)\n",
    "p\n",
    "# .reindex([14,6,4,3,2,1])."
   ]
  },
  {
   "cell_type": "code",
   "execution_count": 19,
   "metadata": {
    "collapsed": false,
    "jupyter": {
     "outputs_hidden": false
    },
    "pycharm": {
     "name": "#%%\n"
    }
   },
   "outputs": [
    {
     "data": {
      "text/plain": [
       "0    103\n",
       "1     96\n",
       "2    117\n",
       "3     72\n",
       "4     59\n",
       "5     71\n",
       "Name: cluster_count, dtype: int64"
      ]
     },
     "execution_count": 19,
     "metadata": {},
     "output_type": "execute_result"
    }
   ],
   "source": [
    "cluster_population = cluster_desirability_df.loc[:, 'cluster_count']\n",
    "cluster_population.sort_index(ascending=True,inplace=True)\n",
    "cluster_population = cluster_population.reset_index(drop=True)\n",
    "cluster_population\n",
    "# cluster_population = cluster_population.remove(columns=['index'])"
   ]
  },
  {
   "cell_type": "code",
   "execution_count": 20,
   "metadata": {
    "collapsed": false,
    "jupyter": {
     "outputs_hidden": false
    },
    "pycharm": {
     "name": "#%%\n"
    }
   },
   "outputs": [
    {
     "data": {
      "text/plain": [
       "0    103\n",
       "1     96\n",
       "2    117\n",
       "3     72\n",
       "4     59\n",
       "5     71\n",
       "Name: cluster_count, dtype: int64"
      ]
     },
     "execution_count": 20,
     "metadata": {},
     "output_type": "execute_result"
    }
   ],
   "source": [
    "cluster_population"
   ]
  },
  {
   "cell_type": "code",
   "execution_count": 21,
   "metadata": {
    "collapsed": false,
    "jupyter": {
     "outputs_hidden": false
    },
    "pycharm": {
     "name": "#%%\n"
    }
   },
   "outputs": [],
   "source": [
    "percent_df = percent_df.iloc[:,3:6].loc[[14,6,3,2,4,1]]\n",
    "percent_df = percent_df.loc[:2,:]"
   ]
  },
  {
   "cell_type": "code",
   "execution_count": null,
   "metadata": {
    "collapsed": false,
    "jupyter": {
     "outputs_hidden": false
    },
    "pycharm": {
     "name": "#%%\n"
    }
   },
   "outputs": [],
   "source": [
    "\n"
   ]
  },
  {
   "cell_type": "code",
   "execution_count": 25,
   "metadata": {
    "pycharm": {
     "name": "#%%\n"
    }
   },
   "outputs": [
    {
     "data": {
      "image/png": "[encoded data removed]",
      "text/plain": [
       "<Figure size 1584x720 with 1 Axes>"
      ]
     },
     "metadata": {
      "needs_background": "light"
     },
     "output_type": "display_data"
    }
   ],
   "source": [
    "\n",
    "fig,ax= plt.subplots(figsize=(22, 10))\n",
    "# # fig, ax = plt.subplots(figsize=(10,30))\n",
    "plt.rcParams['font.family'] = 'Andale Mono'\n",
    "percent_df.plot(ax = ax, kind='barh', stacked=True)\n",
    "\n",
    "# ax.set_xlabel('Percent of Total Relative Poor Judges')\n",
    "ax.set_ylabel('Cluster Group')\n",
    "for patch in ax.patches:\n",
    "    x,y = patch.get_xy()\n",
    "    w, h = patch.get_width(), patch.get_height()\n",
    "    ax.text(x+w/2, y+h/2, str(int(w*100))+'%',ha='center', va='center',\n",
    "            color='white', fontweight='bold', fontsize=20,\n",
    "            )\n",
    "plt.tick_params(axis='x', which='both', bottom=False, top=False,labelbottom=False)\n",
    "ax.legend(prop={'size': 15})\n",
    "\n",
    "plt.rcParams.update({'font.size': 10})\n",
    "plt.rcParams.update({'axes.labelsize': 25})\n",
    "plt.rcParams.update({'ytick.labelsize': 25})\n",
    "plt.rcParams.update({'xtick.labelsize': 25})\n",
    "\n",
    "\n",
    "plt.rcParams.update\n",
    "\n",
    "\n",
    "plt.tight_layout()\n",
    "\n",
    "plt.savefig('../data_file/graphs/PNG/3023_poor_judge_from_clusters.png', dpi=300)\n",
    "plt.savefig('../data_file/graphs/JPG/3023poor_judge_from_clusters.jpg', dpi=300)\n"
   ]
  },
  {
   "cell_type": "code",
   "execution_count": 23,
   "metadata": {
    "pycharm": {
     "name": "#%%\n"
    }
   },
   "outputs": [
    {
     "data": {
      "text/html": [
       "<div>\n",
       "<style scoped>\n",
       "    .dataframe tbody tr th:only-of-type {\n",
       "        vertical-align: middle;\n",
       "    }\n",
       "\n",
       "    .dataframe tbody tr th {\n",
       "        vertical-align: top;\n",
       "    }\n",
       "\n",
       "    .dataframe thead th {\n",
       "        text-align: right;\n",
       "    }\n",
       "</style>\n",
       "<table border=\"1\" class=\"dataframe\">\n",
       "  <thead>\n",
       "    <tr style=\"text-align: right;\">\n",
       "      <th></th>\n",
       "      <th>% Over Alcohol Threshold</th>\n",
       "      <th>% Over Caffeine Threshold</th>\n",
       "      <th>% Over Tobacco Threshold</th>\n",
       "    </tr>\n",
       "    <tr>\n",
       "      <th>cluster_group</th>\n",
       "      <th></th>\n",
       "      <th></th>\n",
       "      <th></th>\n",
       "    </tr>\n",
       "  </thead>\n",
       "  <tbody>\n",
       "    <tr>\n",
       "      <th>14</th>\n",
       "      <td>0.062500</td>\n",
       "      <td>0.208955</td>\n",
       "      <td>0.145455</td>\n",
       "    </tr>\n",
       "    <tr>\n",
       "      <th>6</th>\n",
       "      <td>0.037736</td>\n",
       "      <td>0.035088</td>\n",
       "      <td>0.056604</td>\n",
       "    </tr>\n",
       "    <tr>\n",
       "      <th>3</th>\n",
       "      <td>0.028037</td>\n",
       "      <td>0.144144</td>\n",
       "      <td>0.057143</td>\n",
       "    </tr>\n",
       "    <tr>\n",
       "      <th>2</th>\n",
       "      <td>0.035294</td>\n",
       "      <td>0.173913</td>\n",
       "      <td>0.078313</td>\n",
       "    </tr>\n",
       "  </tbody>\n",
       "</table>\n",
       "</div>"
      ],
      "text/plain": [
       "               % Over Alcohol Threshold  % Over Caffeine Threshold  \\\n",
       "cluster_group                                                        \n",
       "14                             0.062500                   0.208955   \n",
       "6                              0.037736                   0.035088   \n",
       "3                              0.028037                   0.144144   \n",
       "2                              0.035294                   0.173913   \n",
       "\n",
       "               % Over Tobacco Threshold  \n",
       "cluster_group                            \n",
       "14                             0.145455  \n",
       "6                              0.056604  \n",
       "3                              0.057143  \n",
       "2                              0.078313  "
      ]
     },
     "execution_count": 23,
     "metadata": {},
     "output_type": "execute_result"
    }
   ],
   "source": [
    "percent_df.iloc[:,:3]\n"
   ]
  },
  {
   "cell_type": "code",
   "execution_count": 24,
   "metadata": {
    "pycharm": {
     "name": "#%%\n"
    }
   },
   "outputs": [],
   "source": [
    "\n",
    "# fig,ax= plt.subplots(figsize=(18, 8))\n",
    "# percent_df.sort_values('total_poor_judge_count', ascending=True).iloc[[0,2,3,5],:3].plot(ax=ax,kind='barh', stacked=True)\n",
    "# ax.set_xlabel('Number of Surveyors')\n",
    "# ax.set_ylabel('Cluster Group')\n",
    "# ax.set_title('Poor Judges From Clusters', fontsize=26)\n",
    "# # plt.rcParams.update({'font.size': 15})\n",
    "# # plt.rcParams.update({'axes.labelsize': 30})\n",
    "# # plt.rcParams.update({'ytick.labelsize': 30})\n",
    "# # plt.rcParams.update\n",
    "#\n",
    "# ax.legend(prop={'size': 6})\n",
    "# plt.tight_layout()\n",
    "# plt.savefig('../data_file/Poor_Judge_From_Clusters.png', format='png', dpi=300)"
   ]
  },
  {
   "cell_type": "markdown",
   "metadata": {
    "pycharm": {
     "name": "#%% md\n"
    }
   },
   "source": [
    "Start of new graph"
   ]
  },
  {
   "cell_type": "code",
   "execution_count": null,
   "metadata": {
    "collapsed": false,
    "jupyter": {
     "outputs_hidden": false
    },
    "pycharm": {
     "name": "#%%\n"
    }
   },
   "outputs": [],
   "source": []
  },
  {
   "cell_type": "code",
   "execution_count": null,
   "metadata": {},
   "outputs": [],
   "source": []
  },
  {
   "cell_type": "code",
   "execution_count": null,
   "metadata": {},
   "outputs": [],
   "source": []
  }
 ],
 "metadata": {
  "kernelspec": {
   "display_name": "Python 3",
   "language": "python",
   "name": "python3"
  },
  "language_info": {
   "codemirror_mode": {
    "name": "ipython",
    "version": 3
   },
   "file_extension": ".py",
   "mimetype": "text/x-python",
   "name": "python",
   "nbconvert_exporter": "python",
   "pygments_lexer": "ipython3",
   "version": "3.8.8"
  }
 },
 "nbformat": 4,
 "nbformat_minor": 4
}
