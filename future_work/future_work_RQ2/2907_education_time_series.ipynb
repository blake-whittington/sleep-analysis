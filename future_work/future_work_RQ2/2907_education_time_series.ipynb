{
 "cells": [
  {
   "cell_type": "markdown",
   "metadata": {
    "pycharm": {
     "name": "#%% md\n"
    }
   },
   "source": [
    "## How Does Economic Health Affect People’s Sleep?\n",
    "***\n",
    "Exploring the relationship between education levels in a nation and sleep quality through time."
   ]
  },
  {
   "cell_type": "markdown",
   "metadata": {
    "pycharm": {
     "name": "#%% md\n"
    }
   },
   "source": [
    "## Imports"
   ]
  },
  {
   "cell_type": "code",
   "execution_count": 1,
   "metadata": {
    "collapsed": false,
    "jupyter": {
     "outputs_hidden": false
    },
    "pycharm": {
     "name": "#%%\n"
    }
   },
   "outputs": [],
   "source": [
    "import pandas as pd\n",
    "import numpy as np\n",
    "import matplotlib.pyplot as plt\n",
    "import seaborn as sns"
   ]
  },
  {
   "cell_type": "markdown",
   "metadata": {
    "pycharm": {
     "name": "#%% md\n"
    }
   },
   "source": [
    "## Load Data"
   ]
  },
  {
   "cell_type": "code",
   "execution_count": 2,
   "metadata": {
    "collapsed": false,
    "jupyter": {
     "outputs_hidden": false
    },
    "pycharm": {
     "name": "#%%\n"
    }
   },
   "outputs": [],
   "source": [
    "education = '../data_file/cleaned_data_pickle/education.pickle'\n",
    "education_df = pd.read_pickle(education)\n",
    "\n",
    "tass = '../data_file/cleaned_data_pickle/tass_df.pickle'\n",
    "tass_df = pd.read_pickle(tass)"
   ]
  },
  {
   "cell_type": "code",
   "execution_count": 3,
   "metadata": {
    "collapsed": false,
    "jupyter": {
     "outputs_hidden": false
    },
    "pycharm": {
     "name": "#%%\n"
    }
   },
   "outputs": [
    {
     "data": {
      "text/html": [
       "<div>\n",
       "<style scoped>\n",
       "    .dataframe tbody tr th:only-of-type {\n",
       "        vertical-align: middle;\n",
       "    }\n",
       "\n",
       "    .dataframe tbody tr th {\n",
       "        vertical-align: top;\n",
       "    }\n",
       "\n",
       "    .dataframe thead th {\n",
       "        text-align: right;\n",
       "    }\n",
       "</style>\n",
       "<table border=\"1\" class=\"dataframe\">\n",
       "  <thead>\n",
       "    <tr style=\"text-align: right;\">\n",
       "      <th></th>\n",
       "      <th>education_index</th>\n",
       "      <th>expected_years_of_schooling</th>\n",
       "      <th>gross_enrolment_ratio_pre-primary</th>\n",
       "      <th>gross_enrolment_ratio_primary</th>\n",
       "      <th>gross_enrolment_ratio_secondary</th>\n",
       "      <th>gross_enrolment_ratio_tertiary</th>\n",
       "    </tr>\n",
       "  </thead>\n",
       "  <tbody>\n",
       "    <tr>\n",
       "      <th>2010</th>\n",
       "      <td>0.892</td>\n",
       "      <td>16.2</td>\n",
       "      <td>70.0</td>\n",
       "      <td>100.0</td>\n",
       "      <td>95.0</td>\n",
       "      <td>93.0</td>\n",
       "    </tr>\n",
       "    <tr>\n",
       "      <th>2011</th>\n",
       "      <td>0.897</td>\n",
       "      <td>16.3</td>\n",
       "      <td>70.0</td>\n",
       "      <td>99.0</td>\n",
       "      <td>96.0</td>\n",
       "      <td>94.0</td>\n",
       "    </tr>\n",
       "    <tr>\n",
       "      <th>2012</th>\n",
       "      <td>0.898</td>\n",
       "      <td>16.3</td>\n",
       "      <td>71.0</td>\n",
       "      <td>99.0</td>\n",
       "      <td>96.0</td>\n",
       "      <td>93.0</td>\n",
       "    </tr>\n",
       "    <tr>\n",
       "      <th>2013</th>\n",
       "      <td>0.891</td>\n",
       "      <td>16.1</td>\n",
       "      <td>72.0</td>\n",
       "      <td>99.0</td>\n",
       "      <td>96.0</td>\n",
       "      <td>89.0</td>\n",
       "    </tr>\n",
       "    <tr>\n",
       "      <th>2014</th>\n",
       "      <td>0.892</td>\n",
       "      <td>16.1</td>\n",
       "      <td>73.0</td>\n",
       "      <td>100.0</td>\n",
       "      <td>97.0</td>\n",
       "      <td>89.0</td>\n",
       "    </tr>\n",
       "    <tr>\n",
       "      <th>2015</th>\n",
       "      <td>0.893</td>\n",
       "      <td>16.2</td>\n",
       "      <td>72.0</td>\n",
       "      <td>100.0</td>\n",
       "      <td>98.0</td>\n",
       "      <td>89.0</td>\n",
       "    </tr>\n",
       "    <tr>\n",
       "      <th>2016</th>\n",
       "      <td>0.896</td>\n",
       "      <td>16.3</td>\n",
       "      <td>72.0</td>\n",
       "      <td>101.0</td>\n",
       "      <td>99.0</td>\n",
       "      <td>89.0</td>\n",
       "    </tr>\n",
       "    <tr>\n",
       "      <th>2017</th>\n",
       "      <td>0.899</td>\n",
       "      <td>16.3</td>\n",
       "      <td>73.0</td>\n",
       "      <td>102.0</td>\n",
       "      <td>99.0</td>\n",
       "      <td>88.0</td>\n",
       "    </tr>\n",
       "    <tr>\n",
       "      <th>2018</th>\n",
       "      <td>0.899</td>\n",
       "      <td>16.3</td>\n",
       "      <td>NaN</td>\n",
       "      <td>NaN</td>\n",
       "      <td>NaN</td>\n",
       "      <td>NaN</td>\n",
       "    </tr>\n",
       "    <tr>\n",
       "      <th>2019</th>\n",
       "      <td>0.900</td>\n",
       "      <td>16.3</td>\n",
       "      <td>NaN</td>\n",
       "      <td>NaN</td>\n",
       "      <td>NaN</td>\n",
       "      <td>NaN</td>\n",
       "    </tr>\n",
       "  </tbody>\n",
       "</table>\n",
       "</div>"
      ],
      "text/plain": [
       "      education_index  expected_years_of_schooling  \\\n",
       "2010            0.892                         16.2   \n",
       "2011            0.897                         16.3   \n",
       "2012            0.898                         16.3   \n",
       "2013            0.891                         16.1   \n",
       "2014            0.892                         16.1   \n",
       "2015            0.893                         16.2   \n",
       "2016            0.896                         16.3   \n",
       "2017            0.899                         16.3   \n",
       "2018            0.899                         16.3   \n",
       "2019            0.900                         16.3   \n",
       "\n",
       "      gross_enrolment_ratio_pre-primary  gross_enrolment_ratio_primary  \\\n",
       "2010                               70.0                          100.0   \n",
       "2011                               70.0                           99.0   \n",
       "2012                               71.0                           99.0   \n",
       "2013                               72.0                           99.0   \n",
       "2014                               73.0                          100.0   \n",
       "2015                               72.0                          100.0   \n",
       "2016                               72.0                          101.0   \n",
       "2017                               73.0                          102.0   \n",
       "2018                                NaN                            NaN   \n",
       "2019                                NaN                            NaN   \n",
       "\n",
       "      gross_enrolment_ratio_secondary  gross_enrolment_ratio_tertiary  \n",
       "2010                             95.0                            93.0  \n",
       "2011                             96.0                            94.0  \n",
       "2012                             96.0                            93.0  \n",
       "2013                             96.0                            89.0  \n",
       "2014                             97.0                            89.0  \n",
       "2015                             98.0                            89.0  \n",
       "2016                             99.0                            89.0  \n",
       "2017                             99.0                            88.0  \n",
       "2018                              NaN                             NaN  \n",
       "2019                              NaN                             NaN  "
      ]
     },
     "metadata": {},
     "output_type": "display_data"
    }
   ],
   "source": [
    "display(education_df)"
   ]
  },
  {
   "cell_type": "code",
   "execution_count": 4,
   "metadata": {
    "collapsed": false,
    "jupyter": {
     "outputs_hidden": false
    },
    "pycharm": {
     "name": "#%%\n"
    }
   },
   "outputs": [
    {
     "data": {
      "text/plain": [
       "Int64Index([2010, 2011, 2012, 2013, 2014, 2015, 2016, 2017, 2018, 2019], dtype='int64')"
      ]
     },
     "execution_count": 4,
     "metadata": {},
     "output_type": "execute_result"
    }
   ],
   "source": [
    "education_df.T.columns"
   ]
  },
  {
   "cell_type": "code",
   "execution_count": 5,
   "metadata": {
    "collapsed": false,
    "jupyter": {
     "outputs_hidden": false
    },
    "pycharm": {
     "name": "#%%\n"
    }
   },
   "outputs": [
    {
     "data": {
      "text/html": [
       "<div>\n",
       "<style scoped>\n",
       "    .dataframe tbody tr th:only-of-type {\n",
       "        vertical-align: middle;\n",
       "    }\n",
       "\n",
       "    .dataframe tbody tr th {\n",
       "        vertical-align: top;\n",
       "    }\n",
       "\n",
       "    .dataframe thead th {\n",
       "        text-align: right;\n",
       "    }\n",
       "</style>\n",
       "<table border=\"1\" class=\"dataframe\">\n",
       "  <thead>\n",
       "    <tr style=\"text-align: right;\">\n",
       "      <th></th>\n",
       "      <th>Year</th>\n",
       "      <th>Period</th>\n",
       "      <th>avg_hrs_day_sleeping</th>\n",
       "      <th>Standard Error</th>\n",
       "      <th>type_of_days</th>\n",
       "      <th>age_group</th>\n",
       "      <th>activity</th>\n",
       "      <th>sex</th>\n",
       "    </tr>\n",
       "  </thead>\n",
       "  <tbody>\n",
       "    <tr>\n",
       "      <th>0</th>\n",
       "      <td>2003</td>\n",
       "      <td>Annual</td>\n",
       "      <td>8.57</td>\n",
       "      <td>0.018</td>\n",
       "      <td>All days</td>\n",
       "      <td>15 years and over</td>\n",
       "      <td>Sleeping</td>\n",
       "      <td>Both</td>\n",
       "    </tr>\n",
       "    <tr>\n",
       "      <th>1</th>\n",
       "      <td>2004</td>\n",
       "      <td>Annual</td>\n",
       "      <td>8.55</td>\n",
       "      <td>0.026</td>\n",
       "      <td>All days</td>\n",
       "      <td>15 years and over</td>\n",
       "      <td>Sleeping</td>\n",
       "      <td>Both</td>\n",
       "    </tr>\n",
       "    <tr>\n",
       "      <th>2</th>\n",
       "      <td>2005</td>\n",
       "      <td>Annual</td>\n",
       "      <td>8.62</td>\n",
       "      <td>0.023</td>\n",
       "      <td>All days</td>\n",
       "      <td>15 years and over</td>\n",
       "      <td>Sleeping</td>\n",
       "      <td>Both</td>\n",
       "    </tr>\n",
       "    <tr>\n",
       "      <th>3</th>\n",
       "      <td>2006</td>\n",
       "      <td>Annual</td>\n",
       "      <td>8.63</td>\n",
       "      <td>0.024</td>\n",
       "      <td>All days</td>\n",
       "      <td>15 years and over</td>\n",
       "      <td>Sleeping</td>\n",
       "      <td>Both</td>\n",
       "    </tr>\n",
       "    <tr>\n",
       "      <th>4</th>\n",
       "      <td>2007</td>\n",
       "      <td>Annual</td>\n",
       "      <td>8.57</td>\n",
       "      <td>0.024</td>\n",
       "      <td>All days</td>\n",
       "      <td>15 years and over</td>\n",
       "      <td>Sleeping</td>\n",
       "      <td>Both</td>\n",
       "    </tr>\n",
       "    <tr>\n",
       "      <th>...</th>\n",
       "      <td>...</td>\n",
       "      <td>...</td>\n",
       "      <td>...</td>\n",
       "      <td>...</td>\n",
       "      <td>...</td>\n",
       "      <td>...</td>\n",
       "      <td>...</td>\n",
       "      <td>...</td>\n",
       "    </tr>\n",
       "    <tr>\n",
       "      <th>940</th>\n",
       "      <td>2013</td>\n",
       "      <td>Annual</td>\n",
       "      <td>8.83</td>\n",
       "      <td>0.085</td>\n",
       "      <td>Nonholiday weekdays</td>\n",
       "      <td>65 years and over</td>\n",
       "      <td>Sleeping</td>\n",
       "      <td>Women</td>\n",
       "    </tr>\n",
       "    <tr>\n",
       "      <th>941</th>\n",
       "      <td>2014</td>\n",
       "      <td>Annual</td>\n",
       "      <td>8.98</td>\n",
       "      <td>0.086</td>\n",
       "      <td>Nonholiday weekdays</td>\n",
       "      <td>65 years and over</td>\n",
       "      <td>Sleeping</td>\n",
       "      <td>Women</td>\n",
       "    </tr>\n",
       "    <tr>\n",
       "      <th>942</th>\n",
       "      <td>2015</td>\n",
       "      <td>Annual</td>\n",
       "      <td>8.83</td>\n",
       "      <td>0.074</td>\n",
       "      <td>Nonholiday weekdays</td>\n",
       "      <td>65 years and over</td>\n",
       "      <td>Sleeping</td>\n",
       "      <td>Women</td>\n",
       "    </tr>\n",
       "    <tr>\n",
       "      <th>943</th>\n",
       "      <td>2016</td>\n",
       "      <td>Annual</td>\n",
       "      <td>8.92</td>\n",
       "      <td>0.071</td>\n",
       "      <td>Nonholiday weekdays</td>\n",
       "      <td>65 years and over</td>\n",
       "      <td>Sleeping</td>\n",
       "      <td>Women</td>\n",
       "    </tr>\n",
       "    <tr>\n",
       "      <th>944</th>\n",
       "      <td>2017</td>\n",
       "      <td>Annual</td>\n",
       "      <td>8.81</td>\n",
       "      <td>0.091</td>\n",
       "      <td>Nonholiday weekdays</td>\n",
       "      <td>65 years and over</td>\n",
       "      <td>Sleeping</td>\n",
       "      <td>Women</td>\n",
       "    </tr>\n",
       "  </tbody>\n",
       "</table>\n",
       "<p>945 rows × 8 columns</p>\n",
       "</div>"
      ],
      "text/plain": [
       "     Year  Period  avg_hrs_day_sleeping  Standard Error         type_of_days  \\\n",
       "0    2003  Annual                  8.57           0.018             All days   \n",
       "1    2004  Annual                  8.55           0.026             All days   \n",
       "2    2005  Annual                  8.62           0.023             All days   \n",
       "3    2006  Annual                  8.63           0.024             All days   \n",
       "4    2007  Annual                  8.57           0.024             All days   \n",
       "..    ...     ...                   ...             ...                  ...   \n",
       "940  2013  Annual                  8.83           0.085  Nonholiday weekdays   \n",
       "941  2014  Annual                  8.98           0.086  Nonholiday weekdays   \n",
       "942  2015  Annual                  8.83           0.074  Nonholiday weekdays   \n",
       "943  2016  Annual                  8.92           0.071  Nonholiday weekdays   \n",
       "944  2017  Annual                  8.81           0.091  Nonholiday weekdays   \n",
       "\n",
       "             age_group  activity    sex  \n",
       "0    15 years and over  Sleeping   Both  \n",
       "1    15 years and over  Sleeping   Both  \n",
       "2    15 years and over  Sleeping   Both  \n",
       "3    15 years and over  Sleeping   Both  \n",
       "4    15 years and over  Sleeping   Both  \n",
       "..                 ...       ...    ...  \n",
       "940  65 years and over  Sleeping  Women  \n",
       "941  65 years and over  Sleeping  Women  \n",
       "942  65 years and over  Sleeping  Women  \n",
       "943  65 years and over  Sleeping  Women  \n",
       "944  65 years and over  Sleeping  Women  \n",
       "\n",
       "[945 rows x 8 columns]"
      ]
     },
     "metadata": {},
     "output_type": "display_data"
    }
   ],
   "source": [
    "display(tass_df)"
   ]
  },
  {
   "cell_type": "code",
   "execution_count": 6,
   "metadata": {
    "collapsed": false,
    "jupyter": {
     "outputs_hidden": false
    },
    "pycharm": {
     "name": "#%%\n"
    }
   },
   "outputs": [
    {
     "data": {
      "text/plain": [
       "Year                      int64\n",
       "Period                   object\n",
       "avg_hrs_day_sleeping    float64\n",
       "Standard Error          float64\n",
       "type_of_days             object\n",
       "age_group                object\n",
       "activity                 object\n",
       "sex                      object\n",
       "dtype: object"
      ]
     },
     "execution_count": 6,
     "metadata": {},
     "output_type": "execute_result"
    }
   ],
   "source": [
    "tass_df.dtypes"
   ]
  },
  {
   "cell_type": "code",
   "execution_count": 7,
   "metadata": {
    "collapsed": false,
    "jupyter": {
     "outputs_hidden": false
    },
    "pycharm": {
     "name": "#%%\n"
    }
   },
   "outputs": [],
   "source": [
    "total_t = tass_df.iloc[7:15,].set_index('Year')"
   ]
  },
  {
   "cell_type": "code",
   "execution_count": 8,
   "metadata": {
    "collapsed": false,
    "jupyter": {
     "outputs_hidden": false
    },
    "pycharm": {
     "name": "#%%\n"
    }
   },
   "outputs": [
    {
     "data": {
      "text/html": [
       "<div>\n",
       "<style scoped>\n",
       "    .dataframe tbody tr th:only-of-type {\n",
       "        vertical-align: middle;\n",
       "    }\n",
       "\n",
       "    .dataframe tbody tr th {\n",
       "        vertical-align: top;\n",
       "    }\n",
       "\n",
       "    .dataframe thead th {\n",
       "        text-align: right;\n",
       "    }\n",
       "</style>\n",
       "<table border=\"1\" class=\"dataframe\">\n",
       "  <thead>\n",
       "    <tr style=\"text-align: right;\">\n",
       "      <th></th>\n",
       "      <th>Period</th>\n",
       "      <th>avg_hrs_day_sleeping</th>\n",
       "      <th>Standard Error</th>\n",
       "      <th>type_of_days</th>\n",
       "      <th>age_group</th>\n",
       "      <th>activity</th>\n",
       "      <th>sex</th>\n",
       "    </tr>\n",
       "    <tr>\n",
       "      <th>Year</th>\n",
       "      <th></th>\n",
       "      <th></th>\n",
       "      <th></th>\n",
       "      <th></th>\n",
       "      <th></th>\n",
       "      <th></th>\n",
       "      <th></th>\n",
       "    </tr>\n",
       "  </thead>\n",
       "  <tbody>\n",
       "    <tr>\n",
       "      <th>2010</th>\n",
       "      <td>Annual</td>\n",
       "      <td>8.67</td>\n",
       "      <td>0.024</td>\n",
       "      <td>All days</td>\n",
       "      <td>15 years and over</td>\n",
       "      <td>Sleeping</td>\n",
       "      <td>Both</td>\n",
       "    </tr>\n",
       "    <tr>\n",
       "      <th>2011</th>\n",
       "      <td>Annual</td>\n",
       "      <td>8.71</td>\n",
       "      <td>0.026</td>\n",
       "      <td>All days</td>\n",
       "      <td>15 years and over</td>\n",
       "      <td>Sleeping</td>\n",
       "      <td>Both</td>\n",
       "    </tr>\n",
       "    <tr>\n",
       "      <th>2012</th>\n",
       "      <td>Annual</td>\n",
       "      <td>8.73</td>\n",
       "      <td>0.026</td>\n",
       "      <td>All days</td>\n",
       "      <td>15 years and over</td>\n",
       "      <td>Sleeping</td>\n",
       "      <td>Both</td>\n",
       "    </tr>\n",
       "    <tr>\n",
       "      <th>2013</th>\n",
       "      <td>Annual</td>\n",
       "      <td>8.74</td>\n",
       "      <td>0.027</td>\n",
       "      <td>All days</td>\n",
       "      <td>15 years and over</td>\n",
       "      <td>Sleeping</td>\n",
       "      <td>Both</td>\n",
       "    </tr>\n",
       "    <tr>\n",
       "      <th>2014</th>\n",
       "      <td>Annual</td>\n",
       "      <td>8.80</td>\n",
       "      <td>0.025</td>\n",
       "      <td>All days</td>\n",
       "      <td>15 years and over</td>\n",
       "      <td>Sleeping</td>\n",
       "      <td>Both</td>\n",
       "    </tr>\n",
       "    <tr>\n",
       "      <th>2015</th>\n",
       "      <td>Annual</td>\n",
       "      <td>8.83</td>\n",
       "      <td>0.027</td>\n",
       "      <td>All days</td>\n",
       "      <td>15 years and over</td>\n",
       "      <td>Sleeping</td>\n",
       "      <td>Both</td>\n",
       "    </tr>\n",
       "    <tr>\n",
       "      <th>2016</th>\n",
       "      <td>Annual</td>\n",
       "      <td>8.79</td>\n",
       "      <td>0.028</td>\n",
       "      <td>All days</td>\n",
       "      <td>15 years and over</td>\n",
       "      <td>Sleeping</td>\n",
       "      <td>Both</td>\n",
       "    </tr>\n",
       "    <tr>\n",
       "      <th>2017</th>\n",
       "      <td>Annual</td>\n",
       "      <td>8.80</td>\n",
       "      <td>0.027</td>\n",
       "      <td>All days</td>\n",
       "      <td>15 years and over</td>\n",
       "      <td>Sleeping</td>\n",
       "      <td>Both</td>\n",
       "    </tr>\n",
       "  </tbody>\n",
       "</table>\n",
       "</div>"
      ],
      "text/plain": [
       "      Period  avg_hrs_day_sleeping  Standard Error type_of_days  \\\n",
       "Year                                                              \n",
       "2010  Annual                  8.67           0.024     All days   \n",
       "2011  Annual                  8.71           0.026     All days   \n",
       "2012  Annual                  8.73           0.026     All days   \n",
       "2013  Annual                  8.74           0.027     All days   \n",
       "2014  Annual                  8.80           0.025     All days   \n",
       "2015  Annual                  8.83           0.027     All days   \n",
       "2016  Annual                  8.79           0.028     All days   \n",
       "2017  Annual                  8.80           0.027     All days   \n",
       "\n",
       "              age_group  activity   sex  \n",
       "Year                                     \n",
       "2010  15 years and over  Sleeping  Both  \n",
       "2011  15 years and over  Sleeping  Both  \n",
       "2012  15 years and over  Sleeping  Both  \n",
       "2013  15 years and over  Sleeping  Both  \n",
       "2014  15 years and over  Sleeping  Both  \n",
       "2015  15 years and over  Sleeping  Both  \n",
       "2016  15 years and over  Sleeping  Both  \n",
       "2017  15 years and over  Sleeping  Both  "
      ]
     },
     "execution_count": 8,
     "metadata": {},
     "output_type": "execute_result"
    }
   ],
   "source": [
    "total_t"
   ]
  },
  {
   "cell_type": "code",
   "execution_count": 9,
   "metadata": {
    "collapsed": false,
    "jupyter": {
     "outputs_hidden": false
    },
    "pycharm": {
     "name": "#%%\n"
    }
   },
   "outputs": [
    {
     "data": {
      "text/plain": [
       "array([2010, 2011, 2012, 2013, 2014, 2015, 2016, 2017, 2018, 2019])"
      ]
     },
     "execution_count": 9,
     "metadata": {},
     "output_type": "execute_result"
    }
   ],
   "source": [
    "education_df.index.values"
   ]
  },
  {
   "cell_type": "code",
   "execution_count": 10,
   "metadata": {
    "collapsed": false,
    "jupyter": {
     "outputs_hidden": false
    },
    "pycharm": {
     "name": "#%%\n"
    }
   },
   "outputs": [
    {
     "data": {
      "image/png": "[encoded data removed]",
      "text/plain": [
       "<Figure size 720x360 with 2 Axes>"
      ]
     },
     "metadata": {
      "needs_background": "light"
     },
     "output_type": "display_data"
    }
   ],
   "source": [
    "fig, ax = plt.subplots(figsize=(10,5))\n",
    "\n",
    "education_df['expected_years_of_schooling'].plot.line(ax = ax, cmap = 'gist_rainbow_r')\n",
    "ax.set_xlabel('Year')\n",
    "ax.set_ylabel('Index Value')\n",
    "\n",
    "bx = ax.twinx()\n",
    "total_t['avg_hrs_day_sleeping'].plot.line(ax = bx , linewidth = 3)\n",
    "bx.set_ylabel('Average Hours Sleeping')\n",
    "\n",
    "# ax.legend(['Index Value', 'Total TASS'], loc='upper right')\n",
    "bx.legend(['Average Hours Sleeping'], loc='upper left')\n",
    "ax.set_ylim(0,30)\n",
    "bx.set_ylim(8,9.5)\n",
    "ax.set_xticks(education_df.index)\n",
    "fig.tight_layout()"
   ]
  },
  {
   "cell_type": "code",
   "execution_count": 11,
   "metadata": {
    "collapsed": false,
    "jupyter": {
     "outputs_hidden": false
    },
    "pycharm": {
     "name": "#%%\n"
    }
   },
   "outputs": [
    {
     "data": {
      "image/png": "[encoded data removed]",
      "text/plain": [
       "<Figure size 720x360 with 2 Axes>"
      ]
     },
     "metadata": {
      "needs_background": "light"
     },
     "output_type": "display_data"
    }
   ],
   "source": [
    "fig, ax = plt.subplots(figsize=(10,5))\n",
    "\n",
    "education_df.plot.line(ax = ax, cmap = 'gist_rainbow_r')\n",
    "ax.set_xlabel('Year')\n",
    "ax.set_ylabel('Index Value')\n",
    "\n",
    "bx = ax.twinx()\n",
    "total_t['avg_hrs_day_sleeping'].plot.line(ax = bx , linewidth = 3)\n",
    "bx.set_ylabel('Average Hours Sleeping')\n",
    "\n",
    "# ax.legend(['Index Value', 'Total TASS'], loc='upper right')\n",
    "bx.legend(['Average Hours Sleeping'], loc='upper left')\n",
    "ax.set_ylim(0,120)\n",
    "bx.set_ylim(8,9.5)\n",
    "ax.set_xticks(education_df.index)\n",
    "fig.tight_layout()"
   ]
  },
  {
   "cell_type": "code",
   "execution_count": null,
   "metadata": {},
   "outputs": [],
   "source": []
  },
  {
   "cell_type": "code",
   "execution_count": null,
   "metadata": {},
   "outputs": [],
   "source": []
  },
  {
   "cell_type": "code",
   "execution_count": null,
   "metadata": {},
   "outputs": [],
   "source": []
  }
 ],
 "metadata": {
  "kernelspec": {
   "display_name": "Python 3",
   "language": "python",
   "name": "python3"
  },
  "language_info": {
   "codemirror_mode": {
    "name": "ipython",
    "version": 3
   },
   "file_extension": ".py",
   "mimetype": "text/x-python",
   "name": "python",
   "nbconvert_exporter": "python",
   "pygments_lexer": "ipython3",
   "version": "3.8.8"
  }
 },
 "nbformat": 4,
 "nbformat_minor": 4
}
