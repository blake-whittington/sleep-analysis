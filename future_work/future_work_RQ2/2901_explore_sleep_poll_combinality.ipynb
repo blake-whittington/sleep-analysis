{
 "cells": [
  {
   "cell_type": "markdown",
   "metadata": {
    "pycharm": {
     "name": "#%% md\n"
    }
   },
   "source": [
    "## How Does Economic Health Affect People’s Sleep?\n",
    "***\n",
    "Combine common columns in the various sleep pools in order to explore specifics about sleep"
   ]
  },
  {
   "cell_type": "markdown",
   "metadata": {},
   "source": [
    "## Imports"
   ]
  },
  {
   "cell_type": "code",
   "execution_count": 1,
   "metadata": {
    "collapsed": false,
    "jupyter": {
     "outputs_hidden": false
    },
    "pycharm": {
     "name": "#%%\n"
    }
   },
   "outputs": [],
   "source": [
    "import pandas as pd\n",
    "import numpy as np\n",
    "import matplotlib.pyplot as plt\n",
    "import seaborn as sns"
   ]
  },
  {
   "cell_type": "markdown",
   "metadata": {
    "pycharm": {
     "name": "#%% md\n"
    }
   },
   "source": [
    "## Parameters"
   ]
  },
  {
   "cell_type": "code",
   "execution_count": 2,
   "metadata": {
    "collapsed": false,
    "jupyter": {
     "outputs_hidden": false
    },
    "pycharm": {
     "name": "#%%\n"
    }
   },
   "outputs": [],
   "source": [
    "poll_2009 = '../data_file/cleaned_data_pickle/2009_poll_df.pickle'\n",
    "poll_2011 = '../data_file/cleaned_data_pickle/2011_poll_df.pickle'\n",
    "poll_2013 = '../data_file/cleaned_data_pickle/2013_poll_df.pickle'\n",
    "poll_2015 = '../data_file/cleaned_data_pickle/2015_poll_df.pickle'"
   ]
  },
  {
   "cell_type": "markdown",
   "metadata": {
    "pycharm": {
     "name": "#%% md\n"
    }
   },
   "source": [
    "## Load Data"
   ]
  },
  {
   "cell_type": "code",
   "execution_count": 3,
   "metadata": {
    "collapsed": false,
    "jupyter": {
     "outputs_hidden": false
    },
    "pycharm": {
     "name": "#%%\n"
    }
   },
   "outputs": [],
   "source": [
    "df_09 = pd.read_pickle(poll_2009)\n",
    "df_11 = pd.read_pickle(poll_2011)\n",
    "df_13 = pd.read_pickle(poll_2013)\n",
    "df_15 = pd.read_pickle(poll_2015)"
   ]
  },
  {
   "cell_type": "code",
   "execution_count": 4,
   "metadata": {
    "collapsed": false,
    "jupyter": {
     "outputs_hidden": false
    },
    "pycharm": {
     "name": "#%%\n"
    }
   },
   "outputs": [
    {
     "name": "stdout",
     "output_type": "stream",
     "text": [
      "id\n",
      "region\n",
      "over18\n",
      "employment_status\n",
      "marital_status\n",
      "good_rest_often\n",
      "gender\n",
      "wake_up_weekdays\n",
      "bed_time_weekdays\n",
      "wake_up_weekends\n",
      "bed_time_weekends\n",
      "hours_sleep_weekday\n",
      "mins_sleep_weekday\n",
      "hours_sleep_weekend\n",
      "mins_sleep_weekend\n",
      "total_mins_sleep_weekday\n",
      "total_hours_sleep_weekday\n",
      "total_mins_sleep_weekend\n",
      "total_hours_sleep_weekend\n",
      "minimum_sleep_opinion\n",
      "fall_asleep_mins\n",
      "difficulty_falling_asleep_often\n",
      "awake_alot_often\n",
      "woke_too_early_often\n",
      "unrefreshed_often\n",
      "snore_often\n",
      "tingly_legs_often\n",
      "quit_breathing_often\n",
      "concern_employment_often\n",
      "concern_relationship_often\n",
      "concern_financial_often\n",
      "oncern_health_often\n",
      "concern_healthcare_cost_often\n",
      "concern_USeconomy_often\n",
      "concern_war_often\n",
      "concern_global_warming_often\n",
      "concern_terrorism_often\n",
      "over_counter_med_often\n",
      "perscribed_med_often\n",
      "relaxation_often\n",
      "alternative_therapy_often\n",
      "alcohol_sleep_often\n",
      "too_tired_eat_healthy\n",
      "too_tired_work_efficiently\n",
      "too_tired_activities\n",
      "too_tired_exercise\n",
      "too_tired_sex\n",
      "nap_likely_when_tired\n",
      "alert_med_likely_when_tired\n",
      "accept_likely_when_tired\n",
      "less_during_day_likely_when_tired\n",
      "bed_early_likely_when_tired\n",
      "more_sleep_weekend_likely_when_tired\n",
      "caffeine_likely_when_tired\n",
      "exercise_likely_when_tired\n",
      "high_carb_likely_when_tired\n",
      "tobacco_likely_when_tired\n",
      "drive_tired_last_year\n",
      "asleep_while_driving\n",
      "accident_last_year\n",
      "missed_activities_too_sleepy\n",
      "heatlh_rating\n",
      "height(feet)\n",
      "height(inches)\n",
      "total_height_inches\n",
      "weight(lbs)\n",
      "bmi\n",
      "fruit_often\n",
      "whole_grain_often\n",
      "lowfat_dairy_often\n",
      "fast_food_often\n",
      "restaurant_often\n",
      "fried_food_often\n",
      "high_fat_snack_often\n",
      "3_meals_often\n",
      "breakfast_often\n",
      "most_important_for_health\n",
      "second_most_important_for_health\n",
      "third_most_important_for_health\n",
      "caffeine_a_day\n",
      "alcohol_month\n",
      ">5_alcohol_day\n",
      "one_cigarette_day\n",
      "cigarettes_day\n",
      "heart_condition\n",
      "blood_pressure_condition\n",
      "diabetes_condition\n",
      "cancer_condition\n",
      "stroke_condition\n",
      "arthritis_condition\n",
      "breathing_condition\n",
      "depression_condition\n",
      "anxiety_condition\n",
      "sleep_condition\n",
      "other_chronic_condition\n",
      "routine_checkup\n",
      "sleep_issues_doctor\n",
      "depressed_month\n",
      "anxious_month\n",
      "satisfied_relationship\n",
      "satisfied_job\n",
      "race\n",
      "age\n",
      "children_>18\n",
      "children_13-17\n",
      "children_6-12\n",
      "children<6\n",
      "annual_household_income\n",
      "\n",
      "\n"
     ]
    }
   ],
   "source": [
    "for col in df_09.columns:\n",
    "    print(col)"
   ]
  },
  {
   "cell_type": "code",
   "execution_count": 5,
   "metadata": {
    "collapsed": false,
    "jupyter": {
     "outputs_hidden": false
    },
    "pycharm": {
     "name": "#%%\n"
    }
   },
   "outputs": [
    {
     "name": "stdout",
     "output_type": "stream",
     "text": [
      "Index(['id', 'age', 'employment_status', 'state', 'gender', 'wake_up_weekdays',\n",
      "       'bed_time_weekdays', 'bed_time_wrong', 'wake_up_weekends',\n",
      "       'bed_time_weekends',\n",
      "       ...\n",
      "       'ebook_woke_during_night_too_early', 'book_woke_during_night_too_early',\n",
      "       'music_woke_during_night_too_early',\n",
      "       'video_woke_during_night_too_early',\n",
      "       'work_pc_woke_during_night_too_early',\n",
      "       'homework_pc_woke_during_night_too_early', 'drive_tired_last_month',\n",
      "       'marital_status', 'hispanic', 'race'],\n",
      "      dtype='object', length=128)\n"
     ]
    }
   ],
   "source": [
    "print(df_11.columns)"
   ]
  },
  {
   "cell_type": "code",
   "execution_count": 6,
   "metadata": {
    "collapsed": false,
    "jupyter": {
     "outputs_hidden": false
    },
    "pycharm": {
     "name": "#%%\n"
    }
   },
   "outputs": [
    {
     "data": {
      "text/plain": "     wake_up_weekdays  wake_up_weekends  bed_time_weekdays  bed_time_weekends  \\\n0                   9                 9                 12                 12   \n1                   6                 9                 20                 20   \n2                   5                23                 18                 18   \n3                   5                 5                 10                 14   \n4                  11                11                 14                 14   \n..                ...               ...                ...                ...   \n995                 3                15                 17                 17   \n996                15                15                 14                 14   \n997                13                13                 18                 18   \n998                11                23                 18                 18   \n999                11                13                 10                 12   \n\n     hours_sleep_weekday  hours_sleep_weekend  \n0                     10                   10  \n1                      6                    5  \n2                      5                   11  \n3                      7                   99  \n4                      9                    9  \n..                   ...                  ...  \n995                    6                    6  \n996                    8                    8  \n997                    8                    8  \n998                    8                    7  \n999                    9                    9  \n\n[1000 rows x 6 columns]",
      "text/html": "<div>\n<style scoped>\n    .dataframe tbody tr th:only-of-type {\n        vertical-align: middle;\n    }\n\n    .dataframe tbody tr th {\n        vertical-align: top;\n    }\n\n    .dataframe thead th {\n        text-align: right;\n    }\n</style>\n<table border=\"1\" class=\"dataframe\">\n  <thead>\n    <tr style=\"text-align: right;\">\n      <th></th>\n      <th>wake_up_weekdays</th>\n      <th>wake_up_weekends</th>\n      <th>bed_time_weekdays</th>\n      <th>bed_time_weekends</th>\n      <th>hours_sleep_weekday</th>\n      <th>hours_sleep_weekend</th>\n    </tr>\n  </thead>\n  <tbody>\n    <tr>\n      <th>0</th>\n      <td>9</td>\n      <td>9</td>\n      <td>12</td>\n      <td>12</td>\n      <td>10</td>\n      <td>10</td>\n    </tr>\n    <tr>\n      <th>1</th>\n      <td>6</td>\n      <td>9</td>\n      <td>20</td>\n      <td>20</td>\n      <td>6</td>\n      <td>5</td>\n    </tr>\n    <tr>\n      <th>2</th>\n      <td>5</td>\n      <td>23</td>\n      <td>18</td>\n      <td>18</td>\n      <td>5</td>\n      <td>11</td>\n    </tr>\n    <tr>\n      <th>3</th>\n      <td>5</td>\n      <td>5</td>\n      <td>10</td>\n      <td>14</td>\n      <td>7</td>\n      <td>99</td>\n    </tr>\n    <tr>\n      <th>4</th>\n      <td>11</td>\n      <td>11</td>\n      <td>14</td>\n      <td>14</td>\n      <td>9</td>\n      <td>9</td>\n    </tr>\n    <tr>\n      <th>...</th>\n      <td>...</td>\n      <td>...</td>\n      <td>...</td>\n      <td>...</td>\n      <td>...</td>\n      <td>...</td>\n    </tr>\n    <tr>\n      <th>995</th>\n      <td>3</td>\n      <td>15</td>\n      <td>17</td>\n      <td>17</td>\n      <td>6</td>\n      <td>6</td>\n    </tr>\n    <tr>\n      <th>996</th>\n      <td>15</td>\n      <td>15</td>\n      <td>14</td>\n      <td>14</td>\n      <td>8</td>\n      <td>8</td>\n    </tr>\n    <tr>\n      <th>997</th>\n      <td>13</td>\n      <td>13</td>\n      <td>18</td>\n      <td>18</td>\n      <td>8</td>\n      <td>8</td>\n    </tr>\n    <tr>\n      <th>998</th>\n      <td>11</td>\n      <td>23</td>\n      <td>18</td>\n      <td>18</td>\n      <td>8</td>\n      <td>7</td>\n    </tr>\n    <tr>\n      <th>999</th>\n      <td>11</td>\n      <td>13</td>\n      <td>10</td>\n      <td>12</td>\n      <td>9</td>\n      <td>9</td>\n    </tr>\n  </tbody>\n</table>\n<p>1000 rows × 6 columns</p>\n</div>"
     },
     "execution_count": 6,
     "metadata": {},
     "output_type": "execute_result"
    }
   ],
   "source": [
    "df_09[['wake_up_weekdays', 'wake_up_weekends', 'bed_time_weekdays', 'bed_time_weekends','hours_sleep_weekday', 'hours_sleep_weekend' ]]"
   ]
  },
  {
   "cell_type": "code",
   "execution_count": 7,
   "metadata": {
    "collapsed": false,
    "jupyter": {
     "outputs_hidden": false
    },
    "pycharm": {
     "name": "#%%\n"
    }
   },
   "outputs": [
    {
     "data": {
      "text/plain": "      wake_up_weekdays  wake_up_weekends  bed_time_weekdays  \\\n0                   23                23                  3   \n1                   11                25                  4   \n2                    5                 9                 14   \n3                   10                15                 21   \n4                    2                 7                 14   \n...                ...               ...                ...   \n1503                20                23                  3   \n1504                11                21                 17   \n1505                18                25                  3   \n1506                 6                15                 20   \n1507                24                25                  4   \n\n      bed_time_weekends  hours_sleep_weekday  hours_sleep_weekend  \n0                     4                  6.0                  8.0  \n1                    18                  5.0                 10.0  \n2                    18                  6.0                  7.0  \n3                     2                  6.0                  7.0  \n4                    21                  7.0                  7.0  \n...                 ...                  ...                  ...  \n1503                  3                  8.0                 10.0  \n1504                 21                  7.0                 10.0  \n1505                  3                  7.0                  9.0  \n1506                  1                  6.0                  8.0  \n1507                  4                  6.0                  8.0  \n\n[1508 rows x 6 columns]",
      "text/html": "<div>\n<style scoped>\n    .dataframe tbody tr th:only-of-type {\n        vertical-align: middle;\n    }\n\n    .dataframe tbody tr th {\n        vertical-align: top;\n    }\n\n    .dataframe thead th {\n        text-align: right;\n    }\n</style>\n<table border=\"1\" class=\"dataframe\">\n  <thead>\n    <tr style=\"text-align: right;\">\n      <th></th>\n      <th>wake_up_weekdays</th>\n      <th>wake_up_weekends</th>\n      <th>bed_time_weekdays</th>\n      <th>bed_time_weekends</th>\n      <th>hours_sleep_weekday</th>\n      <th>hours_sleep_weekend</th>\n    </tr>\n  </thead>\n  <tbody>\n    <tr>\n      <th>0</th>\n      <td>23</td>\n      <td>23</td>\n      <td>3</td>\n      <td>4</td>\n      <td>6.0</td>\n      <td>8.0</td>\n    </tr>\n    <tr>\n      <th>1</th>\n      <td>11</td>\n      <td>25</td>\n      <td>4</td>\n      <td>18</td>\n      <td>5.0</td>\n      <td>10.0</td>\n    </tr>\n    <tr>\n      <th>2</th>\n      <td>5</td>\n      <td>9</td>\n      <td>14</td>\n      <td>18</td>\n      <td>6.0</td>\n      <td>7.0</td>\n    </tr>\n    <tr>\n      <th>3</th>\n      <td>10</td>\n      <td>15</td>\n      <td>21</td>\n      <td>2</td>\n      <td>6.0</td>\n      <td>7.0</td>\n    </tr>\n    <tr>\n      <th>4</th>\n      <td>2</td>\n      <td>7</td>\n      <td>14</td>\n      <td>21</td>\n      <td>7.0</td>\n      <td>7.0</td>\n    </tr>\n    <tr>\n      <th>...</th>\n      <td>...</td>\n      <td>...</td>\n      <td>...</td>\n      <td>...</td>\n      <td>...</td>\n      <td>...</td>\n    </tr>\n    <tr>\n      <th>1503</th>\n      <td>20</td>\n      <td>23</td>\n      <td>3</td>\n      <td>3</td>\n      <td>8.0</td>\n      <td>10.0</td>\n    </tr>\n    <tr>\n      <th>1504</th>\n      <td>11</td>\n      <td>21</td>\n      <td>17</td>\n      <td>21</td>\n      <td>7.0</td>\n      <td>10.0</td>\n    </tr>\n    <tr>\n      <th>1505</th>\n      <td>18</td>\n      <td>25</td>\n      <td>3</td>\n      <td>3</td>\n      <td>7.0</td>\n      <td>9.0</td>\n    </tr>\n    <tr>\n      <th>1506</th>\n      <td>6</td>\n      <td>15</td>\n      <td>20</td>\n      <td>1</td>\n      <td>6.0</td>\n      <td>8.0</td>\n    </tr>\n    <tr>\n      <th>1507</th>\n      <td>24</td>\n      <td>25</td>\n      <td>4</td>\n      <td>4</td>\n      <td>6.0</td>\n      <td>8.0</td>\n    </tr>\n  </tbody>\n</table>\n<p>1508 rows × 6 columns</p>\n</div>"
     },
     "execution_count": 7,
     "metadata": {},
     "output_type": "execute_result"
    }
   ],
   "source": [
    "df_11[['wake_up_weekdays', 'wake_up_weekends', 'bed_time_weekdays', 'bed_time_weekends','hours_sleep_weekday', 'hours_sleep_weekend' ]]"
   ]
  },
  {
   "cell_type": "code",
   "execution_count": 8,
   "metadata": {
    "collapsed": false,
    "jupyter": {
     "outputs_hidden": false
    },
    "pycharm": {
     "name": "#%%\n"
    }
   },
   "outputs": [
    {
     "data": {
      "text/plain": "     wake_up_weekdays  wake_up_weekends  bed_time_weekdays  bed_time_weekends  \\\n0                  17                17                 14                 14   \n1                   7                19                 10                  6   \n2                   9                11                 14                 14   \n3                  10                15                 15                 18   \n4                   8                17                 18                 18   \n..                ...               ...                ...                ...   \n995                15                15                 18                 18   \n996                13                23                  2                  4   \n997                11                17                 18                  1   \n998                 7                11                 16                 16   \n999                 7                13                 16                 18   \n\n     hours_sleep_weekday  hours_sleep_weekend  \n0                   12.0                 12.0  \n1                    7.0                  8.0  \n2                    8.0                  8.0  \n3                    6.0                  7.0  \n4                    7.0                  8.0  \n..                   ...                  ...  \n995                  6.0                  6.0  \n996                  7.0                  7.0  \n997                  7.0                  8.0  \n998                  7.0                  8.0  \n999                  9.0                 10.0  \n\n[1000 rows x 6 columns]",
      "text/html": "<div>\n<style scoped>\n    .dataframe tbody tr th:only-of-type {\n        vertical-align: middle;\n    }\n\n    .dataframe tbody tr th {\n        vertical-align: top;\n    }\n\n    .dataframe thead th {\n        text-align: right;\n    }\n</style>\n<table border=\"1\" class=\"dataframe\">\n  <thead>\n    <tr style=\"text-align: right;\">\n      <th></th>\n      <th>wake_up_weekdays</th>\n      <th>wake_up_weekends</th>\n      <th>bed_time_weekdays</th>\n      <th>bed_time_weekends</th>\n      <th>hours_sleep_weekday</th>\n      <th>hours_sleep_weekend</th>\n    </tr>\n  </thead>\n  <tbody>\n    <tr>\n      <th>0</th>\n      <td>17</td>\n      <td>17</td>\n      <td>14</td>\n      <td>14</td>\n      <td>12.0</td>\n      <td>12.0</td>\n    </tr>\n    <tr>\n      <th>1</th>\n      <td>7</td>\n      <td>19</td>\n      <td>10</td>\n      <td>6</td>\n      <td>7.0</td>\n      <td>8.0</td>\n    </tr>\n    <tr>\n      <th>2</th>\n      <td>9</td>\n      <td>11</td>\n      <td>14</td>\n      <td>14</td>\n      <td>8.0</td>\n      <td>8.0</td>\n    </tr>\n    <tr>\n      <th>3</th>\n      <td>10</td>\n      <td>15</td>\n      <td>15</td>\n      <td>18</td>\n      <td>6.0</td>\n      <td>7.0</td>\n    </tr>\n    <tr>\n      <th>4</th>\n      <td>8</td>\n      <td>17</td>\n      <td>18</td>\n      <td>18</td>\n      <td>7.0</td>\n      <td>8.0</td>\n    </tr>\n    <tr>\n      <th>...</th>\n      <td>...</td>\n      <td>...</td>\n      <td>...</td>\n      <td>...</td>\n      <td>...</td>\n      <td>...</td>\n    </tr>\n    <tr>\n      <th>995</th>\n      <td>15</td>\n      <td>15</td>\n      <td>18</td>\n      <td>18</td>\n      <td>6.0</td>\n      <td>6.0</td>\n    </tr>\n    <tr>\n      <th>996</th>\n      <td>13</td>\n      <td>23</td>\n      <td>2</td>\n      <td>4</td>\n      <td>7.0</td>\n      <td>7.0</td>\n    </tr>\n    <tr>\n      <th>997</th>\n      <td>11</td>\n      <td>17</td>\n      <td>18</td>\n      <td>1</td>\n      <td>7.0</td>\n      <td>8.0</td>\n    </tr>\n    <tr>\n      <th>998</th>\n      <td>7</td>\n      <td>11</td>\n      <td>16</td>\n      <td>16</td>\n      <td>7.0</td>\n      <td>8.0</td>\n    </tr>\n    <tr>\n      <th>999</th>\n      <td>7</td>\n      <td>13</td>\n      <td>16</td>\n      <td>18</td>\n      <td>9.0</td>\n      <td>10.0</td>\n    </tr>\n  </tbody>\n</table>\n<p>1000 rows × 6 columns</p>\n</div>"
     },
     "execution_count": 8,
     "metadata": {},
     "output_type": "execute_result"
    }
   ],
   "source": [
    "df_13[['wake_up_weekdays', 'wake_up_weekends', 'bed_time_weekdays', 'bed_time_weekends','hours_sleep_weekday', 'hours_sleep_weekend' ]]"
   ]
  },
  {
   "cell_type": "code",
   "execution_count": 9,
   "metadata": {
    "collapsed": false,
    "jupyter": {
     "outputs_hidden": false
    },
    "pycharm": {
     "name": "#%%\n"
    }
   },
   "outputs": [
    {
     "data": {
      "text/plain": "      bed_time_hour_weekday  bed_time_15mins_weekday  am/pm_bed_time  \\\n0                        11                        3               2   \n1                        11                        3               2   \n2                        10                        1               2   \n3                        11                        3               2   \n4                        10                        3               2   \n...                     ...                      ...             ...   \n1024                      9                        1               2   \n1025                      1                        3               1   \n1026                      3                        1               1   \n1027                     11                        1               2   \n1028                      9                        1               1   \n\n      wake_up_hour_weekday  wake_up_15_mins_weekday  am/pm_wake_up_weekday  \\\n0                        8                        2                      1   \n1                        8                        3                      1   \n2                        6                        3                      1   \n3                        7                        3                      1   \n4                        6                        1                      1   \n...                    ...                      ...                    ...   \n1024                     7                        1                      1   \n1025                    10                        1                      1   \n1026                    11                        4                      1   \n1027                     6                        2                      1   \n1028                     6                        1                      2   \n\n      min_in_bed_weekday  bed_time_hour_weekends  bed_time_15min_weekends  \\\n0                  525.0                       1                        2   \n1                  540.0                      11                        3   \n2                  510.0                      11                        1   \n3                  480.0                      12                        3   \n4                  450.0                      10                        3   \n...                  ...                     ...                      ...   \n1024               600.0                       9                        1   \n1025               510.0                       2                        1   \n1026               525.0                       2                        2   \n1027               435.0                       5                        1   \n1028               540.0                       3                        1   \n\n      am/pm_bed_time_weekend  wake_up_hour_weekends  wake_up_15min_weekends  \\\n0                          2                      9                       2   \n1                          2                      8                       3   \n2                          2                      7                       1   \n3                          1                      8                       3   \n4                          2                      6                       1   \n...                      ...                    ...                     ...   \n1024                       2                      9                       1   \n1025                       1                     10                       1   \n1026                       1                     11                       4   \n1027                       2                     11                       1   \n1028                       1                      1                       1   \n\n      am/pm_wake_up_weekend  min_in_bed_weekend  hours_sleep_weekday  \\\n0                         1              1200.0                    7   \n1                         1               540.0                    8   \n2                         1               480.0                    8   \n3                         1               480.0                    7   \n4                         1               450.0                    7   \n...                     ...                 ...                  ...   \n1024                      1               720.0                    8   \n1025                      1               480.0                    9   \n1026                      1               570.0                    7   \n1027                      2               360.0                    8   \n1028                      2               600.0                    7   \n\n      mins_sleep_weekday  hours_sleep_weekend  mins_sleep_weekend  \\\n0                      2                    7                   2   \n1                      1                    8                   1   \n2                      1                    8                   1   \n3                      1                    7                   3   \n4                      3                    7                   3   \n...                  ...                  ...                 ...   \n1024                   1                    9                   1   \n1025                   1                    9                   1   \n1026                   2                    8                   3   \n1027                   1                   10                   1   \n1028                   3                    8                   1   \n\n      mins_sleep_weekday  mins_sleep_weekend  \n0                  435.0               435.0  \n1                  480.0               480.0  \n2                  480.0               480.0  \n3                  420.0               450.0  \n4                  450.0               450.0  \n...                  ...                 ...  \n1024               480.0               540.0  \n1025               540.0               540.0  \n1026               435.0               510.0  \n1027               480.0               600.0  \n1028               450.0               480.0  \n\n[1029 rows x 20 columns]",
      "text/html": "<div>\n<style scoped>\n    .dataframe tbody tr th:only-of-type {\n        vertical-align: middle;\n    }\n\n    .dataframe tbody tr th {\n        vertical-align: top;\n    }\n\n    .dataframe thead th {\n        text-align: right;\n    }\n</style>\n<table border=\"1\" class=\"dataframe\">\n  <thead>\n    <tr style=\"text-align: right;\">\n      <th></th>\n      <th>bed_time_hour_weekday</th>\n      <th>bed_time_15mins_weekday</th>\n      <th>am/pm_bed_time</th>\n      <th>wake_up_hour_weekday</th>\n      <th>wake_up_15_mins_weekday</th>\n      <th>am/pm_wake_up_weekday</th>\n      <th>min_in_bed_weekday</th>\n      <th>bed_time_hour_weekends</th>\n      <th>bed_time_15min_weekends</th>\n      <th>am/pm_bed_time_weekend</th>\n      <th>wake_up_hour_weekends</th>\n      <th>wake_up_15min_weekends</th>\n      <th>am/pm_wake_up_weekend</th>\n      <th>min_in_bed_weekend</th>\n      <th>hours_sleep_weekday</th>\n      <th>mins_sleep_weekday</th>\n      <th>hours_sleep_weekend</th>\n      <th>mins_sleep_weekend</th>\n      <th>mins_sleep_weekday</th>\n      <th>mins_sleep_weekend</th>\n    </tr>\n  </thead>\n  <tbody>\n    <tr>\n      <th>0</th>\n      <td>11</td>\n      <td>3</td>\n      <td>2</td>\n      <td>8</td>\n      <td>2</td>\n      <td>1</td>\n      <td>525.0</td>\n      <td>1</td>\n      <td>2</td>\n      <td>2</td>\n      <td>9</td>\n      <td>2</td>\n      <td>1</td>\n      <td>1200.0</td>\n      <td>7</td>\n      <td>2</td>\n      <td>7</td>\n      <td>2</td>\n      <td>435.0</td>\n      <td>435.0</td>\n    </tr>\n    <tr>\n      <th>1</th>\n      <td>11</td>\n      <td>3</td>\n      <td>2</td>\n      <td>8</td>\n      <td>3</td>\n      <td>1</td>\n      <td>540.0</td>\n      <td>11</td>\n      <td>3</td>\n      <td>2</td>\n      <td>8</td>\n      <td>3</td>\n      <td>1</td>\n      <td>540.0</td>\n      <td>8</td>\n      <td>1</td>\n      <td>8</td>\n      <td>1</td>\n      <td>480.0</td>\n      <td>480.0</td>\n    </tr>\n    <tr>\n      <th>2</th>\n      <td>10</td>\n      <td>1</td>\n      <td>2</td>\n      <td>6</td>\n      <td>3</td>\n      <td>1</td>\n      <td>510.0</td>\n      <td>11</td>\n      <td>1</td>\n      <td>2</td>\n      <td>7</td>\n      <td>1</td>\n      <td>1</td>\n      <td>480.0</td>\n      <td>8</td>\n      <td>1</td>\n      <td>8</td>\n      <td>1</td>\n      <td>480.0</td>\n      <td>480.0</td>\n    </tr>\n    <tr>\n      <th>3</th>\n      <td>11</td>\n      <td>3</td>\n      <td>2</td>\n      <td>7</td>\n      <td>3</td>\n      <td>1</td>\n      <td>480.0</td>\n      <td>12</td>\n      <td>3</td>\n      <td>1</td>\n      <td>8</td>\n      <td>3</td>\n      <td>1</td>\n      <td>480.0</td>\n      <td>7</td>\n      <td>1</td>\n      <td>7</td>\n      <td>3</td>\n      <td>420.0</td>\n      <td>450.0</td>\n    </tr>\n    <tr>\n      <th>4</th>\n      <td>10</td>\n      <td>3</td>\n      <td>2</td>\n      <td>6</td>\n      <td>1</td>\n      <td>1</td>\n      <td>450.0</td>\n      <td>10</td>\n      <td>3</td>\n      <td>2</td>\n      <td>6</td>\n      <td>1</td>\n      <td>1</td>\n      <td>450.0</td>\n      <td>7</td>\n      <td>3</td>\n      <td>7</td>\n      <td>3</td>\n      <td>450.0</td>\n      <td>450.0</td>\n    </tr>\n    <tr>\n      <th>...</th>\n      <td>...</td>\n      <td>...</td>\n      <td>...</td>\n      <td>...</td>\n      <td>...</td>\n      <td>...</td>\n      <td>...</td>\n      <td>...</td>\n      <td>...</td>\n      <td>...</td>\n      <td>...</td>\n      <td>...</td>\n      <td>...</td>\n      <td>...</td>\n      <td>...</td>\n      <td>...</td>\n      <td>...</td>\n      <td>...</td>\n      <td>...</td>\n      <td>...</td>\n    </tr>\n    <tr>\n      <th>1024</th>\n      <td>9</td>\n      <td>1</td>\n      <td>2</td>\n      <td>7</td>\n      <td>1</td>\n      <td>1</td>\n      <td>600.0</td>\n      <td>9</td>\n      <td>1</td>\n      <td>2</td>\n      <td>9</td>\n      <td>1</td>\n      <td>1</td>\n      <td>720.0</td>\n      <td>8</td>\n      <td>1</td>\n      <td>9</td>\n      <td>1</td>\n      <td>480.0</td>\n      <td>540.0</td>\n    </tr>\n    <tr>\n      <th>1025</th>\n      <td>1</td>\n      <td>3</td>\n      <td>1</td>\n      <td>10</td>\n      <td>1</td>\n      <td>1</td>\n      <td>510.0</td>\n      <td>2</td>\n      <td>1</td>\n      <td>1</td>\n      <td>10</td>\n      <td>1</td>\n      <td>1</td>\n      <td>480.0</td>\n      <td>9</td>\n      <td>1</td>\n      <td>9</td>\n      <td>1</td>\n      <td>540.0</td>\n      <td>540.0</td>\n    </tr>\n    <tr>\n      <th>1026</th>\n      <td>3</td>\n      <td>1</td>\n      <td>1</td>\n      <td>11</td>\n      <td>4</td>\n      <td>1</td>\n      <td>525.0</td>\n      <td>2</td>\n      <td>2</td>\n      <td>1</td>\n      <td>11</td>\n      <td>4</td>\n      <td>1</td>\n      <td>570.0</td>\n      <td>7</td>\n      <td>2</td>\n      <td>8</td>\n      <td>3</td>\n      <td>435.0</td>\n      <td>510.0</td>\n    </tr>\n    <tr>\n      <th>1027</th>\n      <td>11</td>\n      <td>1</td>\n      <td>2</td>\n      <td>6</td>\n      <td>2</td>\n      <td>1</td>\n      <td>435.0</td>\n      <td>5</td>\n      <td>1</td>\n      <td>2</td>\n      <td>11</td>\n      <td>1</td>\n      <td>2</td>\n      <td>360.0</td>\n      <td>8</td>\n      <td>1</td>\n      <td>10</td>\n      <td>1</td>\n      <td>480.0</td>\n      <td>600.0</td>\n    </tr>\n    <tr>\n      <th>1028</th>\n      <td>9</td>\n      <td>1</td>\n      <td>1</td>\n      <td>6</td>\n      <td>1</td>\n      <td>2</td>\n      <td>540.0</td>\n      <td>3</td>\n      <td>1</td>\n      <td>1</td>\n      <td>1</td>\n      <td>1</td>\n      <td>2</td>\n      <td>600.0</td>\n      <td>7</td>\n      <td>3</td>\n      <td>8</td>\n      <td>1</td>\n      <td>450.0</td>\n      <td>480.0</td>\n    </tr>\n  </tbody>\n</table>\n<p>1029 rows × 20 columns</p>\n</div>"
     },
     "execution_count": 9,
     "metadata": {},
     "output_type": "execute_result"
    }
   ],
   "source": [
    "# df_15[['wake_up_weekdays']]\n",
    "# , 'wake_up_weekends', 'bed_time_weekdays', 'bed_time_weekends','hours_sleep_weekday', 'hours_sleep_weekend' ]\n",
    "df_15.iloc[:,11:31]"
   ]
  },
  {
   "cell_type": "code",
   "execution_count": 9,
   "metadata": {},
   "outputs": [],
   "source": []
  },
  {
   "cell_type": "code",
   "execution_count": 9,
   "metadata": {},
   "outputs": [],
   "source": []
  },
  {
   "cell_type": "code",
   "execution_count": 9,
   "metadata": {},
   "outputs": [],
   "source": []
  }
 ],
 "metadata": {
  "kernelspec": {
   "display_name": "Python 3",
   "language": "python",
   "name": "python3"
  },
  "language_info": {
   "codemirror_mode": {
    "name": "ipython",
    "version": 3
   },
   "file_extension": ".py",
   "mimetype": "text/x-python",
   "name": "python",
   "nbconvert_exporter": "python",
   "pygments_lexer": "ipython3",
   "version": "3.8.8"
  }
 },
 "nbformat": 4,
 "nbformat_minor": 4
}