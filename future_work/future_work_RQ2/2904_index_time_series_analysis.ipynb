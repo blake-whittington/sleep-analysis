{
 "cells": [
  {
   "cell_type": "markdown",
   "metadata": {
    "pycharm": {
     "name": "#%% md\n"
    }
   },
   "source": [
    "## How Does Economic Health Affect People’s Sleep?\n",
    "***\n",
    "Exploring the relationship between various index metric and sleep quality through time."
   ]
  },
  {
   "cell_type": "markdown",
   "metadata": {
    "pycharm": {
     "name": "#%% md\n"
    }
   },
   "source": [
    "## Imports"
   ]
  },
  {
   "cell_type": "code",
   "execution_count": 1,
   "metadata": {
    "collapsed": false,
    "jupyter": {
     "outputs_hidden": false
    },
    "pycharm": {
     "name": "#%%\n"
    }
   },
   "outputs": [],
   "source": [
    "import pandas as pd\n",
    "import numpy as np\n",
    "import matplotlib.pyplot as plt\n",
    "import seaborn as sns"
   ]
  },
  {
   "cell_type": "markdown",
   "metadata": {
    "pycharm": {
     "name": "#%% md\n"
    }
   },
   "source": [
    "## Load Data"
   ]
  },
  {
   "cell_type": "code",
   "execution_count": 2,
   "metadata": {
    "collapsed": false,
    "jupyter": {
     "outputs_hidden": false
    },
    "pycharm": {
     "name": "#%%\n"
    }
   },
   "outputs": [],
   "source": [
    "index = '../data_file/cleaned_data_pickle/index.pickle'\n",
    "index_df = pd.read_pickle(index)\n",
    "\n",
    "tass = '../data_file/cleaned_data_pickle/tass_df.pickle'\n",
    "tass_df = pd.read_pickle(tass)"
   ]
  },
  {
   "cell_type": "code",
   "execution_count": 3,
   "metadata": {
    "collapsed": false,
    "jupyter": {
     "outputs_hidden": false
    },
    "pycharm": {
     "name": "#%%\n"
    }
   },
   "outputs": [
    {
     "data": {
      "text/html": [
       "<div>\n",
       "<style scoped>\n",
       "    .dataframe tbody tr th:only-of-type {\n",
       "        vertical-align: middle;\n",
       "    }\n",
       "\n",
       "    .dataframe tbody tr th {\n",
       "        vertical-align: top;\n",
       "    }\n",
       "\n",
       "    .dataframe thead th {\n",
       "        text-align: right;\n",
       "    }\n",
       "</style>\n",
       "<table border=\"1\" class=\"dataframe\">\n",
       "  <thead>\n",
       "    <tr style=\"text-align: right;\">\n",
       "      <th></th>\n",
       "      <th>education_index</th>\n",
       "      <th>human_development_index</th>\n",
       "      <th>inequality_adjusted_education_index</th>\n",
       "      <th>inequality_adjusted_hdi</th>\n",
       "      <th>inequality_adjusted_income_index</th>\n",
       "    </tr>\n",
       "  </thead>\n",
       "  <tbody>\n",
       "    <tr>\n",
       "      <th>2010</th>\n",
       "      <td>0.892</td>\n",
       "      <td>0.916</td>\n",
       "      <td>0.864</td>\n",
       "      <td>0.812</td>\n",
       "      <td>0.730</td>\n",
       "    </tr>\n",
       "    <tr>\n",
       "      <th>2011</th>\n",
       "      <td>0.897</td>\n",
       "      <td>0.919</td>\n",
       "      <td>0.864</td>\n",
       "      <td>0.778</td>\n",
       "      <td>0.646</td>\n",
       "    </tr>\n",
       "    <tr>\n",
       "      <th>2012</th>\n",
       "      <td>0.898</td>\n",
       "      <td>0.920</td>\n",
       "      <td>0.851</td>\n",
       "      <td>0.806</td>\n",
       "      <td>0.727</td>\n",
       "    </tr>\n",
       "    <tr>\n",
       "      <th>2013</th>\n",
       "      <td>0.891</td>\n",
       "      <td>0.918</td>\n",
       "      <td>0.831</td>\n",
       "      <td>0.759</td>\n",
       "      <td>0.618</td>\n",
       "    </tr>\n",
       "    <tr>\n",
       "      <th>2014</th>\n",
       "      <td>0.892</td>\n",
       "      <td>0.920</td>\n",
       "      <td>0.844</td>\n",
       "      <td>0.763</td>\n",
       "      <td>0.620</td>\n",
       "    </tr>\n",
       "    <tr>\n",
       "      <th>2015</th>\n",
       "      <td>0.893</td>\n",
       "      <td>0.921</td>\n",
       "      <td>0.843</td>\n",
       "      <td>0.796</td>\n",
       "      <td>0.705</td>\n",
       "    </tr>\n",
       "    <tr>\n",
       "      <th>2016</th>\n",
       "      <td>0.896</td>\n",
       "      <td>0.922</td>\n",
       "      <td>0.846</td>\n",
       "      <td>0.799</td>\n",
       "      <td>0.705</td>\n",
       "    </tr>\n",
       "    <tr>\n",
       "      <th>2017</th>\n",
       "      <td>0.899</td>\n",
       "      <td>0.924</td>\n",
       "      <td>0.850</td>\n",
       "      <td>0.797</td>\n",
       "      <td>0.697</td>\n",
       "    </tr>\n",
       "    <tr>\n",
       "      <th>2018</th>\n",
       "      <td>0.899</td>\n",
       "      <td>0.925</td>\n",
       "      <td>0.849</td>\n",
       "      <td>0.801</td>\n",
       "      <td>0.714</td>\n",
       "    </tr>\n",
       "    <tr>\n",
       "      <th>2019</th>\n",
       "      <td>0.900</td>\n",
       "      <td>0.926</td>\n",
       "      <td>0.875</td>\n",
       "      <td>0.808</td>\n",
       "      <td>0.711</td>\n",
       "    </tr>\n",
       "  </tbody>\n",
       "</table>\n",
       "</div>"
      ],
      "text/plain": [
       "      education_index  human_development_index  \\\n",
       "2010            0.892                    0.916   \n",
       "2011            0.897                    0.919   \n",
       "2012            0.898                    0.920   \n",
       "2013            0.891                    0.918   \n",
       "2014            0.892                    0.920   \n",
       "2015            0.893                    0.921   \n",
       "2016            0.896                    0.922   \n",
       "2017            0.899                    0.924   \n",
       "2018            0.899                    0.925   \n",
       "2019            0.900                    0.926   \n",
       "\n",
       "      inequality_adjusted_education_index  inequality_adjusted_hdi  \\\n",
       "2010                                0.864                    0.812   \n",
       "2011                                0.864                    0.778   \n",
       "2012                                0.851                    0.806   \n",
       "2013                                0.831                    0.759   \n",
       "2014                                0.844                    0.763   \n",
       "2015                                0.843                    0.796   \n",
       "2016                                0.846                    0.799   \n",
       "2017                                0.850                    0.797   \n",
       "2018                                0.849                    0.801   \n",
       "2019                                0.875                    0.808   \n",
       "\n",
       "      inequality_adjusted_income_index  \n",
       "2010                             0.730  \n",
       "2011                             0.646  \n",
       "2012                             0.727  \n",
       "2013                             0.618  \n",
       "2014                             0.620  \n",
       "2015                             0.705  \n",
       "2016                             0.705  \n",
       "2017                             0.697  \n",
       "2018                             0.714  \n",
       "2019                             0.711  "
      ]
     },
     "metadata": {},
     "output_type": "display_data"
    }
   ],
   "source": [
    "display(index_df)"
   ]
  },
  {
   "cell_type": "code",
   "execution_count": 4,
   "metadata": {
    "collapsed": false,
    "jupyter": {
     "outputs_hidden": false
    },
    "pycharm": {
     "name": "#%%\n"
    }
   },
   "outputs": [
    {
     "data": {
      "text/plain": [
       "education_index                        float64\n",
       "human_development_index                float64\n",
       "inequality_adjusted_education_index    float64\n",
       "inequality_adjusted_hdi                float64\n",
       "inequality_adjusted_income_index       float64\n",
       "dtype: object"
      ]
     },
     "execution_count": 4,
     "metadata": {},
     "output_type": "execute_result"
    }
   ],
   "source": [
    "index_df.dtypes"
   ]
  },
  {
   "cell_type": "code",
   "execution_count": 5,
   "metadata": {
    "collapsed": false,
    "jupyter": {
     "outputs_hidden": false
    },
    "pycharm": {
     "name": "#%%\n"
    }
   },
   "outputs": [
    {
     "data": {
      "text/html": [
       "<div>\n",
       "<style scoped>\n",
       "    .dataframe tbody tr th:only-of-type {\n",
       "        vertical-align: middle;\n",
       "    }\n",
       "\n",
       "    .dataframe tbody tr th {\n",
       "        vertical-align: top;\n",
       "    }\n",
       "\n",
       "    .dataframe thead th {\n",
       "        text-align: right;\n",
       "    }\n",
       "</style>\n",
       "<table border=\"1\" class=\"dataframe\">\n",
       "  <thead>\n",
       "    <tr style=\"text-align: right;\">\n",
       "      <th></th>\n",
       "      <th>Year</th>\n",
       "      <th>Period</th>\n",
       "      <th>avg_hrs_day_sleeping</th>\n",
       "      <th>Standard Error</th>\n",
       "      <th>type_of_days</th>\n",
       "      <th>age_group</th>\n",
       "      <th>activity</th>\n",
       "      <th>sex</th>\n",
       "    </tr>\n",
       "  </thead>\n",
       "  <tbody>\n",
       "    <tr>\n",
       "      <th>0</th>\n",
       "      <td>2003</td>\n",
       "      <td>Annual</td>\n",
       "      <td>8.57</td>\n",
       "      <td>0.018</td>\n",
       "      <td>All days</td>\n",
       "      <td>15 years and over</td>\n",
       "      <td>Sleeping</td>\n",
       "      <td>Both</td>\n",
       "    </tr>\n",
       "    <tr>\n",
       "      <th>1</th>\n",
       "      <td>2004</td>\n",
       "      <td>Annual</td>\n",
       "      <td>8.55</td>\n",
       "      <td>0.026</td>\n",
       "      <td>All days</td>\n",
       "      <td>15 years and over</td>\n",
       "      <td>Sleeping</td>\n",
       "      <td>Both</td>\n",
       "    </tr>\n",
       "    <tr>\n",
       "      <th>2</th>\n",
       "      <td>2005</td>\n",
       "      <td>Annual</td>\n",
       "      <td>8.62</td>\n",
       "      <td>0.023</td>\n",
       "      <td>All days</td>\n",
       "      <td>15 years and over</td>\n",
       "      <td>Sleeping</td>\n",
       "      <td>Both</td>\n",
       "    </tr>\n",
       "    <tr>\n",
       "      <th>3</th>\n",
       "      <td>2006</td>\n",
       "      <td>Annual</td>\n",
       "      <td>8.63</td>\n",
       "      <td>0.024</td>\n",
       "      <td>All days</td>\n",
       "      <td>15 years and over</td>\n",
       "      <td>Sleeping</td>\n",
       "      <td>Both</td>\n",
       "    </tr>\n",
       "    <tr>\n",
       "      <th>4</th>\n",
       "      <td>2007</td>\n",
       "      <td>Annual</td>\n",
       "      <td>8.57</td>\n",
       "      <td>0.024</td>\n",
       "      <td>All days</td>\n",
       "      <td>15 years and over</td>\n",
       "      <td>Sleeping</td>\n",
       "      <td>Both</td>\n",
       "    </tr>\n",
       "    <tr>\n",
       "      <th>...</th>\n",
       "      <td>...</td>\n",
       "      <td>...</td>\n",
       "      <td>...</td>\n",
       "      <td>...</td>\n",
       "      <td>...</td>\n",
       "      <td>...</td>\n",
       "      <td>...</td>\n",
       "      <td>...</td>\n",
       "    </tr>\n",
       "    <tr>\n",
       "      <th>940</th>\n",
       "      <td>2013</td>\n",
       "      <td>Annual</td>\n",
       "      <td>8.83</td>\n",
       "      <td>0.085</td>\n",
       "      <td>Nonholiday weekdays</td>\n",
       "      <td>65 years and over</td>\n",
       "      <td>Sleeping</td>\n",
       "      <td>Women</td>\n",
       "    </tr>\n",
       "    <tr>\n",
       "      <th>941</th>\n",
       "      <td>2014</td>\n",
       "      <td>Annual</td>\n",
       "      <td>8.98</td>\n",
       "      <td>0.086</td>\n",
       "      <td>Nonholiday weekdays</td>\n",
       "      <td>65 years and over</td>\n",
       "      <td>Sleeping</td>\n",
       "      <td>Women</td>\n",
       "    </tr>\n",
       "    <tr>\n",
       "      <th>942</th>\n",
       "      <td>2015</td>\n",
       "      <td>Annual</td>\n",
       "      <td>8.83</td>\n",
       "      <td>0.074</td>\n",
       "      <td>Nonholiday weekdays</td>\n",
       "      <td>65 years and over</td>\n",
       "      <td>Sleeping</td>\n",
       "      <td>Women</td>\n",
       "    </tr>\n",
       "    <tr>\n",
       "      <th>943</th>\n",
       "      <td>2016</td>\n",
       "      <td>Annual</td>\n",
       "      <td>8.92</td>\n",
       "      <td>0.071</td>\n",
       "      <td>Nonholiday weekdays</td>\n",
       "      <td>65 years and over</td>\n",
       "      <td>Sleeping</td>\n",
       "      <td>Women</td>\n",
       "    </tr>\n",
       "    <tr>\n",
       "      <th>944</th>\n",
       "      <td>2017</td>\n",
       "      <td>Annual</td>\n",
       "      <td>8.81</td>\n",
       "      <td>0.091</td>\n",
       "      <td>Nonholiday weekdays</td>\n",
       "      <td>65 years and over</td>\n",
       "      <td>Sleeping</td>\n",
       "      <td>Women</td>\n",
       "    </tr>\n",
       "  </tbody>\n",
       "</table>\n",
       "<p>945 rows × 8 columns</p>\n",
       "</div>"
      ],
      "text/plain": [
       "     Year  Period  avg_hrs_day_sleeping  Standard Error         type_of_days  \\\n",
       "0    2003  Annual                  8.57           0.018             All days   \n",
       "1    2004  Annual                  8.55           0.026             All days   \n",
       "2    2005  Annual                  8.62           0.023             All days   \n",
       "3    2006  Annual                  8.63           0.024             All days   \n",
       "4    2007  Annual                  8.57           0.024             All days   \n",
       "..    ...     ...                   ...             ...                  ...   \n",
       "940  2013  Annual                  8.83           0.085  Nonholiday weekdays   \n",
       "941  2014  Annual                  8.98           0.086  Nonholiday weekdays   \n",
       "942  2015  Annual                  8.83           0.074  Nonholiday weekdays   \n",
       "943  2016  Annual                  8.92           0.071  Nonholiday weekdays   \n",
       "944  2017  Annual                  8.81           0.091  Nonholiday weekdays   \n",
       "\n",
       "             age_group  activity    sex  \n",
       "0    15 years and over  Sleeping   Both  \n",
       "1    15 years and over  Sleeping   Both  \n",
       "2    15 years and over  Sleeping   Both  \n",
       "3    15 years and over  Sleeping   Both  \n",
       "4    15 years and over  Sleeping   Both  \n",
       "..                 ...       ...    ...  \n",
       "940  65 years and over  Sleeping  Women  \n",
       "941  65 years and over  Sleeping  Women  \n",
       "942  65 years and over  Sleeping  Women  \n",
       "943  65 years and over  Sleeping  Women  \n",
       "944  65 years and over  Sleeping  Women  \n",
       "\n",
       "[945 rows x 8 columns]"
      ]
     },
     "metadata": {},
     "output_type": "display_data"
    }
   ],
   "source": [
    "display(tass_df)"
   ]
  },
  {
   "cell_type": "code",
   "execution_count": 6,
   "metadata": {
    "collapsed": false,
    "jupyter": {
     "outputs_hidden": false
    },
    "pycharm": {
     "name": "#%%\n"
    }
   },
   "outputs": [
    {
     "data": {
      "text/plain": [
       "Year                      int64\n",
       "Period                   object\n",
       "avg_hrs_day_sleeping    float64\n",
       "Standard Error          float64\n",
       "type_of_days             object\n",
       "age_group                object\n",
       "activity                 object\n",
       "sex                      object\n",
       "dtype: object"
      ]
     },
     "execution_count": 6,
     "metadata": {},
     "output_type": "execute_result"
    }
   ],
   "source": [
    "tass_df.dtypes"
   ]
  },
  {
   "cell_type": "code",
   "execution_count": 7,
   "metadata": {
    "collapsed": false,
    "jupyter": {
     "outputs_hidden": false
    },
    "pycharm": {
     "name": "#%%\n"
    }
   },
   "outputs": [],
   "source": [
    "total_t = tass_df.iloc[7:15,].set_index('Year')"
   ]
  },
  {
   "cell_type": "code",
   "execution_count": 8,
   "metadata": {
    "collapsed": false,
    "jupyter": {
     "outputs_hidden": false
    },
    "pycharm": {
     "name": "#%%\n"
    }
   },
   "outputs": [
    {
     "data": {
      "text/html": [
       "<div>\n",
       "<style scoped>\n",
       "    .dataframe tbody tr th:only-of-type {\n",
       "        vertical-align: middle;\n",
       "    }\n",
       "\n",
       "    .dataframe tbody tr th {\n",
       "        vertical-align: top;\n",
       "    }\n",
       "\n",
       "    .dataframe thead th {\n",
       "        text-align: right;\n",
       "    }\n",
       "</style>\n",
       "<table border=\"1\" class=\"dataframe\">\n",
       "  <thead>\n",
       "    <tr style=\"text-align: right;\">\n",
       "      <th></th>\n",
       "      <th>Period</th>\n",
       "      <th>avg_hrs_day_sleeping</th>\n",
       "      <th>Standard Error</th>\n",
       "      <th>type_of_days</th>\n",
       "      <th>age_group</th>\n",
       "      <th>activity</th>\n",
       "      <th>sex</th>\n",
       "    </tr>\n",
       "    <tr>\n",
       "      <th>Year</th>\n",
       "      <th></th>\n",
       "      <th></th>\n",
       "      <th></th>\n",
       "      <th></th>\n",
       "      <th></th>\n",
       "      <th></th>\n",
       "      <th></th>\n",
       "    </tr>\n",
       "  </thead>\n",
       "  <tbody>\n",
       "    <tr>\n",
       "      <th>2010</th>\n",
       "      <td>Annual</td>\n",
       "      <td>8.67</td>\n",
       "      <td>0.024</td>\n",
       "      <td>All days</td>\n",
       "      <td>15 years and over</td>\n",
       "      <td>Sleeping</td>\n",
       "      <td>Both</td>\n",
       "    </tr>\n",
       "    <tr>\n",
       "      <th>2011</th>\n",
       "      <td>Annual</td>\n",
       "      <td>8.71</td>\n",
       "      <td>0.026</td>\n",
       "      <td>All days</td>\n",
       "      <td>15 years and over</td>\n",
       "      <td>Sleeping</td>\n",
       "      <td>Both</td>\n",
       "    </tr>\n",
       "    <tr>\n",
       "      <th>2012</th>\n",
       "      <td>Annual</td>\n",
       "      <td>8.73</td>\n",
       "      <td>0.026</td>\n",
       "      <td>All days</td>\n",
       "      <td>15 years and over</td>\n",
       "      <td>Sleeping</td>\n",
       "      <td>Both</td>\n",
       "    </tr>\n",
       "    <tr>\n",
       "      <th>2013</th>\n",
       "      <td>Annual</td>\n",
       "      <td>8.74</td>\n",
       "      <td>0.027</td>\n",
       "      <td>All days</td>\n",
       "      <td>15 years and over</td>\n",
       "      <td>Sleeping</td>\n",
       "      <td>Both</td>\n",
       "    </tr>\n",
       "    <tr>\n",
       "      <th>2014</th>\n",
       "      <td>Annual</td>\n",
       "      <td>8.80</td>\n",
       "      <td>0.025</td>\n",
       "      <td>All days</td>\n",
       "      <td>15 years and over</td>\n",
       "      <td>Sleeping</td>\n",
       "      <td>Both</td>\n",
       "    </tr>\n",
       "    <tr>\n",
       "      <th>2015</th>\n",
       "      <td>Annual</td>\n",
       "      <td>8.83</td>\n",
       "      <td>0.027</td>\n",
       "      <td>All days</td>\n",
       "      <td>15 years and over</td>\n",
       "      <td>Sleeping</td>\n",
       "      <td>Both</td>\n",
       "    </tr>\n",
       "    <tr>\n",
       "      <th>2016</th>\n",
       "      <td>Annual</td>\n",
       "      <td>8.79</td>\n",
       "      <td>0.028</td>\n",
       "      <td>All days</td>\n",
       "      <td>15 years and over</td>\n",
       "      <td>Sleeping</td>\n",
       "      <td>Both</td>\n",
       "    </tr>\n",
       "    <tr>\n",
       "      <th>2017</th>\n",
       "      <td>Annual</td>\n",
       "      <td>8.80</td>\n",
       "      <td>0.027</td>\n",
       "      <td>All days</td>\n",
       "      <td>15 years and over</td>\n",
       "      <td>Sleeping</td>\n",
       "      <td>Both</td>\n",
       "    </tr>\n",
       "  </tbody>\n",
       "</table>\n",
       "</div>"
      ],
      "text/plain": [
       "      Period  avg_hrs_day_sleeping  Standard Error type_of_days  \\\n",
       "Year                                                              \n",
       "2010  Annual                  8.67           0.024     All days   \n",
       "2011  Annual                  8.71           0.026     All days   \n",
       "2012  Annual                  8.73           0.026     All days   \n",
       "2013  Annual                  8.74           0.027     All days   \n",
       "2014  Annual                  8.80           0.025     All days   \n",
       "2015  Annual                  8.83           0.027     All days   \n",
       "2016  Annual                  8.79           0.028     All days   \n",
       "2017  Annual                  8.80           0.027     All days   \n",
       "\n",
       "              age_group  activity   sex  \n",
       "Year                                     \n",
       "2010  15 years and over  Sleeping  Both  \n",
       "2011  15 years and over  Sleeping  Both  \n",
       "2012  15 years and over  Sleeping  Both  \n",
       "2013  15 years and over  Sleeping  Both  \n",
       "2014  15 years and over  Sleeping  Both  \n",
       "2015  15 years and over  Sleeping  Both  \n",
       "2016  15 years and over  Sleeping  Both  \n",
       "2017  15 years and over  Sleeping  Both  "
      ]
     },
     "execution_count": 8,
     "metadata": {},
     "output_type": "execute_result"
    }
   ],
   "source": [
    "total_t"
   ]
  },
  {
   "cell_type": "code",
   "execution_count": 9,
   "metadata": {
    "collapsed": false,
    "jupyter": {
     "outputs_hidden": false
    },
    "pycharm": {
     "name": "#%%\n"
    }
   },
   "outputs": [
    {
     "data": {
      "text/plain": [
       "array([2010, 2011, 2012, 2013, 2014, 2015, 2016, 2017, 2018, 2019])"
      ]
     },
     "execution_count": 9,
     "metadata": {},
     "output_type": "execute_result"
    }
   ],
   "source": [
    "index_df.index.values"
   ]
  },
  {
   "cell_type": "code",
   "execution_count": 10,
   "metadata": {
    "collapsed": false,
    "jupyter": {
     "outputs_hidden": false
    },
    "pycharm": {
     "name": "#%%\n"
    }
   },
   "outputs": [
    {
     "data": {
      "image/png": "[encoded data removed]",
      "text/plain": [
       "<Figure size 720x720 with 2 Axes>"
      ]
     },
     "metadata": {
      "needs_background": "light"
     },
     "output_type": "display_data"
    }
   ],
   "source": [
    "fig, ax = plt.subplots(figsize=(10,10))\n",
    "\n",
    "index_df.plot.line(ax = ax, cmap = 'gist_rainbow_r')\n",
    "ax.set_xlabel('Year')\n",
    "ax.set_ylabel('Index Value')\n",
    "\n",
    "bx = ax.twinx()\n",
    "total_t['avg_hrs_day_sleeping'].plot.line(ax = bx , linewidth = 3)\n",
    "bx.set_ylabel('Average Hours Sleeping')\n",
    "\n",
    "# ax.legend(['Index Value', 'Total TASS'], loc='upper right')\n",
    "bx.legend(['Average Hours Sleeping'], loc='upper left')\n",
    "ax.set_ylim(0.6,1)\n",
    "bx.set_ylim(8,9.5)\n",
    "ax.set_xticks(index_df.index)\n",
    "fig.tight_layout()\n"
   ]
  },
  {
   "cell_type": "code",
   "execution_count": null,
   "metadata": {
    "collapsed": false,
    "jupyter": {
     "outputs_hidden": false
    },
    "pycharm": {
     "name": "#%%\n"
    }
   },
   "outputs": [],
   "source": []
  },
  {
   "cell_type": "code",
   "execution_count": null,
   "metadata": {
    "collapsed": false,
    "jupyter": {
     "outputs_hidden": false
    },
    "pycharm": {
     "name": "#%%\n"
    }
   },
   "outputs": [],
   "source": []
  },
  {
   "cell_type": "code",
   "execution_count": null,
   "metadata": {},
   "outputs": [],
   "source": []
  }
 ],
 "metadata": {
  "kernelspec": {
   "display_name": "Python 3",
   "language": "python",
   "name": "python3"
  },
  "language_info": {
   "codemirror_mode": {
    "name": "ipython",
    "version": 3
   },
   "file_extension": ".py",
   "mimetype": "text/x-python",
   "name": "python",
   "nbconvert_exporter": "python",
   "pygments_lexer": "ipython3",
   "version": "3.8.8"
  }
 },
 "nbformat": 4,
 "nbformat_minor": 4
}
