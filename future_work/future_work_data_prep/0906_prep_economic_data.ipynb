{
 "cells": [
  {
   "cell_type": "markdown",
   "metadata": {
    "pycharm": {
     "name": "#%% md\n"
    }
   },
   "source": []
  },
  {
   "cell_type": "markdown",
   "metadata": {
    "pycharm": {
     "name": "#%% md\n"
    }
   },
   "source": [
    "## How Does Economic Health Affect People’s Sleep?\n",
    "***"
   ]
  },
  {
   "cell_type": "markdown",
   "metadata": {},
   "source": [
    "## Imports"
   ]
  },
  {
   "cell_type": "code",
   "execution_count": 1,
   "metadata": {
    "tags": []
   },
   "outputs": [],
   "source": [
    "import pandas as pd\n",
    "import numpy as np"
   ]
  },
  {
   "cell_type": "markdown",
   "metadata": {
    "pycharm": {
     "name": "#%% md\n"
    }
   },
   "source": [
    "First we import the education data from the data_file."
   ]
  },
  {
   "cell_type": "code",
   "execution_count": 2,
   "metadata": {
    "collapsed": false,
    "jupyter": {
     "outputs_hidden": false
    },
    "pycharm": {
     "name": "#%%\n"
    }
   },
   "outputs": [],
   "source": [
    "education_df = pd.DataFrame()\n",
    "hdi_df = pd.DataFrame()\n",
    "inequality_df = pd.DataFrame()\n",
    "finance_df = pd.DataFrame()\n",
    "income_df = pd.DataFrame()\n",
    "employment_df =  pd.DataFrame()"
   ]
  },
  {
   "cell_type": "code",
   "execution_count": 3,
   "metadata": {
    "collapsed": false,
    "jupyter": {
     "outputs_hidden": false
    },
    "pycharm": {
     "name": "#%%\n"
    }
   },
   "outputs": [],
   "source": [
    "def load_dataframe_merge(category_df, dataset_category, dataset, col_drop):\n",
    "\n",
    "    loc = '../data_file/raw_data_csv/economic_impact_datasets/' + dataset_category + '/' + dataset +'.csv'\n",
    "    df = pd.read_csv(loc,encoding='cp1252', skiprows=col_drop)\n",
    "\n",
    "    df = df.loc[df['Country'] == ' United States']\n",
    "    df = df.T\n",
    "    df = df.dropna()\n",
    "\n",
    "    df.rename(columns = {df.columns[0]: dataset}, inplace=True)\n",
    "\n",
    "    category_df = pd.concat([category_df, df], axis=1)\n",
    "    return category_df\n"
   ]
  },
  {
   "cell_type": "code",
   "execution_count": 4,
   "metadata": {
    "collapsed": false,
    "jupyter": {
     "outputs_hidden": false
    },
    "pycharm": {
     "name": "#%%\n"
    }
   },
   "outputs": [],
   "source": [
    "def convert_type(df, iloc_begin, iloc_end):\n",
    "    # convert all types in index_df to float\n",
    "\n",
    "    df = df.iloc[iloc_begin:iloc_end]\n",
    "\n",
    "    df = df.T\n",
    "    df.columns = df.columns.astype(int)\n",
    "    df = df.T\n",
    "    df = df.apply(lambda x: pd.to_numeric(x, errors='coerce'))\n",
    "    return df"
   ]
  },
  {
   "cell_type": "code",
   "execution_count": 5,
   "metadata": {
    "collapsed": false,
    "jupyter": {
     "outputs_hidden": false
    },
    "pycharm": {
     "name": "#%%\n"
    }
   },
   "outputs": [
    {
     "data": {
      "text/html": [
       "<div>\n",
       "<style scoped>\n",
       "    .dataframe tbody tr th:only-of-type {\n",
       "        vertical-align: middle;\n",
       "    }\n",
       "\n",
       "    .dataframe tbody tr th {\n",
       "        vertical-align: top;\n",
       "    }\n",
       "\n",
       "    .dataframe thead th {\n",
       "        text-align: right;\n",
       "    }\n",
       "</style>\n",
       "<table border=\"1\" class=\"dataframe\">\n",
       "  <thead>\n",
       "    <tr style=\"text-align: right;\">\n",
       "      <th></th>\n",
       "      <th>education_index</th>\n",
       "      <th>expected_years_of_schooling</th>\n",
       "      <th>gross_enrolment_ratio_pre-primary</th>\n",
       "      <th>gross_enrolment_ratio_primary</th>\n",
       "      <th>gross_enrolment_ratio_secondary</th>\n",
       "      <th>gross_enrolment_ratio_tertiary</th>\n",
       "    </tr>\n",
       "  </thead>\n",
       "  <tbody>\n",
       "    <tr>\n",
       "      <th>2010</th>\n",
       "      <td>0.892</td>\n",
       "      <td>16.2</td>\n",
       "      <td>70.0</td>\n",
       "      <td>100.0</td>\n",
       "      <td>95.0</td>\n",
       "      <td>93.0</td>\n",
       "    </tr>\n",
       "    <tr>\n",
       "      <th>2011</th>\n",
       "      <td>0.897</td>\n",
       "      <td>16.3</td>\n",
       "      <td>70.0</td>\n",
       "      <td>99.0</td>\n",
       "      <td>96.0</td>\n",
       "      <td>94.0</td>\n",
       "    </tr>\n",
       "    <tr>\n",
       "      <th>2012</th>\n",
       "      <td>0.898</td>\n",
       "      <td>16.3</td>\n",
       "      <td>71.0</td>\n",
       "      <td>99.0</td>\n",
       "      <td>96.0</td>\n",
       "      <td>93.0</td>\n",
       "    </tr>\n",
       "    <tr>\n",
       "      <th>2013</th>\n",
       "      <td>0.891</td>\n",
       "      <td>16.1</td>\n",
       "      <td>72.0</td>\n",
       "      <td>99.0</td>\n",
       "      <td>96.0</td>\n",
       "      <td>89.0</td>\n",
       "    </tr>\n",
       "    <tr>\n",
       "      <th>2014</th>\n",
       "      <td>0.892</td>\n",
       "      <td>16.1</td>\n",
       "      <td>73.0</td>\n",
       "      <td>100.0</td>\n",
       "      <td>97.0</td>\n",
       "      <td>89.0</td>\n",
       "    </tr>\n",
       "    <tr>\n",
       "      <th>2015</th>\n",
       "      <td>0.893</td>\n",
       "      <td>16.2</td>\n",
       "      <td>72.0</td>\n",
       "      <td>100.0</td>\n",
       "      <td>98.0</td>\n",
       "      <td>89.0</td>\n",
       "    </tr>\n",
       "    <tr>\n",
       "      <th>2016</th>\n",
       "      <td>0.896</td>\n",
       "      <td>16.3</td>\n",
       "      <td>72.0</td>\n",
       "      <td>101.0</td>\n",
       "      <td>99.0</td>\n",
       "      <td>89.0</td>\n",
       "    </tr>\n",
       "    <tr>\n",
       "      <th>2017</th>\n",
       "      <td>0.899</td>\n",
       "      <td>16.3</td>\n",
       "      <td>73.0</td>\n",
       "      <td>102.0</td>\n",
       "      <td>99.0</td>\n",
       "      <td>88.0</td>\n",
       "    </tr>\n",
       "    <tr>\n",
       "      <th>2018</th>\n",
       "      <td>0.899</td>\n",
       "      <td>16.3</td>\n",
       "      <td>NaN</td>\n",
       "      <td>NaN</td>\n",
       "      <td>NaN</td>\n",
       "      <td>NaN</td>\n",
       "    </tr>\n",
       "    <tr>\n",
       "      <th>2019</th>\n",
       "      <td>0.900</td>\n",
       "      <td>16.3</td>\n",
       "      <td>NaN</td>\n",
       "      <td>NaN</td>\n",
       "      <td>NaN</td>\n",
       "      <td>NaN</td>\n",
       "    </tr>\n",
       "  </tbody>\n",
       "</table>\n",
       "</div>"
      ],
      "text/plain": [
       "      education_index  expected_years_of_schooling  \\\n",
       "2010            0.892                         16.2   \n",
       "2011            0.897                         16.3   \n",
       "2012            0.898                         16.3   \n",
       "2013            0.891                         16.1   \n",
       "2014            0.892                         16.1   \n",
       "2015            0.893                         16.2   \n",
       "2016            0.896                         16.3   \n",
       "2017            0.899                         16.3   \n",
       "2018            0.899                         16.3   \n",
       "2019            0.900                         16.3   \n",
       "\n",
       "      gross_enrolment_ratio_pre-primary  gross_enrolment_ratio_primary  \\\n",
       "2010                               70.0                          100.0   \n",
       "2011                               70.0                           99.0   \n",
       "2012                               71.0                           99.0   \n",
       "2013                               72.0                           99.0   \n",
       "2014                               73.0                          100.0   \n",
       "2015                               72.0                          100.0   \n",
       "2016                               72.0                          101.0   \n",
       "2017                               73.0                          102.0   \n",
       "2018                                NaN                            NaN   \n",
       "2019                                NaN                            NaN   \n",
       "\n",
       "      gross_enrolment_ratio_secondary  gross_enrolment_ratio_tertiary  \n",
       "2010                             95.0                            93.0  \n",
       "2011                             96.0                            94.0  \n",
       "2012                             96.0                            93.0  \n",
       "2013                             96.0                            89.0  \n",
       "2014                             97.0                            89.0  \n",
       "2015                             98.0                            89.0  \n",
       "2016                             99.0                            89.0  \n",
       "2017                             99.0                            88.0  \n",
       "2018                              NaN                             NaN  \n",
       "2019                              NaN                             NaN  "
      ]
     },
     "metadata": {},
     "output_type": "display_data"
    }
   ],
   "source": [
    "education_file_list = ['expected_years_of_schooling', 'gross_enrolment_ratio_pre-primary', 'gross_enrolment_ratio_primary',\n",
    "                       'gross_enrolment_ratio_secondary', 'gross_enrolment_ratio_tertiary']\n",
    "education_df = load_dataframe_merge(education_df, 'education_datasets', 'education_index', 5)\n",
    "for i in range(len(education_file_list)):\n",
    "    education_df = load_dataframe_merge(education_df, 'education_datasets', education_file_list[i], 6)\n",
    "education_df=convert_type(education_df, 22, -3)\n",
    "display(education_df)"
   ]
  },
  {
   "cell_type": "code",
   "execution_count": 6,
   "metadata": {
    "collapsed": false,
    "jupyter": {
     "outputs_hidden": false
    },
    "pycharm": {
     "name": "#%%\n"
    }
   },
   "outputs": [
    {
     "data": {
      "text/html": [
       "<div>\n",
       "<style scoped>\n",
       "    .dataframe tbody tr th:only-of-type {\n",
       "        vertical-align: middle;\n",
       "    }\n",
       "\n",
       "    .dataframe tbody tr th {\n",
       "        vertical-align: top;\n",
       "    }\n",
       "\n",
       "    .dataframe thead th {\n",
       "        text-align: right;\n",
       "    }\n",
       "</style>\n",
       "<table border=\"1\" class=\"dataframe\">\n",
       "  <thead>\n",
       "    <tr style=\"text-align: right;\">\n",
       "      <th></th>\n",
       "      <th>human_development_index</th>\n",
       "    </tr>\n",
       "  </thead>\n",
       "  <tbody>\n",
       "    <tr>\n",
       "      <th>2010</th>\n",
       "      <td>0.916</td>\n",
       "    </tr>\n",
       "    <tr>\n",
       "      <th>2011</th>\n",
       "      <td>0.919</td>\n",
       "    </tr>\n",
       "    <tr>\n",
       "      <th>2012</th>\n",
       "      <td>0.920</td>\n",
       "    </tr>\n",
       "    <tr>\n",
       "      <th>2013</th>\n",
       "      <td>0.918</td>\n",
       "    </tr>\n",
       "    <tr>\n",
       "      <th>2014</th>\n",
       "      <td>0.920</td>\n",
       "    </tr>\n",
       "    <tr>\n",
       "      <th>2015</th>\n",
       "      <td>0.921</td>\n",
       "    </tr>\n",
       "    <tr>\n",
       "      <th>2016</th>\n",
       "      <td>0.922</td>\n",
       "    </tr>\n",
       "    <tr>\n",
       "      <th>2017</th>\n",
       "      <td>0.924</td>\n",
       "    </tr>\n",
       "    <tr>\n",
       "      <th>2018</th>\n",
       "      <td>0.925</td>\n",
       "    </tr>\n",
       "    <tr>\n",
       "      <th>2019</th>\n",
       "      <td>0.926</td>\n",
       "    </tr>\n",
       "  </tbody>\n",
       "</table>\n",
       "</div>"
      ],
      "text/plain": [
       "      human_development_index\n",
       "2010                    0.916\n",
       "2011                    0.919\n",
       "2012                    0.920\n",
       "2013                    0.918\n",
       "2014                    0.920\n",
       "2015                    0.921\n",
       "2016                    0.922\n",
       "2017                    0.924\n",
       "2018                    0.925\n",
       "2019                    0.926"
      ]
     },
     "metadata": {},
     "output_type": "display_data"
    }
   ],
   "source": [
    "hdi_df = load_dataframe_merge(hdi_df, 'hdi_dataset', 'human_development_index', 5)\n",
    "hdi_df=convert_type(hdi_df, 22, len(hdi_df))\n",
    "display(hdi_df)"
   ]
  },
  {
   "cell_type": "code",
   "execution_count": 7,
   "metadata": {
    "collapsed": false,
    "jupyter": {
     "outputs_hidden": false
    },
    "pycharm": {
     "name": "#%%\n"
    }
   },
   "outputs": [
    {
     "data": {
      "text/html": [
       "<div>\n",
       "<style scoped>\n",
       "    .dataframe tbody tr th:only-of-type {\n",
       "        vertical-align: middle;\n",
       "    }\n",
       "\n",
       "    .dataframe tbody tr th {\n",
       "        vertical-align: top;\n",
       "    }\n",
       "\n",
       "    .dataframe thead th {\n",
       "        text-align: right;\n",
       "    }\n",
       "</style>\n",
       "<table border=\"1\" class=\"dataframe\">\n",
       "  <thead>\n",
       "    <tr style=\"text-align: right;\">\n",
       "      <th></th>\n",
       "      <th>inequality_adjusted_education_index</th>\n",
       "      <th>inequality_adjusted_hdi</th>\n",
       "      <th>inequality_adjusted_income_index</th>\n",
       "    </tr>\n",
       "  </thead>\n",
       "  <tbody>\n",
       "    <tr>\n",
       "      <th>2010</th>\n",
       "      <td>0.864</td>\n",
       "      <td>0.812</td>\n",
       "      <td>0.730</td>\n",
       "    </tr>\n",
       "    <tr>\n",
       "      <th>2011</th>\n",
       "      <td>0.864</td>\n",
       "      <td>0.778</td>\n",
       "      <td>0.646</td>\n",
       "    </tr>\n",
       "    <tr>\n",
       "      <th>2012</th>\n",
       "      <td>0.851</td>\n",
       "      <td>0.806</td>\n",
       "      <td>0.727</td>\n",
       "    </tr>\n",
       "    <tr>\n",
       "      <th>2013</th>\n",
       "      <td>0.831</td>\n",
       "      <td>0.759</td>\n",
       "      <td>0.618</td>\n",
       "    </tr>\n",
       "    <tr>\n",
       "      <th>2014</th>\n",
       "      <td>0.844</td>\n",
       "      <td>0.763</td>\n",
       "      <td>0.620</td>\n",
       "    </tr>\n",
       "    <tr>\n",
       "      <th>2015</th>\n",
       "      <td>0.843</td>\n",
       "      <td>0.796</td>\n",
       "      <td>0.705</td>\n",
       "    </tr>\n",
       "    <tr>\n",
       "      <th>2016</th>\n",
       "      <td>0.846</td>\n",
       "      <td>0.799</td>\n",
       "      <td>0.705</td>\n",
       "    </tr>\n",
       "    <tr>\n",
       "      <th>2017</th>\n",
       "      <td>0.850</td>\n",
       "      <td>0.797</td>\n",
       "      <td>0.697</td>\n",
       "    </tr>\n",
       "    <tr>\n",
       "      <th>2018</th>\n",
       "      <td>0.849</td>\n",
       "      <td>0.801</td>\n",
       "      <td>0.714</td>\n",
       "    </tr>\n",
       "    <tr>\n",
       "      <th>2019</th>\n",
       "      <td>0.875</td>\n",
       "      <td>0.808</td>\n",
       "      <td>0.711</td>\n",
       "    </tr>\n",
       "  </tbody>\n",
       "</table>\n",
       "</div>"
      ],
      "text/plain": [
       "      inequality_adjusted_education_index  inequality_adjusted_hdi  \\\n",
       "2010                                0.864                    0.812   \n",
       "2011                                0.864                    0.778   \n",
       "2012                                0.851                    0.806   \n",
       "2013                                0.831                    0.759   \n",
       "2014                                0.844                    0.763   \n",
       "2015                                0.843                    0.796   \n",
       "2016                                0.846                    0.799   \n",
       "2017                                0.850                    0.797   \n",
       "2018                                0.849                    0.801   \n",
       "2019                                0.875                    0.808   \n",
       "\n",
       "      inequality_adjusted_income_index  \n",
       "2010                             0.730  \n",
       "2011                             0.646  \n",
       "2012                             0.727  \n",
       "2013                             0.618  \n",
       "2014                             0.620  \n",
       "2015                             0.705  \n",
       "2016                             0.705  \n",
       "2017                             0.697  \n",
       "2018                             0.714  \n",
       "2019                             0.711  "
      ]
     },
     "metadata": {},
     "output_type": "display_data"
    }
   ],
   "source": [
    "inequality_file_list = ['inequality_adjusted_education_index', 'inequality_adjusted_hdi', 'inequality_adjusted_income_index']\n",
    "for i in range(len(inequality_file_list)):\n",
    "    inequality_df = load_dataframe_merge(inequality_df, 'inequality_datasets', inequality_file_list[i], 5)\n",
    "inequality_df = convert_type(inequality_df, 2, len(inequality_df))\n",
    "display(inequality_df)"
   ]
  },
  {
   "cell_type": "code",
   "execution_count": 8,
   "metadata": {},
   "outputs": [
    {
     "data": {
      "text/html": [
       "<div>\n",
       "<style scoped>\n",
       "    .dataframe tbody tr th:only-of-type {\n",
       "        vertical-align: middle;\n",
       "    }\n",
       "\n",
       "    .dataframe tbody tr th {\n",
       "        vertical-align: top;\n",
       "    }\n",
       "\n",
       "    .dataframe thead th {\n",
       "        text-align: right;\n",
       "    }\n",
       "</style>\n",
       "<table border=\"1\" class=\"dataframe\">\n",
       "  <thead>\n",
       "    <tr style=\"text-align: right;\">\n",
       "      <th></th>\n",
       "      <th>employment_%</th>\n",
       "      <th>unemployed_%</th>\n",
       "    </tr>\n",
       "  </thead>\n",
       "  <tbody>\n",
       "    <tr>\n",
       "      <th>2010</th>\n",
       "      <td>63.6</td>\n",
       "      <td>9.6</td>\n",
       "    </tr>\n",
       "    <tr>\n",
       "      <th>2011</th>\n",
       "      <td>63.0</td>\n",
       "      <td>8.9</td>\n",
       "    </tr>\n",
       "    <tr>\n",
       "      <th>2012</th>\n",
       "      <td>63.0</td>\n",
       "      <td>8.1</td>\n",
       "    </tr>\n",
       "    <tr>\n",
       "      <th>2013</th>\n",
       "      <td>62.5</td>\n",
       "      <td>7.4</td>\n",
       "    </tr>\n",
       "    <tr>\n",
       "      <th>2014</th>\n",
       "      <td>62.2</td>\n",
       "      <td>6.2</td>\n",
       "    </tr>\n",
       "    <tr>\n",
       "      <th>2015</th>\n",
       "      <td>62.0</td>\n",
       "      <td>5.3</td>\n",
       "    </tr>\n",
       "    <tr>\n",
       "      <th>2016</th>\n",
       "      <td>62.2</td>\n",
       "      <td>4.9</td>\n",
       "    </tr>\n",
       "    <tr>\n",
       "      <th>2017</th>\n",
       "      <td>62.3</td>\n",
       "      <td>4.4</td>\n",
       "    </tr>\n",
       "    <tr>\n",
       "      <th>2018</th>\n",
       "      <td>62.3</td>\n",
       "      <td>3.9</td>\n",
       "    </tr>\n",
       "    <tr>\n",
       "      <th>2019</th>\n",
       "      <td>62.0</td>\n",
       "      <td>3.7</td>\n",
       "    </tr>\n",
       "  </tbody>\n",
       "</table>\n",
       "</div>"
      ],
      "text/plain": [
       "      employment_%  unemployed_%\n",
       "2010          63.6           9.6\n",
       "2011          63.0           8.9\n",
       "2012          63.0           8.1\n",
       "2013          62.5           7.4\n",
       "2014          62.2           6.2\n",
       "2015          62.0           5.3\n",
       "2016          62.2           4.9\n",
       "2017          62.3           4.4\n",
       "2018          62.3           3.9\n",
       "2019          62.0           3.7"
      ]
     },
     "metadata": {},
     "output_type": "display_data"
    }
   ],
   "source": [
    "employment_df = load_dataframe_merge(employment_df, 'employment_datasets', 'employment_%', 5)\n",
    "employment_df = load_dataframe_merge(employment_df, 'employment_datasets', 'unemployed_%', 6)\n",
    "employment_df = convert_type(employment_df, 6, -2)\n",
    "display(employment_df)"
   ]
  },
  {
   "cell_type": "code",
   "execution_count": 9,
   "metadata": {},
   "outputs": [
    {
     "data": {
      "text/html": [
       "<div>\n",
       "<style scoped>\n",
       "    .dataframe tbody tr th:only-of-type {\n",
       "        vertical-align: middle;\n",
       "    }\n",
       "\n",
       "    .dataframe tbody tr th {\n",
       "        vertical-align: top;\n",
       "    }\n",
       "\n",
       "    .dataframe thead th {\n",
       "        text-align: right;\n",
       "    }\n",
       "</style>\n",
       "<table border=\"1\" class=\"dataframe\">\n",
       "  <thead>\n",
       "    <tr style=\"text-align: right;\">\n",
       "      <th></th>\n",
       "      <th>foreign_direct_investment</th>\n",
       "      <th>private_capital_flow</th>\n",
       "    </tr>\n",
       "  </thead>\n",
       "  <tbody>\n",
       "    <tr>\n",
       "      <th>2010</th>\n",
       "      <td>1.8</td>\n",
       "      <td>-3.6</td>\n",
       "    </tr>\n",
       "    <tr>\n",
       "      <th>2011</th>\n",
       "      <td>1.7</td>\n",
       "      <td>-0.3</td>\n",
       "    </tr>\n",
       "    <tr>\n",
       "      <th>2012</th>\n",
       "      <td>1.5</td>\n",
       "      <td>-2.3</td>\n",
       "    </tr>\n",
       "    <tr>\n",
       "      <th>2013</th>\n",
       "      <td>1.7</td>\n",
       "      <td>0.4</td>\n",
       "    </tr>\n",
       "    <tr>\n",
       "      <th>2014</th>\n",
       "      <td>1.4</td>\n",
       "      <td>0.1</td>\n",
       "    </tr>\n",
       "    <tr>\n",
       "      <th>2015</th>\n",
       "      <td>2.8</td>\n",
       "      <td>-1.4</td>\n",
       "    </tr>\n",
       "    <tr>\n",
       "      <th>2016</th>\n",
       "      <td>2.6</td>\n",
       "      <td>-2.0</td>\n",
       "    </tr>\n",
       "    <tr>\n",
       "      <th>2017</th>\n",
       "      <td>1.8</td>\n",
       "      <td>-1.0</td>\n",
       "    </tr>\n",
       "    <tr>\n",
       "      <th>2018</th>\n",
       "      <td>1.3</td>\n",
       "      <td>-1.6</td>\n",
       "    </tr>\n",
       "    <tr>\n",
       "      <th>2019</th>\n",
       "      <td>1.5</td>\n",
       "      <td>-1.4</td>\n",
       "    </tr>\n",
       "  </tbody>\n",
       "</table>\n",
       "</div>"
      ],
      "text/plain": [
       "      foreign_direct_investment  private_capital_flow\n",
       "2010                        1.8                  -3.6\n",
       "2011                        1.7                  -0.3\n",
       "2012                        1.5                  -2.3\n",
       "2013                        1.7                   0.4\n",
       "2014                        1.4                   0.1\n",
       "2015                        2.8                  -1.4\n",
       "2016                        2.6                  -2.0\n",
       "2017                        1.8                  -1.0\n",
       "2018                        1.3                  -1.6\n",
       "2019                        1.5                  -1.4"
      ]
     },
     "execution_count": 9,
     "metadata": {},
     "output_type": "execute_result"
    }
   ],
   "source": [
    "finance_df = load_dataframe_merge(finance_df, 'finance_datasets', 'foreign_direct_investment', 6)\n",
    "finance_df = load_dataframe_merge(finance_df, 'finance_datasets', 'private_capital_flow', 5)\n",
    "finance_df = convert_type(finance_df, 6, -3)\n",
    "finance_df"
   ]
  },
  {
   "cell_type": "code",
   "execution_count": 10,
   "metadata": {},
   "outputs": [
    {
     "data": {
      "text/html": [
       "<div>\n",
       "<style scoped>\n",
       "    .dataframe tbody tr th:only-of-type {\n",
       "        vertical-align: middle;\n",
       "    }\n",
       "\n",
       "    .dataframe tbody tr th {\n",
       "        vertical-align: top;\n",
       "    }\n",
       "\n",
       "    .dataframe thead th {\n",
       "        text-align: right;\n",
       "    }\n",
       "</style>\n",
       "<table border=\"1\" class=\"dataframe\">\n",
       "  <thead>\n",
       "    <tr style=\"text-align: right;\">\n",
       "      <th></th>\n",
       "      <th>GNI</th>\n",
       "      <th>GDP</th>\n",
       "    </tr>\n",
       "  </thead>\n",
       "  <tbody>\n",
       "    <tr>\n",
       "      <th>2010</th>\n",
       "      <td>55421</td>\n",
       "      <td>16838.6</td>\n",
       "    </tr>\n",
       "    <tr>\n",
       "      <th>2011</th>\n",
       "      <td>55992</td>\n",
       "      <td>17099.7</td>\n",
       "    </tr>\n",
       "    <tr>\n",
       "      <th>2012</th>\n",
       "      <td>56790</td>\n",
       "      <td>17484.4</td>\n",
       "    </tr>\n",
       "    <tr>\n",
       "      <th>2013</th>\n",
       "      <td>57409</td>\n",
       "      <td>17806.5</td>\n",
       "    </tr>\n",
       "    <tr>\n",
       "      <th>2014</th>\n",
       "      <td>58393</td>\n",
       "      <td>18243.1</td>\n",
       "    </tr>\n",
       "    <tr>\n",
       "      <th>2015</th>\n",
       "      <td>59559</td>\n",
       "      <td>18768.6</td>\n",
       "    </tr>\n",
       "    <tr>\n",
       "      <th>2016</th>\n",
       "      <td>60024</td>\n",
       "      <td>19062.8</td>\n",
       "    </tr>\n",
       "    <tr>\n",
       "      <th>2017</th>\n",
       "      <td>61019</td>\n",
       "      <td>19485.4</td>\n",
       "    </tr>\n",
       "    <tr>\n",
       "      <th>2018</th>\n",
       "      <td>62667</td>\n",
       "      <td>20105.8</td>\n",
       "    </tr>\n",
       "    <tr>\n",
       "      <th>2019</th>\n",
       "      <td>63826</td>\n",
       "      <td>20575.0</td>\n",
       "    </tr>\n",
       "  </tbody>\n",
       "</table>\n",
       "</div>"
      ],
      "text/plain": [
       "        GNI      GDP\n",
       "2010  55421  16838.6\n",
       "2011  55992  17099.7\n",
       "2012  56790  17484.4\n",
       "2013  57409  17806.5\n",
       "2014  58393  18243.1\n",
       "2015  59559  18768.6\n",
       "2016  60024  19062.8\n",
       "2017  61019  19485.4\n",
       "2018  62667  20105.8\n",
       "2019  63826  20575.0"
      ]
     },
     "execution_count": 10,
     "metadata": {},
     "output_type": "execute_result"
    }
   ],
   "source": [
    "income_df = load_dataframe_merge(income_df, 'income_datasets', 'GNI', 6)\n",
    "income_df = load_dataframe_merge(income_df, 'income_datasets', 'GDP', 5)\n",
    "income_df = convert_type(income_df, 22, len(income_df))\n",
    "income_df"
   ]
  },
  {
   "cell_type": "code",
   "execution_count": 11,
   "metadata": {
    "collapsed": false,
    "jupyter": {
     "outputs_hidden": false
    },
    "pycharm": {
     "name": "#%%\n"
    }
   },
   "outputs": [],
   "source": [
    "index_df = pd.concat([education_df['education_index'], hdi_df['human_development_index'], inequality_df['inequality_adjusted_education_index'], inequality_df['inequality_adjusted_hdi'], inequality_df['inequality_adjusted_income_index']], axis=1)"
   ]
  },
  {
   "cell_type": "code",
   "execution_count": 12,
   "metadata": {
    "collapsed": false,
    "jupyter": {
     "outputs_hidden": false
    },
    "pycharm": {
     "name": "#%%\n"
    }
   },
   "outputs": [],
   "source": [
    "finance_df.to_pickle('../data_file/cleaned_data_pickle/finance.pickle')\n",
    "employment_df.to_pickle('../data_file/cleaned_data_pickle/employment.pickle')\n",
    "income_df.to_pickle('../data_file/cleaned_data_pickle/income.pickle')"
   ]
  },
  {
   "cell_type": "code",
   "execution_count": 13,
   "metadata": {
    "pycharm": {
     "name": "#%%\n"
    }
   },
   "outputs": [],
   "source": [
    "index_df.to_pickle('../data_file/cleaned_data_pickle/index.pickle')\n",
    "education_df.to_pickle('../data_file/cleaned_data_pickle/education.pickle')\n",
    "hdi_df.to_pickle('../data_file/cleaned_data_pickle/hdi.pickle')\n",
    "inequality_df.to_pickle('../data_file/cleaned_data_pickle/inequality.pickle')"
   ]
  },
  {
   "cell_type": "code",
   "execution_count": null,
   "metadata": {},
   "outputs": [],
   "source": []
  },
  {
   "cell_type": "code",
   "execution_count": null,
   "metadata": {},
   "outputs": [],
   "source": []
  }
 ],
 "metadata": {
  "kernelspec": {
   "display_name": "Python 3",
   "language": "python",
   "name": "python3"
  },
  "language_info": {
   "codemirror_mode": {
    "name": "ipython",
    "version": 3
   },
   "file_extension": ".py",
   "mimetype": "text/x-python",
   "name": "python",
   "nbconvert_exporter": "python",
   "pygments_lexer": "ipython3",
   "version": "3.8.8"
  }
 },
 "nbformat": 4,
 "nbformat_minor": 4
}
