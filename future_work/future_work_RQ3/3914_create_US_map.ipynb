{
 "cells": [
  {
   "cell_type": "markdown",
   "id": "be4f6351-7148-423e-aea4-e0fb6939f7ca",
   "metadata": {},
   "source": [
    "# Are people a good judge of their own sleep and health?\n",
    "***\n",
    "# Create US Map"
   ]
  },
  {
   "cell_type": "code",
   "execution_count": 1,
   "id": "da857676-1af3-4e5f-9323-64785553d7ff",
   "metadata": {},
   "outputs": [
    {
     "ename": "ModuleNotFoundError",
     "evalue": "No module named 'geopandas'",
     "output_type": "error",
     "traceback": [
      "\u001B[1;31m---------------------------------------------------------------------------\u001B[0m",
      "\u001B[1;31mModuleNotFoundError\u001B[0m                       Traceback (most recent call last)",
      "\u001B[1;32m~\\AppData\\Local\\Temp/ipykernel_11520/3154468047.py\u001B[0m in \u001B[0;36m<module>\u001B[1;34m\u001B[0m\n\u001B[0;32m      1\u001B[0m \u001B[1;32mimport\u001B[0m \u001B[0mpandas\u001B[0m \u001B[1;32mas\u001B[0m \u001B[0mpd\u001B[0m\u001B[1;33m\u001B[0m\u001B[1;33m\u001B[0m\u001B[0m\n\u001B[0;32m      2\u001B[0m \u001B[1;32mimport\u001B[0m \u001B[0mmatplotlib\u001B[0m\u001B[1;33m.\u001B[0m\u001B[0mpyplot\u001B[0m \u001B[1;32mas\u001B[0m \u001B[0mplt\u001B[0m\u001B[1;33m\u001B[0m\u001B[1;33m\u001B[0m\u001B[0m\n\u001B[1;32m----> 3\u001B[1;33m \u001B[1;32mimport\u001B[0m \u001B[0mgeopandas\u001B[0m \u001B[1;32mas\u001B[0m \u001B[0mgpd\u001B[0m\u001B[1;33m\u001B[0m\u001B[1;33m\u001B[0m\u001B[0m\n\u001B[0m\u001B[0;32m      4\u001B[0m \u001B[1;32mfrom\u001B[0m \u001B[0mshapely\u001B[0m\u001B[1;33m.\u001B[0m\u001B[0mgeometry\u001B[0m \u001B[1;32mimport\u001B[0m \u001B[0mPoint\u001B[0m\u001B[1;33m,\u001B[0m \u001B[0mPolygon\u001B[0m\u001B[1;33m\u001B[0m\u001B[1;33m\u001B[0m\u001B[0m\n\u001B[0;32m      5\u001B[0m \u001B[0mget_ipython\u001B[0m\u001B[1;33m(\u001B[0m\u001B[1;33m)\u001B[0m\u001B[1;33m.\u001B[0m\u001B[0mrun_line_magic\u001B[0m\u001B[1;33m(\u001B[0m\u001B[1;34m'matplotlib'\u001B[0m\u001B[1;33m,\u001B[0m \u001B[1;34m'inline'\u001B[0m\u001B[1;33m)\u001B[0m\u001B[1;33m\u001B[0m\u001B[1;33m\u001B[0m\u001B[0m\n",
      "\u001B[1;31mModuleNotFoundError\u001B[0m: No module named 'geopandas'"
     ]
    }
   ],
   "source": [
    "import pandas as pd\n",
    "import matplotlib.pyplot as plt\n",
    "import geopandas as gpd\n",
    "from shapely.geometry import Point, Polygon\n",
    "%matplotlib inline"
   ]
  },
  {
   "cell_type": "markdown",
   "id": "75f279cc-321b-4576-82af-dfa35b054d95",
   "metadata": {},
   "source": [
    "Load in clean 2013 dataset to merge with shapefile"
   ]
  },
  {
   "cell_type": "code",
   "execution_count": null,
   "id": "7b400d49-529e-4a0d-a749-b843998cb1ba",
   "metadata": {},
   "outputs": [],
   "source": [
    "clean_2013_POLLDATASET = '../data_file/cleaned_data_csv/clean_2013_POLLDATASET.csv'\n"
   ]
  },
  {
   "cell_type": "code",
   "execution_count": null,
   "id": "be42041c-f716-46ad-b1d5-96b8abb18cce",
   "metadata": {},
   "outputs": [],
   "source": [
    "clean_2013Poll = pd.read_csv(clean_2013_POLLDATASET)\n",
    "clean_2013Poll.head(5)"
   ]
  },
  {
   "cell_type": "markdown",
   "id": "854fd728-964f-41a3-86d0-38d3a4128a0b",
   "metadata": {},
   "source": [
    "Load in shapefile"
   ]
  },
  {
   "cell_type": "code",
   "execution_count": null,
   "id": "6acc0561-3da5-4562-bc9d-adb278838fb0",
   "metadata": {},
   "outputs": [],
   "source": [
    "map_file = '../data_file./map_data/cb_2019_us_region_5m.shp'\n",
    "map_df = gpd.read_file(map_file)\n",
    "map_df.head()"
   ]
  },
  {
   "cell_type": "code",
   "execution_count": null,
   "id": "1f7b499d-c04a-4883-9c9b-871c82ea2036",
   "metadata": {},
   "outputs": [],
   "source": [
    "fig, ax = plt.subplots(figsize=(24,18))\n",
    "map_file = '../data_file/map_data/cb_2019_us_region_5m.shp'\n",
    "map_df = gpd.read_file(map_file)\n",
    "# map_df.plot()\n",
    "plt.xlim([-190, -50])\n",
    "map_df.plot(ax=ax, edgecolor='white')"
   ]
  },
  {
   "cell_type": "markdown",
   "id": "929ac545-095a-4b9d-9028-d90fa410b211",
   "metadata": {},
   "source": [
    "Rename columns so that we can merge 2013 data with shapefile"
   ]
  },
  {
   "cell_type": "code",
   "execution_count": null,
   "id": "f7c3d712-a555-4af8-9c61-7722d1806fe7",
   "metadata": {},
   "outputs": [],
   "source": [
    "map_df.rename(columns = {'NAME':'regions'}, inplace = True)"
   ]
  },
  {
   "cell_type": "code",
   "execution_count": null,
   "id": "43beb8dd-a40a-4a87-aba9-f65523480f3c",
   "metadata": {},
   "outputs": [],
   "source": [
    "map_df"
   ]
  },
  {
   "cell_type": "markdown",
   "id": "a8e3f8c5-7415-4f1f-85fd-2f21b248ff27",
   "metadata": {},
   "source": [
    "Merge 2013 data with shapefile and set the region as the index"
   ]
  },
  {
   "cell_type": "code",
   "execution_count": null,
   "id": "ee9aca82-15e0-4c7c-a66c-7bd89d5e8404",
   "metadata": {},
   "outputs": [],
   "source": [
    "merged_df = map_df.set_index('regions').join(clean_2013Poll.set_index('regions'))\n",
    "merged_df"
   ]
  },
  {
   "cell_type": "code",
   "execution_count": null,
   "id": "cc2e6450-8f84-4576-94b8-c1efface121d",
   "metadata": {},
   "outputs": [],
   "source": [
    "fig, ax = plt.subplots(figsize=(24,18))\n",
    "plt.xlim([-190, -50])\n",
    "\n",
    "northeast = merged_df[merged_df['state'].isin(['CT','MA','ME','NH','NJ','NY','PA','RI','VT'])] \n",
    "midwest = merged_df[merged_df['state'].isin(['IA','IL','IN','KS','MI','MN','MO','NE','OH','SD','WI'])]\n",
    "south = merged_df[merged_df['state'].isin(['AL','AR','DE','DC','FL','GA','KY','LA','MD','MS','NC','OK','SC','TN','TX','VA','WV'])]\n",
    "west = merged_df[merged_df['state'].isin(['CO','ID','MT','NV','UT','WY','AK','CA','OR','WA','AZ','NM','HI'])]\n",
    "\n",
    "northeast.plot(ax=ax,color='#a8271e', edgecolor='white')\n",
    "midwest.plot(ax=ax,color='#e6d465', edgecolor='white')\n",
    "south.plot(ax=ax,color='#549953', edgecolor='white')\n",
    "west.plot(ax=ax,color='#4d6bb8', edgecolor='white')"
   ]
  },
  {
   "cell_type": "code",
   "execution_count": null,
   "id": "11434aa2-e9a6-461f-8979-d9ebc427aa5d",
   "metadata": {},
   "outputs": [],
   "source": [
    "fig, ax = plt.subplots(figsize=(24,18))\n",
    "plt.xlim([-190, -50])\n",
    "merged_df.plot( ax=ax, alpha=0.4, color='black')"
   ]
  },
  {
   "cell_type": "code",
   "execution_count": null,
   "id": "60b2a365-7872-46a3-ba2b-380fde143850",
   "metadata": {},
   "outputs": [],
   "source": [
    "merged_df.index"
   ]
  },
  {
   "cell_type": "code",
   "execution_count": null,
   "id": "8ed2d431-1986-4450-b8d5-e1b3cafaf21c",
   "metadata": {},
   "outputs": [],
   "source": []
  }
 ],
 "metadata": {
  "kernelspec": {
   "display_name": "Python 3",
   "language": "python",
   "name": "python3"
  },
  "language_info": {
   "codemirror_mode": {
    "name": "ipython",
    "version": 3
   },
   "file_extension": ".py",
   "mimetype": "text/x-python",
   "name": "python",
   "nbconvert_exporter": "python",
   "pygments_lexer": "ipython3",
   "version": "3.8.8"
  }
 },
 "nbformat": 4,
 "nbformat_minor": 5
}