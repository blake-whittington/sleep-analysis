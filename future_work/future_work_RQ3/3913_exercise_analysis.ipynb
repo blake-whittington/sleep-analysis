{
 "cells": [
  {
   "cell_type": "markdown",
   "id": "c13bde82-6e9b-4137-80dd-231c1679c8c3",
   "metadata": {},
   "source": [
    "# Are people a good judge of their own sleep and health?\n",
    "***\n",
    "## Exercise as a Predictor of Sleep and Health Quality"
   ]
  },
  {
   "cell_type": "markdown",
   "id": "58d474b6-d442-4164-abed-012d51e23e64",
   "metadata": {},
   "source": [
    "# Set Up\n",
    "## Imports"
   ]
  },
  {
   "cell_type": "code",
   "execution_count": 1,
   "id": "99c49fce-72fe-44d4-b7cb-d56f4d43c7f4",
   "metadata": {},
   "outputs": [],
   "source": [
    "import pandas as pd\n",
    "import os\n",
    "import glob\n",
    "import matplotlib.pyplot as plt\n",
    "import numpy as np\n",
    "import matplotlib.ticker as mtick"
   ]
  },
  {
   "cell_type": "markdown",
   "id": "90566d40-3d94-485d-aaaa-4a74acb4b020",
   "metadata": {},
   "source": [
    "## Parameters"
   ]
  },
  {
   "cell_type": "code",
   "execution_count": 2,
   "id": "1d01e8ac-be50-4a54-aed6-eed065aa7240",
   "metadata": {},
   "outputs": [],
   "source": [
    "clean_2013_POLLDATASET = '../data_file/cleaned_data_csv/clean_2013_POLLDATASET.csv'\n"
   ]
  },
  {
   "cell_type": "markdown",
   "id": "ba2d3d46-f402-48c4-a95a-6c822157ac9b",
   "metadata": {},
   "source": [
    "## Loading Raw Dataset"
   ]
  },
  {
   "cell_type": "code",
   "execution_count": 3,
   "id": "60419845-8220-4152-8d56-40f1265f21f5",
   "metadata": {},
   "outputs": [
    {
     "data": {
      "text/plain": [
       "(1000, 140)"
      ]
     },
     "execution_count": 3,
     "metadata": {},
     "output_type": "execute_result"
    }
   ],
   "source": [
    "clean_2013Poll = pd.read_csv(clean_2013_POLLDATASET)\n",
    "clean_2013Poll.shape"
   ]
  },
  {
   "cell_type": "code",
   "execution_count": 4,
   "id": "4dba5220-8ece-419c-b521-ccb77b1a0ca1",
   "metadata": {},
   "outputs": [],
   "source": [
    "exercise_df = clean_2013Poll.copy()"
   ]
  },
  {
   "cell_type": "code",
   "execution_count": 5,
   "id": "746e6974-2083-49ef-98d6-fc979b695b51",
   "metadata": {},
   "outputs": [
    {
     "data": {
      "text/plain": [
       "(1000, 140)"
      ]
     },
     "execution_count": 5,
     "metadata": {},
     "output_type": "execute_result"
    }
   ],
   "source": [
    "exercise_df.shape"
   ]
  },
  {
   "cell_type": "code",
   "execution_count": 6,
   "id": "f91dc4f9-6b8e-445d-827c-59d607617a81",
   "metadata": {},
   "outputs": [],
   "source": [
    "exercise_DATASET = '../data_file/recommendation_data/exercise_recommendations.csv'\n"
   ]
  },
  {
   "cell_type": "code",
   "execution_count": 7,
   "id": "6e9e9596-8c9a-4041-9d99-39b1caf50225",
   "metadata": {},
   "outputs": [
    {
     "data": {
      "text/plain": [
       "(3, 5)"
      ]
     },
     "execution_count": 7,
     "metadata": {},
     "output_type": "execute_result"
    }
   ],
   "source": [
    "exercise_recomm_df = pd.read_csv(exercise_DATASET)\n",
    "exercise_recomm_df.shape"
   ]
  },
  {
   "cell_type": "code",
   "execution_count": 8,
   "id": "047e6c57-5d9f-4cb3-91d9-108a4669a7ef",
   "metadata": {},
   "outputs": [
    {
     "data": {
      "text/html": [
       "<div>\n",
       "<style scoped>\n",
       "    .dataframe tbody tr th:only-of-type {\n",
       "        vertical-align: middle;\n",
       "    }\n",
       "\n",
       "    .dataframe tbody tr th {\n",
       "        vertical-align: top;\n",
       "    }\n",
       "\n",
       "    .dataframe thead th {\n",
       "        text-align: right;\n",
       "    }\n",
       "</style>\n",
       "<table border=\"1\" class=\"dataframe\">\n",
       "  <thead>\n",
       "    <tr style=\"text-align: right;\">\n",
       "      <th></th>\n",
       "      <th>time_frame</th>\n",
       "      <th>light</th>\n",
       "      <th>moderate</th>\n",
       "      <th>vigourous</th>\n",
       "      <th>general</th>\n",
       "    </tr>\n",
       "  </thead>\n",
       "  <tbody>\n",
       "    <tr>\n",
       "      <th>0</th>\n",
       "      <td>day_min</td>\n",
       "      <td>32</td>\n",
       "      <td>21.5</td>\n",
       "      <td>10.5</td>\n",
       "      <td>21.5</td>\n",
       "    </tr>\n",
       "    <tr>\n",
       "      <th>1</th>\n",
       "      <td>week_min</td>\n",
       "      <td>225</td>\n",
       "      <td>150.0</td>\n",
       "      <td>75.0</td>\n",
       "      <td>150.0</td>\n",
       "    </tr>\n",
       "    <tr>\n",
       "      <th>2</th>\n",
       "      <td>2_week_min</td>\n",
       "      <td>450</td>\n",
       "      <td>300.0</td>\n",
       "      <td>150.0</td>\n",
       "      <td>300.0</td>\n",
       "    </tr>\n",
       "  </tbody>\n",
       "</table>\n",
       "</div>"
      ],
      "text/plain": [
       "   time_frame  light  moderate  vigourous  general\n",
       "0     day_min     32      21.5       10.5     21.5\n",
       "1    week_min    225     150.0       75.0    150.0\n",
       "2  2_week_min    450     300.0      150.0    300.0"
      ]
     },
     "execution_count": 8,
     "metadata": {},
     "output_type": "execute_result"
    }
   ],
   "source": [
    "exercise_recomm_df"
   ]
  },
  {
   "cell_type": "code",
   "execution_count": 9,
   "id": "a5ba89cc-2235-408f-af27-cc9fc2fde586",
   "metadata": {},
   "outputs": [
    {
     "data": {
      "text/plain": [
       "0           None\n",
       "1          Light\n",
       "2      Monderate\n",
       "3          Light\n",
       "4          Light\n",
       "         ...    \n",
       "995    Monderate\n",
       "996        Light\n",
       "997        Light\n",
       "998        Light\n",
       "999        Light\n",
       "Name: activity_level, Length: 1000, dtype: object"
      ]
     },
     "execution_count": 9,
     "metadata": {},
     "output_type": "execute_result"
    }
   ],
   "source": [
    "exercise_df['activity_level']"
   ]
  },
  {
   "cell_type": "code",
   "execution_count": 10,
   "id": "2835bcf3-253d-4da9-9bc4-56880e7a1650",
   "metadata": {},
   "outputs": [
    {
     "data": {
      "text/plain": [
       "array([ 50,  75,  80,  20,   0, 100,  10,  60,  95,  90,  40,  70,  65,\n",
       "       996,  85,  25,  35,  30,  15,   7, 998,   3,  98,   5,  45, 999,\n",
       "        99,  67,  53,   1,   2,  86,  55])"
      ]
     },
     "execution_count": 10,
     "metadata": {},
     "output_type": "execute_result"
    }
   ],
   "source": [
    "exercise_df['perc_exercise_outside'].unique()"
   ]
  },
  {
   "cell_type": "code",
   "execution_count": 11,
   "id": "e78f10fd-8678-4b70-8334-f289723691e6",
   "metadata": {},
   "outputs": [
    {
     "data": {
      "text/html": [
       "<div>\n",
       "<style scoped>\n",
       "    .dataframe tbody tr th:only-of-type {\n",
       "        vertical-align: middle;\n",
       "    }\n",
       "\n",
       "    .dataframe tbody tr th {\n",
       "        vertical-align: top;\n",
       "    }\n",
       "\n",
       "    .dataframe thead th {\n",
       "        text-align: right;\n",
       "    }\n",
       "</style>\n",
       "<table border=\"1\" class=\"dataframe\">\n",
       "  <thead>\n",
       "    <tr style=\"text-align: right;\">\n",
       "      <th></th>\n",
       "      <th>vigorous_activity_total_min</th>\n",
       "      <th>&gt;8_hours_before_bed_vigorous</th>\n",
       "      <th>4-8_hours_before_bed_vigorous</th>\n",
       "      <th>&lt;4_hours_before_bed_vigorous</th>\n",
       "    </tr>\n",
       "  </thead>\n",
       "  <tbody>\n",
       "    <tr>\n",
       "      <th>0</th>\n",
       "      <td>0.0</td>\n",
       "      <td>NaN</td>\n",
       "      <td>NaN</td>\n",
       "      <td>NaN</td>\n",
       "    </tr>\n",
       "    <tr>\n",
       "      <th>1</th>\n",
       "      <td>0.0</td>\n",
       "      <td>NaN</td>\n",
       "      <td>NaN</td>\n",
       "      <td>NaN</td>\n",
       "    </tr>\n",
       "    <tr>\n",
       "      <th>2</th>\n",
       "      <td>20.0</td>\n",
       "      <td>1.0</td>\n",
       "      <td>2.0</td>\n",
       "      <td>NaN</td>\n",
       "    </tr>\n",
       "    <tr>\n",
       "      <th>3</th>\n",
       "      <td>60.0</td>\n",
       "      <td>2.0</td>\n",
       "      <td>3.0</td>\n",
       "      <td>NaN</td>\n",
       "    </tr>\n",
       "    <tr>\n",
       "      <th>4</th>\n",
       "      <td>15.0</td>\n",
       "      <td>1.0</td>\n",
       "      <td>NaN</td>\n",
       "      <td>NaN</td>\n",
       "    </tr>\n",
       "    <tr>\n",
       "      <th>...</th>\n",
       "      <td>...</td>\n",
       "      <td>...</td>\n",
       "      <td>...</td>\n",
       "      <td>...</td>\n",
       "    </tr>\n",
       "    <tr>\n",
       "      <th>995</th>\n",
       "      <td>15.0</td>\n",
       "      <td>2.0</td>\n",
       "      <td>NaN</td>\n",
       "      <td>NaN</td>\n",
       "    </tr>\n",
       "    <tr>\n",
       "      <th>996</th>\n",
       "      <td>30.0</td>\n",
       "      <td>3.0</td>\n",
       "      <td>NaN</td>\n",
       "      <td>NaN</td>\n",
       "    </tr>\n",
       "    <tr>\n",
       "      <th>997</th>\n",
       "      <td>60.0</td>\n",
       "      <td>1.0</td>\n",
       "      <td>NaN</td>\n",
       "      <td>NaN</td>\n",
       "    </tr>\n",
       "    <tr>\n",
       "      <th>998</th>\n",
       "      <td>10.0</td>\n",
       "      <td>1.0</td>\n",
       "      <td>NaN</td>\n",
       "      <td>NaN</td>\n",
       "    </tr>\n",
       "    <tr>\n",
       "      <th>999</th>\n",
       "      <td>0.0</td>\n",
       "      <td>NaN</td>\n",
       "      <td>NaN</td>\n",
       "      <td>NaN</td>\n",
       "    </tr>\n",
       "  </tbody>\n",
       "</table>\n",
       "<p>1000 rows × 4 columns</p>\n",
       "</div>"
      ],
      "text/plain": [
       "     vigorous_activity_total_min  >8_hours_before_bed_vigorous  \\\n",
       "0                            0.0                           NaN   \n",
       "1                            0.0                           NaN   \n",
       "2                           20.0                           1.0   \n",
       "3                           60.0                           2.0   \n",
       "4                           15.0                           1.0   \n",
       "..                           ...                           ...   \n",
       "995                         15.0                           2.0   \n",
       "996                         30.0                           3.0   \n",
       "997                         60.0                           1.0   \n",
       "998                         10.0                           1.0   \n",
       "999                          0.0                           NaN   \n",
       "\n",
       "     4-8_hours_before_bed_vigorous  <4_hours_before_bed_vigorous  \n",
       "0                              NaN                           NaN  \n",
       "1                              NaN                           NaN  \n",
       "2                              2.0                           NaN  \n",
       "3                              3.0                           NaN  \n",
       "4                              NaN                           NaN  \n",
       "..                             ...                           ...  \n",
       "995                            NaN                           NaN  \n",
       "996                            NaN                           NaN  \n",
       "997                            NaN                           NaN  \n",
       "998                            NaN                           NaN  \n",
       "999                            NaN                           NaN  \n",
       "\n",
       "[1000 rows x 4 columns]"
      ]
     },
     "execution_count": 11,
     "metadata": {},
     "output_type": "execute_result"
    }
   ],
   "source": [
    "exercise_df[['vigorous_activity_total_min','>8_hours_before_bed_vigorous','4-8_hours_before_bed_vigorous','<4_hours_before_bed_vigorous']]"
   ]
  },
  {
   "cell_type": "code",
   "execution_count": 12,
   "id": "653448d7-9098-40d4-857e-b5620bc5da89",
   "metadata": {},
   "outputs": [
    {
     "data": {
      "text/html": [
       "<div>\n",
       "<style scoped>\n",
       "    .dataframe tbody tr th:only-of-type {\n",
       "        vertical-align: middle;\n",
       "    }\n",
       "\n",
       "    .dataframe tbody tr th {\n",
       "        vertical-align: top;\n",
       "    }\n",
       "\n",
       "    .dataframe thead th {\n",
       "        text-align: right;\n",
       "    }\n",
       "</style>\n",
       "<table border=\"1\" class=\"dataframe\">\n",
       "  <thead>\n",
       "    <tr style=\"text-align: right;\">\n",
       "      <th></th>\n",
       "      <th>moderate_activity_total_min</th>\n",
       "      <th>&gt;8_hours_before_bed_moderate</th>\n",
       "      <th>4-8_hours_before_bed_moderate</th>\n",
       "      <th>&lt;4_hours_before_bed_moderate</th>\n",
       "    </tr>\n",
       "  </thead>\n",
       "  <tbody>\n",
       "    <tr>\n",
       "      <th>0</th>\n",
       "      <td>0.0</td>\n",
       "      <td>NaN</td>\n",
       "      <td>NaN</td>\n",
       "      <td>NaN</td>\n",
       "    </tr>\n",
       "    <tr>\n",
       "      <th>1</th>\n",
       "      <td>30.0</td>\n",
       "      <td>3.0</td>\n",
       "      <td>NaN</td>\n",
       "      <td>NaN</td>\n",
       "    </tr>\n",
       "    <tr>\n",
       "      <th>2</th>\n",
       "      <td>40.0</td>\n",
       "      <td>1.0</td>\n",
       "      <td>2.0</td>\n",
       "      <td>NaN</td>\n",
       "    </tr>\n",
       "    <tr>\n",
       "      <th>3</th>\n",
       "      <td>60.0</td>\n",
       "      <td>2.0</td>\n",
       "      <td>3.0</td>\n",
       "      <td>NaN</td>\n",
       "    </tr>\n",
       "    <tr>\n",
       "      <th>4</th>\n",
       "      <td>0.0</td>\n",
       "      <td>NaN</td>\n",
       "      <td>NaN</td>\n",
       "      <td>NaN</td>\n",
       "    </tr>\n",
       "    <tr>\n",
       "      <th>...</th>\n",
       "      <td>...</td>\n",
       "      <td>...</td>\n",
       "      <td>...</td>\n",
       "      <td>...</td>\n",
       "    </tr>\n",
       "    <tr>\n",
       "      <th>995</th>\n",
       "      <td>60.0</td>\n",
       "      <td>2.0</td>\n",
       "      <td>NaN</td>\n",
       "      <td>NaN</td>\n",
       "    </tr>\n",
       "    <tr>\n",
       "      <th>996</th>\n",
       "      <td>0.0</td>\n",
       "      <td>NaN</td>\n",
       "      <td>NaN</td>\n",
       "      <td>NaN</td>\n",
       "    </tr>\n",
       "    <tr>\n",
       "      <th>997</th>\n",
       "      <td>60.0</td>\n",
       "      <td>1.0</td>\n",
       "      <td>NaN</td>\n",
       "      <td>NaN</td>\n",
       "    </tr>\n",
       "    <tr>\n",
       "      <th>998</th>\n",
       "      <td>240.0</td>\n",
       "      <td>1.0</td>\n",
       "      <td>NaN</td>\n",
       "      <td>NaN</td>\n",
       "    </tr>\n",
       "    <tr>\n",
       "      <th>999</th>\n",
       "      <td>120.0</td>\n",
       "      <td>1.0</td>\n",
       "      <td>NaN</td>\n",
       "      <td>NaN</td>\n",
       "    </tr>\n",
       "  </tbody>\n",
       "</table>\n",
       "<p>1000 rows × 4 columns</p>\n",
       "</div>"
      ],
      "text/plain": [
       "     moderate_activity_total_min  >8_hours_before_bed_moderate  \\\n",
       "0                            0.0                           NaN   \n",
       "1                           30.0                           3.0   \n",
       "2                           40.0                           1.0   \n",
       "3                           60.0                           2.0   \n",
       "4                            0.0                           NaN   \n",
       "..                           ...                           ...   \n",
       "995                         60.0                           2.0   \n",
       "996                          0.0                           NaN   \n",
       "997                         60.0                           1.0   \n",
       "998                        240.0                           1.0   \n",
       "999                        120.0                           1.0   \n",
       "\n",
       "     4-8_hours_before_bed_moderate  <4_hours_before_bed_moderate  \n",
       "0                              NaN                           NaN  \n",
       "1                              NaN                           NaN  \n",
       "2                              2.0                           NaN  \n",
       "3                              3.0                           NaN  \n",
       "4                              NaN                           NaN  \n",
       "..                             ...                           ...  \n",
       "995                            NaN                           NaN  \n",
       "996                            NaN                           NaN  \n",
       "997                            NaN                           NaN  \n",
       "998                            NaN                           NaN  \n",
       "999                            NaN                           NaN  \n",
       "\n",
       "[1000 rows x 4 columns]"
      ]
     },
     "execution_count": 12,
     "metadata": {},
     "output_type": "execute_result"
    }
   ],
   "source": [
    "exercise_df[['moderate_activity_total_min','>8_hours_before_bed_moderate','4-8_hours_before_bed_moderate','<4_hours_before_bed_moderate']]"
   ]
  },
  {
   "cell_type": "code",
   "execution_count": null,
   "id": "f7baab4a-d48c-47bb-9dc8-e14efc1d310e",
   "metadata": {},
   "outputs": [],
   "source": []
  },
  {
   "cell_type": "code",
   "execution_count": 13,
   "id": "0c0c1646-8b64-4515-9abd-d9147a04e19b",
   "metadata": {},
   "outputs": [
    {
     "data": {
      "text/html": [
       "<div>\n",
       "<style scoped>\n",
       "    .dataframe tbody tr th:only-of-type {\n",
       "        vertical-align: middle;\n",
       "    }\n",
       "\n",
       "    .dataframe tbody tr th {\n",
       "        vertical-align: top;\n",
       "    }\n",
       "\n",
       "    .dataframe thead th {\n",
       "        text-align: right;\n",
       "    }\n",
       "</style>\n",
       "<table border=\"1\" class=\"dataframe\">\n",
       "  <thead>\n",
       "    <tr style=\"text-align: right;\">\n",
       "      <th></th>\n",
       "      <th>light_activity_total_min</th>\n",
       "      <th>&gt;8_hours_before_bed_light</th>\n",
       "      <th>4-8_hours_before_bed_light</th>\n",
       "      <th>&lt;4_hours_before_bed_light</th>\n",
       "    </tr>\n",
       "  </thead>\n",
       "  <tbody>\n",
       "    <tr>\n",
       "      <th>0</th>\n",
       "      <td>0.0</td>\n",
       "      <td>NaN</td>\n",
       "      <td>NaN</td>\n",
       "      <td>NaN</td>\n",
       "    </tr>\n",
       "    <tr>\n",
       "      <th>1</th>\n",
       "      <td>60.0</td>\n",
       "      <td>2.0</td>\n",
       "      <td>NaN</td>\n",
       "      <td>NaN</td>\n",
       "    </tr>\n",
       "    <tr>\n",
       "      <th>2</th>\n",
       "      <td>60.0</td>\n",
       "      <td>1.0</td>\n",
       "      <td>2.0</td>\n",
       "      <td>3.0</td>\n",
       "    </tr>\n",
       "    <tr>\n",
       "      <th>3</th>\n",
       "      <td>60.0</td>\n",
       "      <td>2.0</td>\n",
       "      <td>3.0</td>\n",
       "      <td>NaN</td>\n",
       "    </tr>\n",
       "    <tr>\n",
       "      <th>4</th>\n",
       "      <td>30.0</td>\n",
       "      <td>1.0</td>\n",
       "      <td>NaN</td>\n",
       "      <td>NaN</td>\n",
       "    </tr>\n",
       "    <tr>\n",
       "      <th>...</th>\n",
       "      <td>...</td>\n",
       "      <td>...</td>\n",
       "      <td>...</td>\n",
       "      <td>...</td>\n",
       "    </tr>\n",
       "    <tr>\n",
       "      <th>995</th>\n",
       "      <td>30.0</td>\n",
       "      <td>2.0</td>\n",
       "      <td>NaN</td>\n",
       "      <td>NaN</td>\n",
       "    </tr>\n",
       "    <tr>\n",
       "      <th>996</th>\n",
       "      <td>20.0</td>\n",
       "      <td>1.0</td>\n",
       "      <td>NaN</td>\n",
       "      <td>NaN</td>\n",
       "    </tr>\n",
       "    <tr>\n",
       "      <th>997</th>\n",
       "      <td>180.0</td>\n",
       "      <td>1.0</td>\n",
       "      <td>2.0</td>\n",
       "      <td>3.0</td>\n",
       "    </tr>\n",
       "    <tr>\n",
       "      <th>998</th>\n",
       "      <td>120.0</td>\n",
       "      <td>1.0</td>\n",
       "      <td>2.0</td>\n",
       "      <td>3.0</td>\n",
       "    </tr>\n",
       "    <tr>\n",
       "      <th>999</th>\n",
       "      <td>240.0</td>\n",
       "      <td>2.0</td>\n",
       "      <td>NaN</td>\n",
       "      <td>NaN</td>\n",
       "    </tr>\n",
       "  </tbody>\n",
       "</table>\n",
       "<p>1000 rows × 4 columns</p>\n",
       "</div>"
      ],
      "text/plain": [
       "     light_activity_total_min  >8_hours_before_bed_light  \\\n",
       "0                         0.0                        NaN   \n",
       "1                        60.0                        2.0   \n",
       "2                        60.0                        1.0   \n",
       "3                        60.0                        2.0   \n",
       "4                        30.0                        1.0   \n",
       "..                        ...                        ...   \n",
       "995                      30.0                        2.0   \n",
       "996                      20.0                        1.0   \n",
       "997                     180.0                        1.0   \n",
       "998                     120.0                        1.0   \n",
       "999                     240.0                        2.0   \n",
       "\n",
       "     4-8_hours_before_bed_light  <4_hours_before_bed_light  \n",
       "0                           NaN                        NaN  \n",
       "1                           NaN                        NaN  \n",
       "2                           2.0                        3.0  \n",
       "3                           3.0                        NaN  \n",
       "4                           NaN                        NaN  \n",
       "..                          ...                        ...  \n",
       "995                         NaN                        NaN  \n",
       "996                         NaN                        NaN  \n",
       "997                         2.0                        3.0  \n",
       "998                         2.0                        3.0  \n",
       "999                         NaN                        NaN  \n",
       "\n",
       "[1000 rows x 4 columns]"
      ]
     },
     "execution_count": 13,
     "metadata": {},
     "output_type": "execute_result"
    }
   ],
   "source": [
    "exercise_df[['light_activity_total_min','>8_hours_before_bed_light','4-8_hours_before_bed_light','<4_hours_before_bed_light']]"
   ]
  },
  {
   "cell_type": "code",
   "execution_count": 14,
   "id": "6d9c0dca-c249-43f6-8a84-793be26f33a2",
   "metadata": {},
   "outputs": [
    {
     "data": {
      "text/plain": [
       "0      300.0\n",
       "1      300.0\n",
       "2      180.0\n",
       "3      480.0\n",
       "4      420.0\n",
       "       ...  \n",
       "995    240.0\n",
       "996    720.0\n",
       "997    360.0\n",
       "998    420.0\n",
       "999     99.0\n",
       "Name: sitting_total_min, Length: 1000, dtype: float64"
      ]
     },
     "execution_count": 14,
     "metadata": {},
     "output_type": "execute_result"
    }
   ],
   "source": [
    "exercise_df['sitting_total_min']"
   ]
  },
  {
   "cell_type": "code",
   "execution_count": 15,
   "id": "c879fa83-b32e-4661-8b1f-79693d0e1e39",
   "metadata": {},
   "outputs": [
    {
     "data": {
      "text/plain": [
       "0      No Difference\n",
       "1      No Difference\n",
       "2           Improves\n",
       "3      No Difference\n",
       "4      No Difference\n",
       "           ...      \n",
       "995    No Difference\n",
       "996    No Difference\n",
       "997         Improves\n",
       "998    No Difference\n",
       "999         Improves\n",
       "Name: exercise_impact_sleep_quality, Length: 1000, dtype: object"
      ]
     },
     "execution_count": 15,
     "metadata": {},
     "output_type": "execute_result"
    }
   ],
   "source": [
    "exercise_df['exercise_impact_sleep_quality']"
   ]
  },
  {
   "cell_type": "code",
   "execution_count": 16,
   "id": "915fe19b-51c2-431c-b334-2845170392bf",
   "metadata": {},
   "outputs": [
    {
     "data": {
      "text/plain": [
       "0      No Difference\n",
       "1      No Difference\n",
       "2      No Difference\n",
       "3      No Difference\n",
       "4      No Difference\n",
       "           ...      \n",
       "995    No Difference\n",
       "996    No Difference\n",
       "997    No Difference\n",
       "998    No Difference\n",
       "999         Improves\n",
       "Name: exercise_impact_sleep_time, Length: 1000, dtype: object"
      ]
     },
     "execution_count": 16,
     "metadata": {},
     "output_type": "execute_result"
    }
   ],
   "source": [
    "exercise_df['exercise_impact_sleep_time']"
   ]
  },
  {
   "cell_type": "code",
   "execution_count": 17,
   "id": "1cd691a5-8ac7-428b-b9b6-aa3b783c9eb0",
   "metadata": {},
   "outputs": [
    {
     "data": {
      "text/plain": [
       "0                No Effect\n",
       "1                No Effect\n",
       "2      Awake a Little Less\n",
       "3                No Effect\n",
       "4                No Effect\n",
       "              ...         \n",
       "995              No Effect\n",
       "996              No Effect\n",
       "997              No Effect\n",
       "998    Awake a Little Less\n",
       "999              No Effect\n",
       "Name: exercise_impact_awakening, Length: 1000, dtype: object"
      ]
     },
     "execution_count": 17,
     "metadata": {},
     "output_type": "execute_result"
    }
   ],
   "source": [
    "exercise_df['exercise_impact_awakening']"
   ]
  },
  {
   "cell_type": "code",
   "execution_count": 18,
   "id": "3c8e23a3-376b-41bb-a291-13c1d7d281ad",
   "metadata": {},
   "outputs": [
    {
     "data": {
      "text/plain": [
       "0                  No Difference\n",
       "1      Much More Likely Weekends\n",
       "2      Much More Likely Weekends\n",
       "3                  No Difference\n",
       "4                  No Difference\n",
       "                 ...            \n",
       "995                No Difference\n",
       "996                No Difference\n",
       "997    Much More Likely Weekdays\n",
       "998                No Difference\n",
       "999    Much More Likely Weekends\n",
       "Name: exercise_weekday_weekend, Length: 1000, dtype: object"
      ]
     },
     "execution_count": 18,
     "metadata": {},
     "output_type": "execute_result"
    }
   ],
   "source": [
    "exercise_df['exercise_weekday_weekend']"
   ]
  },
  {
   "cell_type": "code",
   "execution_count": 19,
   "id": "25d7c89e-2171-48a7-93a0-4a61c1764bae",
   "metadata": {},
   "outputs": [
    {
     "data": {
      "text/plain": [
       "0      No Difference\n",
       "1      No Difference\n",
       "2      No Difference\n",
       "3      No Difference\n",
       "4      No Difference\n",
       "           ...      \n",
       "995    A Little Less\n",
       "996        Much Less\n",
       "997    A Little Less\n",
       "998    A Little Less\n",
       "999    No Difference\n",
       "Name: bad_sleep_impact_exercise, Length: 1000, dtype: object"
      ]
     },
     "execution_count": 19,
     "metadata": {},
     "output_type": "execute_result"
    }
   ],
   "source": [
    "exercise_df['bad_sleep_impact_exercise']"
   ]
  },
  {
   "cell_type": "code",
   "execution_count": 20,
   "id": "35db0e5f-1016-43ff-99dc-8804ecda430c",
   "metadata": {},
   "outputs": [
    {
     "data": {
      "text/plain": [
       "0        No Difference\n",
       "1        No Difference\n",
       "2       Somewhat Worse\n",
       "3        No Difference\n",
       "4        No Difference\n",
       "            ...       \n",
       "995    Somewhat Better\n",
       "996      No Difference\n",
       "997      No Difference\n",
       "998      No Difference\n",
       "999      No Difference\n",
       "Name: unable_to_exercise_impact_sleep, Length: 1000, dtype: object"
      ]
     },
     "execution_count": 20,
     "metadata": {},
     "output_type": "execute_result"
    }
   ],
   "source": [
    "exercise_df['unable_to_exercise_impact_sleep']"
   ]
  },
  {
   "cell_type": "code",
   "execution_count": null,
   "id": "4f745ad1-2745-4e42-befe-b3a77a6c79ad",
   "metadata": {},
   "outputs": [],
   "source": []
  },
  {
   "cell_type": "code",
   "execution_count": 20,
   "id": "fae1ac6e-b602-4524-84e6-63e78f223adf",
   "metadata": {},
   "outputs": [],
   "source": []
  }
 ],
 "metadata": {
  "kernelspec": {
   "display_name": "Python 3",
   "language": "python",
   "name": "python3"
  },
  "language_info": {
   "codemirror_mode": {
    "name": "ipython",
    "version": 3
   },
   "file_extension": ".py",
   "mimetype": "text/x-python",
   "name": "python",
   "nbconvert_exporter": "python",
   "pygments_lexer": "ipython3",
   "version": "3.8.8"
  }
 },
 "nbformat": 4,
 "nbformat_minor": 5
}
