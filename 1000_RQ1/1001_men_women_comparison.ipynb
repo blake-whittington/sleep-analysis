{
 "cells": [
  {
   "cell_type": "markdown",
   "metadata": {
    "pycharm": {
     "name": "#%% md\n"
    }
   },
   "source": [
    "# How Not To Put A Nation To Sleep\n",
    "## Blake Whittington and Gabriele Spiridaviciute\n",
    "***\n",
    "## Looking Around the World – What can Americans Learn?\n",
    "### Men & Women Country Comparison\n",
    "This notebook utilises OECD data to compare men and women in various countries around the world"
   ]
  },
  {
   "cell_type": "markdown",
   "metadata": {
    "pycharm": {
     "name": "#%% md\n"
    }
   },
   "source": [
    "## Imports"
   ]
  },
  {
   "cell_type": "code",
   "execution_count": 1,
   "metadata": {
    "collapsed": false,
    "jupyter": {
     "outputs_hidden": false
    },
    "pycharm": {
     "name": "#%%\n"
    }
   },
   "outputs": [],
   "source": [
    "import pandas as pd\n",
    "import numpy as np\n",
    "import matplotlib.pyplot as plt\n",
    "import seaborn as sns"
   ]
  },
  {
   "cell_type": "markdown",
   "metadata": {
    "pycharm": {
     "name": "#%% md\n"
    }
   },
   "source": [
    "## Parameters"
   ]
  },
  {
   "cell_type": "code",
   "execution_count": 2,
   "metadata": {
    "collapsed": false,
    "jupyter": {
     "outputs_hidden": false
    },
    "pycharm": {
     "name": "#%%\n"
    }
   },
   "outputs": [],
   "source": [
    "oecd_total = pd.read_pickle('../data_file/cleaned_data_pickle/total_oecd_df.pickle')\n",
    "oecd_men = pd.read_pickle('../data_file/cleaned_data_pickle/men_oecd_df.pickle')\n",
    "oecd_women = pd.read_pickle('../data_file/cleaned_data_pickle/women_oecd_df.pickle')"
   ]
  },
  {
   "cell_type": "code",
   "execution_count": 3,
   "metadata": {
    "collapsed": false,
    "jupyter": {
     "outputs_hidden": false
    },
    "pycharm": {
     "name": "#%%\n"
    }
   },
   "outputs": [],
   "source": [
    "# display(oecd_total)\n",
    "# display(oecd_men)\n",
    "# display(oecd_women)"
   ]
  },
  {
   "cell_type": "code",
   "execution_count": 4,
   "metadata": {
    "collapsed": false,
    "jupyter": {
     "outputs_hidden": false
    },
    "pycharm": {
     "name": "#%%\n"
    }
   },
   "outputs": [
    {
     "data": {
      "text/html": [
       "<div>\n",
       "<style scoped>\n",
       "    .dataframe tbody tr th:only-of-type {\n",
       "        vertical-align: middle;\n",
       "    }\n",
       "\n",
       "    .dataframe tbody tr th {\n",
       "        vertical-align: top;\n",
       "    }\n",
       "\n",
       "    .dataframe thead th {\n",
       "        text-align: right;\n",
       "    }\n",
       "</style>\n",
       "<table border=\"1\" class=\"dataframe\">\n",
       "  <thead>\n",
       "    <tr style=\"text-align: right;\">\n",
       "      <th>Country</th>\n",
       "      <th>year</th>\n",
       "      <th>paid_work_study</th>\n",
       "      <th>paid_work_(all)</th>\n",
       "      <th>work_school_travel</th>\n",
       "      <th>in_school</th>\n",
       "      <th>research/homework</th>\n",
       "      <th>job_serach</th>\n",
       "      <th>other_paid_work_study</th>\n",
       "      <th>unpaid_work</th>\n",
       "      <th>routine_housework</th>\n",
       "      <th>...</th>\n",
       "      <th>leisure</th>\n",
       "      <th>sports</th>\n",
       "      <th>attending_events</th>\n",
       "      <th>meeting_friends</th>\n",
       "      <th>tv_radio</th>\n",
       "      <th>other_leisure_activities</th>\n",
       "      <th>other</th>\n",
       "      <th>religion</th>\n",
       "      <th>other_(no categories)</th>\n",
       "      <th>total</th>\n",
       "    </tr>\n",
       "  </thead>\n",
       "  <tbody>\n",
       "    <tr>\n",
       "      <th>Australia</th>\n",
       "      <td>2006.0</td>\n",
       "      <td>238.0</td>\n",
       "      <td>186.0</td>\n",
       "      <td>25.0</td>\n",
       "      <td>16.0</td>\n",
       "      <td>11.0</td>\n",
       "      <td>0.0</td>\n",
       "      <td>0.0</td>\n",
       "      <td>243.0</td>\n",
       "      <td>132.0</td>\n",
       "      <td>...</td>\n",
       "      <td>281.0</td>\n",
       "      <td>19.0</td>\n",
       "      <td>6.0</td>\n",
       "      <td>40.0</td>\n",
       "      <td>140.0</td>\n",
       "      <td>76.0</td>\n",
       "      <td>20.0</td>\n",
       "      <td>13.0</td>\n",
       "      <td>7.0</td>\n",
       "      <td>1440.0</td>\n",
       "    </tr>\n",
       "    <tr>\n",
       "      <th>Austria</th>\n",
       "      <td>2008.0</td>\n",
       "      <td>306.0</td>\n",
       "      <td>248.0</td>\n",
       "      <td>29.0</td>\n",
       "      <td>26.0</td>\n",
       "      <td>1.0</td>\n",
       "      <td>1.0</td>\n",
       "      <td>1.0</td>\n",
       "      <td>202.0</td>\n",
       "      <td>125.0</td>\n",
       "      <td>...</td>\n",
       "      <td>291.0</td>\n",
       "      <td>32.0</td>\n",
       "      <td>9.0</td>\n",
       "      <td>82.0</td>\n",
       "      <td>109.0</td>\n",
       "      <td>59.0</td>\n",
       "      <td>8.0</td>\n",
       "      <td>3.0</td>\n",
       "      <td>5.0</td>\n",
       "      <td>1440.0</td>\n",
       "    </tr>\n",
       "    <tr>\n",
       "      <th>Belgium</th>\n",
       "      <td>2013.0</td>\n",
       "      <td>236.0</td>\n",
       "      <td>168.0</td>\n",
       "      <td>26.0</td>\n",
       "      <td>27.0</td>\n",
       "      <td>15.0</td>\n",
       "      <td>0.0</td>\n",
       "      <td>0.0</td>\n",
       "      <td>192.0</td>\n",
       "      <td>121.0</td>\n",
       "      <td>...</td>\n",
       "      <td>339.0</td>\n",
       "      <td>21.0</td>\n",
       "      <td>15.0</td>\n",
       "      <td>50.0</td>\n",
       "      <td>131.0</td>\n",
       "      <td>122.0</td>\n",
       "      <td>9.0</td>\n",
       "      <td>3.0</td>\n",
       "      <td>7.0</td>\n",
       "      <td>1440.0</td>\n",
       "    </tr>\n",
       "    <tr>\n",
       "      <th>Canada</th>\n",
       "      <td>2015.0</td>\n",
       "      <td>305.0</td>\n",
       "      <td>238.0</td>\n",
       "      <td>29.0</td>\n",
       "      <td>21.0</td>\n",
       "      <td>15.0</td>\n",
       "      <td>2.0</td>\n",
       "      <td>0.0</td>\n",
       "      <td>186.0</td>\n",
       "      <td>115.0</td>\n",
       "      <td>...</td>\n",
       "      <td>279.0</td>\n",
       "      <td>21.0</td>\n",
       "      <td>6.0</td>\n",
       "      <td>53.0</td>\n",
       "      <td>109.0</td>\n",
       "      <td>89.0</td>\n",
       "      <td>34.0</td>\n",
       "      <td>4.0</td>\n",
       "      <td>30.0</td>\n",
       "      <td>1440.0</td>\n",
       "    </tr>\n",
       "    <tr>\n",
       "      <th>Denmark</th>\n",
       "      <td>2001.0</td>\n",
       "      <td>225.0</td>\n",
       "      <td>177.0</td>\n",
       "      <td>23.0</td>\n",
       "      <td>16.0</td>\n",
       "      <td>9.0</td>\n",
       "      <td>0.0</td>\n",
       "      <td>0.0</td>\n",
       "      <td>217.0</td>\n",
       "      <td>128.0</td>\n",
       "      <td>...</td>\n",
       "      <td>329.0</td>\n",
       "      <td>22.0</td>\n",
       "      <td>7.0</td>\n",
       "      <td>81.0</td>\n",
       "      <td>123.0</td>\n",
       "      <td>95.0</td>\n",
       "      <td>10.0</td>\n",
       "      <td>6.0</td>\n",
       "      <td>4.0</td>\n",
       "      <td>1440.0</td>\n",
       "    </tr>\n",
       "  </tbody>\n",
       "</table>\n",
       "<p>5 rows × 32 columns</p>\n",
       "</div>"
      ],
      "text/plain": [
       "Country      year  paid_work_study  paid_work_(all)  work_school_travel  \\\n",
       "Australia  2006.0            238.0            186.0                25.0   \n",
       "Austria    2008.0            306.0            248.0                29.0   \n",
       "Belgium    2013.0            236.0            168.0                26.0   \n",
       "Canada     2015.0            305.0            238.0                29.0   \n",
       "Denmark    2001.0            225.0            177.0                23.0   \n",
       "\n",
       "Country    in_school  research/homework  job_serach  other_paid_work_study  \\\n",
       "Australia       16.0               11.0         0.0                    0.0   \n",
       "Austria         26.0                1.0         1.0                    1.0   \n",
       "Belgium         27.0               15.0         0.0                    0.0   \n",
       "Canada          21.0               15.0         2.0                    0.0   \n",
       "Denmark         16.0                9.0         0.0                    0.0   \n",
       "\n",
       "Country    unpaid_work  routine_housework  ...  leisure  sports  \\\n",
       "Australia        243.0              132.0  ...    281.0    19.0   \n",
       "Austria          202.0              125.0  ...    291.0    32.0   \n",
       "Belgium          192.0              121.0  ...    339.0    21.0   \n",
       "Canada           186.0              115.0  ...    279.0    21.0   \n",
       "Denmark          217.0              128.0  ...    329.0    22.0   \n",
       "\n",
       "Country    attending_events  meeting_friends  tv_radio  \\\n",
       "Australia               6.0             40.0     140.0   \n",
       "Austria                 9.0             82.0     109.0   \n",
       "Belgium                15.0             50.0     131.0   \n",
       "Canada                  6.0             53.0     109.0   \n",
       "Denmark                 7.0             81.0     123.0   \n",
       "\n",
       "Country    other_leisure_activities  other  religion  other_(no categories)  \\\n",
       "Australia                      76.0   20.0      13.0                    7.0   \n",
       "Austria                        59.0    8.0       3.0                    5.0   \n",
       "Belgium                       122.0    9.0       3.0                    7.0   \n",
       "Canada                         89.0   34.0       4.0                   30.0   \n",
       "Denmark                        95.0   10.0       6.0                    4.0   \n",
       "\n",
       "Country     total  \n",
       "Australia  1440.0  \n",
       "Austria    1440.0  \n",
       "Belgium    1440.0  \n",
       "Canada     1440.0  \n",
       "Denmark    1440.0  \n",
       "\n",
       "[5 rows x 32 columns]"
      ]
     },
     "execution_count": 4,
     "metadata": {},
     "output_type": "execute_result"
    }
   ],
   "source": [
    "oecd_total.head()"
   ]
  },
  {
   "cell_type": "code",
   "execution_count": 5,
   "metadata": {
    "collapsed": false,
    "jupyter": {
     "outputs_hidden": false
    },
    "pycharm": {
     "name": "#%%\n"
    }
   },
   "outputs": [],
   "source": [
    "def select_comparison_rows(df):\n",
    "    temp = df[['paid_work_study', 'unpaid_work', 'personal_care', 'sleeping', 'leisure', 'other']]\n",
    "    df.drop('Mexico', inplace=True)\n",
    "    df.drop('Australia', inplace=True)\n",
    "    df.drop('China', inplace=True)\n",
    "    return temp"
   ]
  },
  {
   "cell_type": "code",
   "execution_count": 6,
   "metadata": {
    "collapsed": false,
    "jupyter": {
     "outputs_hidden": false
    },
    "pycharm": {
     "name": "#%%\n"
    }
   },
   "outputs": [
    {
     "data": {
      "text/html": [
       "<div>\n",
       "<style scoped>\n",
       "    .dataframe tbody tr th:only-of-type {\n",
       "        vertical-align: middle;\n",
       "    }\n",
       "\n",
       "    .dataframe tbody tr th {\n",
       "        vertical-align: top;\n",
       "    }\n",
       "\n",
       "    .dataframe thead th {\n",
       "        text-align: right;\n",
       "    }\n",
       "</style>\n",
       "<table border=\"1\" class=\"dataframe\">\n",
       "  <thead>\n",
       "    <tr style=\"text-align: right;\">\n",
       "      <th>Country</th>\n",
       "      <th>year</th>\n",
       "      <th>paid_work_study</th>\n",
       "      <th>paid_work_(all)</th>\n",
       "      <th>work_school_travel</th>\n",
       "      <th>in_school</th>\n",
       "      <th>research/homework</th>\n",
       "      <th>job_serach</th>\n",
       "      <th>other_paid_work_study</th>\n",
       "      <th>unpaid_work</th>\n",
       "      <th>routine_housework</th>\n",
       "      <th>...</th>\n",
       "      <th>leisure</th>\n",
       "      <th>sports</th>\n",
       "      <th>attending_events</th>\n",
       "      <th>meeting_friends</th>\n",
       "      <th>tv_radio</th>\n",
       "      <th>other_leisure_activities</th>\n",
       "      <th>other</th>\n",
       "      <th>religion</th>\n",
       "      <th>other_(no categories)</th>\n",
       "      <th>total</th>\n",
       "    </tr>\n",
       "  </thead>\n",
       "  <tbody>\n",
       "    <tr>\n",
       "      <th>Australia</th>\n",
       "      <td>2006.0</td>\n",
       "      <td>238.0</td>\n",
       "      <td>186.0</td>\n",
       "      <td>25.0</td>\n",
       "      <td>16.0</td>\n",
       "      <td>11.0</td>\n",
       "      <td>0.0</td>\n",
       "      <td>0.0</td>\n",
       "      <td>243.0</td>\n",
       "      <td>132.0</td>\n",
       "      <td>...</td>\n",
       "      <td>281.0</td>\n",
       "      <td>19.0</td>\n",
       "      <td>6.0</td>\n",
       "      <td>40.0</td>\n",
       "      <td>140.0</td>\n",
       "      <td>76.0</td>\n",
       "      <td>20.0</td>\n",
       "      <td>13.0</td>\n",
       "      <td>7.0</td>\n",
       "      <td>1440.0</td>\n",
       "    </tr>\n",
       "    <tr>\n",
       "      <th>Austria</th>\n",
       "      <td>2008.0</td>\n",
       "      <td>306.0</td>\n",
       "      <td>248.0</td>\n",
       "      <td>29.0</td>\n",
       "      <td>26.0</td>\n",
       "      <td>1.0</td>\n",
       "      <td>1.0</td>\n",
       "      <td>1.0</td>\n",
       "      <td>202.0</td>\n",
       "      <td>125.0</td>\n",
       "      <td>...</td>\n",
       "      <td>291.0</td>\n",
       "      <td>32.0</td>\n",
       "      <td>9.0</td>\n",
       "      <td>82.0</td>\n",
       "      <td>109.0</td>\n",
       "      <td>59.0</td>\n",
       "      <td>8.0</td>\n",
       "      <td>3.0</td>\n",
       "      <td>5.0</td>\n",
       "      <td>1440.0</td>\n",
       "    </tr>\n",
       "    <tr>\n",
       "      <th>Belgium</th>\n",
       "      <td>2013.0</td>\n",
       "      <td>236.0</td>\n",
       "      <td>168.0</td>\n",
       "      <td>26.0</td>\n",
       "      <td>27.0</td>\n",
       "      <td>15.0</td>\n",
       "      <td>0.0</td>\n",
       "      <td>0.0</td>\n",
       "      <td>192.0</td>\n",
       "      <td>121.0</td>\n",
       "      <td>...</td>\n",
       "      <td>339.0</td>\n",
       "      <td>21.0</td>\n",
       "      <td>15.0</td>\n",
       "      <td>50.0</td>\n",
       "      <td>131.0</td>\n",
       "      <td>122.0</td>\n",
       "      <td>9.0</td>\n",
       "      <td>3.0</td>\n",
       "      <td>7.0</td>\n",
       "      <td>1440.0</td>\n",
       "    </tr>\n",
       "    <tr>\n",
       "      <th>Canada</th>\n",
       "      <td>2015.0</td>\n",
       "      <td>305.0</td>\n",
       "      <td>238.0</td>\n",
       "      <td>29.0</td>\n",
       "      <td>21.0</td>\n",
       "      <td>15.0</td>\n",
       "      <td>2.0</td>\n",
       "      <td>0.0</td>\n",
       "      <td>186.0</td>\n",
       "      <td>115.0</td>\n",
       "      <td>...</td>\n",
       "      <td>279.0</td>\n",
       "      <td>21.0</td>\n",
       "      <td>6.0</td>\n",
       "      <td>53.0</td>\n",
       "      <td>109.0</td>\n",
       "      <td>89.0</td>\n",
       "      <td>34.0</td>\n",
       "      <td>4.0</td>\n",
       "      <td>30.0</td>\n",
       "      <td>1440.0</td>\n",
       "    </tr>\n",
       "    <tr>\n",
       "      <th>Denmark</th>\n",
       "      <td>2001.0</td>\n",
       "      <td>225.0</td>\n",
       "      <td>177.0</td>\n",
       "      <td>23.0</td>\n",
       "      <td>16.0</td>\n",
       "      <td>9.0</td>\n",
       "      <td>0.0</td>\n",
       "      <td>0.0</td>\n",
       "      <td>217.0</td>\n",
       "      <td>128.0</td>\n",
       "      <td>...</td>\n",
       "      <td>329.0</td>\n",
       "      <td>22.0</td>\n",
       "      <td>7.0</td>\n",
       "      <td>81.0</td>\n",
       "      <td>123.0</td>\n",
       "      <td>95.0</td>\n",
       "      <td>10.0</td>\n",
       "      <td>6.0</td>\n",
       "      <td>4.0</td>\n",
       "      <td>1440.0</td>\n",
       "    </tr>\n",
       "  </tbody>\n",
       "</table>\n",
       "<p>5 rows × 32 columns</p>\n",
       "</div>"
      ],
      "text/plain": [
       "Country      year  paid_work_study  paid_work_(all)  work_school_travel  \\\n",
       "Australia  2006.0            238.0            186.0                25.0   \n",
       "Austria    2008.0            306.0            248.0                29.0   \n",
       "Belgium    2013.0            236.0            168.0                26.0   \n",
       "Canada     2015.0            305.0            238.0                29.0   \n",
       "Denmark    2001.0            225.0            177.0                23.0   \n",
       "\n",
       "Country    in_school  research/homework  job_serach  other_paid_work_study  \\\n",
       "Australia       16.0               11.0         0.0                    0.0   \n",
       "Austria         26.0                1.0         1.0                    1.0   \n",
       "Belgium         27.0               15.0         0.0                    0.0   \n",
       "Canada          21.0               15.0         2.0                    0.0   \n",
       "Denmark         16.0                9.0         0.0                    0.0   \n",
       "\n",
       "Country    unpaid_work  routine_housework  ...  leisure  sports  \\\n",
       "Australia        243.0              132.0  ...    281.0    19.0   \n",
       "Austria          202.0              125.0  ...    291.0    32.0   \n",
       "Belgium          192.0              121.0  ...    339.0    21.0   \n",
       "Canada           186.0              115.0  ...    279.0    21.0   \n",
       "Denmark          217.0              128.0  ...    329.0    22.0   \n",
       "\n",
       "Country    attending_events  meeting_friends  tv_radio  \\\n",
       "Australia               6.0             40.0     140.0   \n",
       "Austria                 9.0             82.0     109.0   \n",
       "Belgium                15.0             50.0     131.0   \n",
       "Canada                  6.0             53.0     109.0   \n",
       "Denmark                 7.0             81.0     123.0   \n",
       "\n",
       "Country    other_leisure_activities  other  religion  other_(no categories)  \\\n",
       "Australia                      76.0   20.0      13.0                    7.0   \n",
       "Austria                        59.0    8.0       3.0                    5.0   \n",
       "Belgium                       122.0    9.0       3.0                    7.0   \n",
       "Canada                         89.0   34.0       4.0                   30.0   \n",
       "Denmark                        95.0   10.0       6.0                    4.0   \n",
       "\n",
       "Country     total  \n",
       "Australia  1440.0  \n",
       "Austria    1440.0  \n",
       "Belgium    1440.0  \n",
       "Canada     1440.0  \n",
       "Denmark    1440.0  \n",
       "\n",
       "[5 rows x 32 columns]"
      ]
     },
     "execution_count": 6,
     "metadata": {},
     "output_type": "execute_result"
    }
   ],
   "source": [
    "oecd_total.head()\n"
   ]
  },
  {
   "cell_type": "code",
   "execution_count": 7,
   "metadata": {
    "collapsed": false,
    "jupyter": {
     "outputs_hidden": false
    },
    "pycharm": {
     "name": "#%%\n"
    }
   },
   "outputs": [],
   "source": [
    "# total_comp_sections = select_comparison_rows(oecd_total)\n",
    "men_comp_sections = select_comparison_rows(oecd_men)\n",
    "women_comp_sections = select_comparison_rows(oecd_women)\n"
   ]
  },
  {
   "cell_type": "code",
   "execution_count": 8,
   "metadata": {
    "collapsed": false,
    "jupyter": {
     "outputs_hidden": false
    },
    "pycharm": {
     "name": "#%%\n"
    }
   },
   "outputs": [
    {
     "name": "stderr",
     "output_type": "stream",
     "text": [
      "<ipython-input-8-13628d7a9a5b>:1: SettingWithCopyWarning: \n",
      "A value is trying to be set on a copy of a slice from a DataFrame.\n",
      "Try using .loc[row_indexer,col_indexer] = value instead\n",
      "\n",
      "See the caveats in the documentation: https://pandas.pydata.org/pandas-docs/stable/user_guide/indexing.html#returning-a-view-versus-a-copy\n",
      "  men_comp_sections['non_sleep_personal_care'] = men_comp_sections['personal_care'] - men_comp_sections['sleeping']\n",
      "<ipython-input-8-13628d7a9a5b>:2: SettingWithCopyWarning: \n",
      "A value is trying to be set on a copy of a slice from a DataFrame.\n",
      "Try using .loc[row_indexer,col_indexer] = value instead\n",
      "\n",
      "See the caveats in the documentation: https://pandas.pydata.org/pandas-docs/stable/user_guide/indexing.html#returning-a-view-versus-a-copy\n",
      "  women_comp_sections['non_sleep_personal_care'] = women_comp_sections['personal_care'] - women_comp_sections['sleeping']\n"
     ]
    }
   ],
   "source": [
    "men_comp_sections['non_sleep_personal_care'] = men_comp_sections['personal_care'] - men_comp_sections['sleeping']\n",
    "women_comp_sections['non_sleep_personal_care'] = women_comp_sections['personal_care'] - women_comp_sections['sleeping']\n"
   ]
  },
  {
   "cell_type": "code",
   "execution_count": 9,
   "metadata": {
    "collapsed": false,
    "jupyter": {
     "outputs_hidden": false
    },
    "pycharm": {
     "name": "#%%\n"
    }
   },
   "outputs": [
    {
     "name": "stderr",
     "output_type": "stream",
     "text": [
      "/Users/gabrielespiridaviciute/opt/anaconda3/lib/python3.8/site-packages/pandas/core/frame.py:4906: SettingWithCopyWarning: \n",
      "A value is trying to be set on a copy of a slice from a DataFrame\n",
      "\n",
      "See the caveats in the documentation: https://pandas.pydata.org/pandas-docs/stable/user_guide/indexing.html#returning-a-view-versus-a-copy\n",
      "  return super().drop(\n"
     ]
    }
   ],
   "source": [
    "men_comp_sections.drop('personal_care', axis=1, inplace = True)\n",
    "\n",
    "women_comp_sections.drop('personal_care', axis=1, inplace = True)"
   ]
  },
  {
   "cell_type": "markdown",
   "metadata": {
    "pycharm": {
     "name": "#%% md\n"
    }
   },
   "source": [
    "Here we are subtracting the averages for men and women to observe the difference in how men and women are sleeping"
   ]
  },
  {
   "cell_type": "code",
   "execution_count": 10,
   "metadata": {
    "collapsed": false,
    "jupyter": {
     "outputs_hidden": false
    },
    "pycharm": {
     "name": "#%%\n"
    }
   },
   "outputs": [],
   "source": [
    "diff = men_comp_sections - women_comp_sections"
   ]
  },
  {
   "cell_type": "code",
   "execution_count": 11,
   "metadata": {
    "collapsed": false,
    "jupyter": {
     "outputs_hidden": false
    },
    "pycharm": {
     "name": "#%%\n"
    }
   },
   "outputs": [
    {
     "data": {
      "text/html": [
       "<div>\n",
       "<style scoped>\n",
       "    .dataframe tbody tr th:only-of-type {\n",
       "        vertical-align: middle;\n",
       "    }\n",
       "\n",
       "    .dataframe tbody tr th {\n",
       "        vertical-align: top;\n",
       "    }\n",
       "\n",
       "    .dataframe thead th {\n",
       "        text-align: right;\n",
       "    }\n",
       "</style>\n",
       "<table border=\"1\" class=\"dataframe\">\n",
       "  <thead>\n",
       "    <tr style=\"text-align: right;\">\n",
       "      <th>Country</th>\n",
       "      <th>paid_work_study</th>\n",
       "      <th>unpaid_work</th>\n",
       "      <th>sleeping</th>\n",
       "      <th>leisure</th>\n",
       "      <th>other</th>\n",
       "      <th>non_sleep_personal_care</th>\n",
       "    </tr>\n",
       "  </thead>\n",
       "  <tbody>\n",
       "    <tr>\n",
       "      <th>Australia</th>\n",
       "      <td>132</td>\n",
       "      <td>-139</td>\n",
       "      <td>-1</td>\n",
       "      <td>28</td>\n",
       "      <td>-4</td>\n",
       "      <td>-16</td>\n",
       "    </tr>\n",
       "    <tr>\n",
       "      <th>Austria</th>\n",
       "      <td>116</td>\n",
       "      <td>-134</td>\n",
       "      <td>-5</td>\n",
       "      <td>34</td>\n",
       "      <td>1</td>\n",
       "      <td>-12</td>\n",
       "    </tr>\n",
       "    <tr>\n",
       "      <th>Belgium</th>\n",
       "      <td>75</td>\n",
       "      <td>-93</td>\n",
       "      <td>-13</td>\n",
       "      <td>48</td>\n",
       "      <td>-1</td>\n",
       "      <td>-16</td>\n",
       "    </tr>\n",
       "    <tr>\n",
       "      <th>Canada</th>\n",
       "      <td>73</td>\n",
       "      <td>-76</td>\n",
       "      <td>-13</td>\n",
       "      <td>38</td>\n",
       "      <td>-4</td>\n",
       "      <td>-18</td>\n",
       "    </tr>\n",
       "    <tr>\n",
       "      <th>Denmark</th>\n",
       "      <td>65</td>\n",
       "      <td>-57</td>\n",
       "      <td>-18</td>\n",
       "      <td>20</td>\n",
       "      <td>1</td>\n",
       "      <td>-12</td>\n",
       "    </tr>\n",
       "  </tbody>\n",
       "</table>\n",
       "</div>"
      ],
      "text/plain": [
       "Country    paid_work_study  unpaid_work  sleeping  leisure  other  \\\n",
       "Australia              132         -139        -1       28     -4   \n",
       "Austria                116         -134        -5       34      1   \n",
       "Belgium                 75          -93       -13       48     -1   \n",
       "Canada                  73          -76       -13       38     -4   \n",
       "Denmark                 65          -57       -18       20      1   \n",
       "\n",
       "Country    non_sleep_personal_care  \n",
       "Australia                      -16  \n",
       "Austria                        -12  \n",
       "Belgium                        -16  \n",
       "Canada                         -18  \n",
       "Denmark                        -12  "
      ]
     },
     "execution_count": 11,
     "metadata": {},
     "output_type": "execute_result"
    }
   ],
   "source": [
    "diff.head()"
   ]
  },
  {
   "cell_type": "markdown",
   "metadata": {
    "pycharm": {
     "name": "#%% md\n"
    }
   },
   "source": [
    "These lines go over each column in the difference dataframe and describe if they are homogenous or not. From this we find that the only significant non-homogenous groups are the sleep column, and non sleep personal care column."
   ]
  },
  {
   "cell_type": "code",
   "execution_count": 12,
   "metadata": {
    "collapsed": false,
    "jupyter": {
     "outputs_hidden": false
    },
    "pycharm": {
     "name": "#%%\n"
    }
   },
   "outputs": [
    {
     "data": {
      "text/plain": [
       "Country\n",
       "paid_work_study            False\n",
       "unpaid_work                 True\n",
       "sleeping                    True\n",
       "leisure                    False\n",
       "other                       True\n",
       "non_sleep_personal_care     True\n",
       "dtype: bool"
      ]
     },
     "execution_count": 12,
     "metadata": {},
     "output_type": "execute_result"
    }
   ],
   "source": [
    "diff.apply(lambda x: any(x<0))\n"
   ]
  },
  {
   "cell_type": "code",
   "execution_count": 13,
   "metadata": {
    "collapsed": false,
    "jupyter": {
     "outputs_hidden": false
    },
    "pycharm": {
     "name": "#%%\n"
    }
   },
   "outputs": [
    {
     "data": {
      "text/plain": [
       "Country\n",
       "paid_work_study             True\n",
       "unpaid_work                False\n",
       "sleeping                    True\n",
       "leisure                     True\n",
       "other                       True\n",
       "non_sleep_personal_care     True\n",
       "dtype: bool"
      ]
     },
     "execution_count": 13,
     "metadata": {},
     "output_type": "execute_result"
    }
   ],
   "source": [
    "diff.apply(lambda x: any(x>0) )"
   ]
  },
  {
   "cell_type": "code",
   "execution_count": 14,
   "metadata": {
    "collapsed": false,
    "jupyter": {
     "outputs_hidden": false
    },
    "pycharm": {
     "name": "#%%\n"
    }
   },
   "outputs": [
    {
     "data": {
      "text/plain": [
       "Country\n",
       "paid_work_study            False\n",
       "unpaid_work                False\n",
       "sleeping                    True\n",
       "leisure                    False\n",
       "other                       True\n",
       "non_sleep_personal_care     True\n",
       "dtype: bool"
      ]
     },
     "execution_count": 14,
     "metadata": {},
     "output_type": "execute_result"
    }
   ],
   "source": [
    "diff.apply(lambda x: any(x>0) & any(x<0))"
   ]
  },
  {
   "cell_type": "code",
   "execution_count": 15,
   "metadata": {},
   "outputs": [
    {
     "name": "stderr",
     "output_type": "stream",
     "text": [
      "<ipython-input-15-996cb7762f4c>:12: UserWarning: FixedFormatter should only be used together with FixedLocator\n",
      "  ax.set_xticklabels([int(abs(tick)) for tick in ticks])\n"
     ]
    },
    {
     "data": {
      "image/png": "[encoded data removed]",
      "text/plain": [
       "<Figure size 1080x1080 with 1 Axes>"
      ]
     },
     "metadata": {
      "needs_background": "light"
     },
     "output_type": "display_data"
    }
   ],
   "source": [
    "import matplotlib.patches as mpatches\n",
    "\n",
    "male_patch = mpatches.Patch(color = '#c2f1ff', label='Male')\n",
    "felmale_patch = mpatches.Patch(color = '#ffc2ee', label='Female')\n",
    "\n",
    "diff.sort_values(by=['sleeping'], inplace=True)\n",
    "diff\n",
    "\n",
    "fig, ax = plt.subplots(figsize=(15, 15))\n",
    "ax.barh(diff['sleeping'].index,diff['sleeping'], color=(diff['sleeping'] > 0).map({True: '#c2f1ff', False: '#ffc2ee'}))\n",
    "ticks = ax.get_xticks()\n",
    "ax.set_xticklabels([int(abs(tick)) for tick in ticks])\n",
    "\n",
    "ax.legend(handles=[male_patch, felmale_patch], bbox_to_anchor=([1, 0.96, 0, 0]), ncol=1,prop={'size': 20,'family':'Andale Mono'})\n",
    "\n",
    "ax.set_title('Time Difference of Sleep for Men and Women\\n', fontsize=24,fontfamily = 'Andale Mono')\n",
    "ax.set_xlabel('\\nMinutes', fontsize=20,fontfamily = 'Andale Mono')\n",
    "ax.set_ylabel('Country\\n', fontsize=20,fontfamily = 'Andale Mono')\n",
    "\n",
    "\n",
    "ax.xaxis.set_tick_params(labelsize=16)\n",
    "plt.xticks(fontname = 'Andale Mono') \n",
    "ax.yaxis.set_tick_params(labelsize=16)\n",
    "plt.yticks(fontname = 'Andale Mono') \n",
    "\n",
    "\n",
    "fig.tight_layout()\n",
    "plt.savefig('../data_file/graphs/JPG/1001_gender_sleep_difference.jpg',dpi =300)\n",
    "plt.savefig('../data_file/graphs/PNG/1001_gender_sleep_differences.png',dpi =300)"
   ]
  },
  {
   "cell_type": "code",
   "execution_count": 16,
   "metadata": {
    "collapsed": false,
    "jupyter": {
     "outputs_hidden": false
    },
    "pycharm": {
     "name": "#%%\n"
    }
   },
   "outputs": [],
   "source": [
    "male_dominated_sleeping_countries = ['Japan','India', 'Spain',]\n",
    "\n",
    "women_dominated_sleeping_countries = ['Norway', 'Denmark', 'Ireland']"
   ]
  },
  {
   "cell_type": "code",
   "execution_count": 17,
   "metadata": {},
   "outputs": [
    {
     "name": "stderr",
     "output_type": "stream",
     "text": [
      "<ipython-input-17-fa6db7abce6b>:11: UserWarning: FixedFormatter should only be used together with FixedLocator\n",
      "  ax.set_xticklabels([int(abs(tick)) for tick in ticks])\n"
     ]
    },
    {
     "data": {
      "image/png": "[encoded data removed]",
      "text/plain": [
       "<Figure size 1080x1080 with 1 Axes>"
      ]
     },
     "metadata": {
      "needs_background": "light"
     },
     "output_type": "display_data"
    }
   ],
   "source": [
    "diff.sort_values(by=['non_sleep_personal_care'], inplace=True)\n",
    "diff\n",
    "\n",
    "male_patch = mpatches.Patch(color = '#c2f1ff', label='Male')\n",
    "felmale_patch = mpatches.Patch(color = '#ffc2ee', label='Female')\n",
    "\n",
    "\n",
    "fig, ax = plt.subplots(figsize=(15, 15))\n",
    "ax.barh(diff['non_sleep_personal_care'].index,diff['non_sleep_personal_care'], color=(diff['non_sleep_personal_care'] > 0).map({True: '#c2f1ff', False: '#ffc2ee'}))\n",
    "ticks = ax.get_xticks()\n",
    "ax.set_xticklabels([int(abs(tick)) for tick in ticks])\n",
    "\n",
    "\n",
    "ax.legend(handles=[male_patch, felmale_patch], bbox_to_anchor=([1, 0.96, 0, 0]), ncol=1,prop={'size': 20,'family':'Andale Mono'})\n",
    "\n",
    "ax.xaxis.set_tick_params(labelsize=16)\n",
    "plt.xticks(fontname = 'Andale Mono') \n",
    "ax.yaxis.set_tick_params(labelsize=16)\n",
    "plt.yticks(fontname = 'Andale Mono') \n",
    "\n",
    "ax.set_title('Time Difference of Non-Sleeping Activities for Men and Women\\n', fontsize=24,fontfamily = 'Andale Mono')\n",
    "ax.set_xlabel('\\nMinutes', fontsize=20,fontfamily = 'Andale Mono')\n",
    "ax.set_ylabel('Country\\n', fontsize=20,fontfamily = 'Andale Mono')\n",
    "\n",
    "fig.tight_layout()\n",
    "plt.savefig('../data_file/graphs/JPG/1001_gender_non_sleep_difference.jpg',dpi =300)\n",
    "plt.savefig('../data_file/graphs/PNG/1001_gender_non_sleep_differences.png',dpi =300)"
   ]
  },
  {
   "cell_type": "code",
   "execution_count": 18,
   "metadata": {
    "collapsed": false,
    "jupyter": {
     "outputs_hidden": false
    },
    "pycharm": {
     "name": "#%%\n"
    }
   },
   "outputs": [],
   "source": [
    "# diff.plot.scatter(x='sleeping', y='paid_work_study', s=100, alpha=0.5, c='#c2f1ff')"
   ]
  },
  {
   "cell_type": "code",
   "execution_count": 19,
   "metadata": {
    "collapsed": false,
    "jupyter": {
     "outputs_hidden": false
    },
    "pycharm": {
     "name": "#%%\n"
    }
   },
   "outputs": [],
   "source": [
    "# diff.plot.scatter(x='sleeping', y='unpaid_work', s=100, alpha=0.5, c='#ffc2ee')"
   ]
  },
  {
   "cell_type": "code",
   "execution_count": null,
   "metadata": {},
   "outputs": [],
   "source": []
  }
 ],
 "metadata": {
  "kernelspec": {
   "display_name": "Python 3",
   "language": "python",
   "name": "python3"
  },
  "language_info": {
   "codemirror_mode": {
    "name": "ipython",
    "version": 3
   },
   "file_extension": ".py",
   "mimetype": "text/x-python",
   "name": "python",
   "nbconvert_exporter": "python",
   "pygments_lexer": "ipython3",
   "version": "3.8.8"
  }
 },
 "nbformat": 4,
 "nbformat_minor": 4
}
